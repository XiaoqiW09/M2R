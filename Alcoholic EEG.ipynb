{
 "cells": [
  {
   "cell_type": "code",
   "execution_count": 11,
   "metadata": {
    "collapsed": true
   },
   "outputs": [
    {
     "data": {
      "text/html": "        <script type=\"text/javascript\">\n        window.PlotlyConfig = {MathJaxConfig: 'local'};\n        if (window.MathJax && window.MathJax.Hub && window.MathJax.Hub.Config) {window.MathJax.Hub.Config({SVG: {font: \"STIX-Web\"}});}\n        if (typeof require !== 'undefined') {\n        require.undef(\"plotly\");\n        requirejs.config({\n            paths: {\n                'plotly': ['https://cdn.plot.ly/plotly-2.12.1.min']\n            }\n        });\n        require(['plotly'], function(Plotly) {\n            window._Plotly = Plotly;\n        });\n        }\n        </script>\n        "
     },
     "metadata": {},
     "output_type": "display_data"
    }
   ],
   "source": [
    "import numpy as np # linear algebra\n",
    "import pandas as pd # data processing, CSV file I/O (e.g. pd.read_csv)\n",
    "import matplotlib.pyplot as plt\n",
    "import os\n",
    "import random\n",
    "import datetime\n",
    "import iisignature as sig\n",
    "from tqdm import tqdm\n",
    "from plotly.offline import init_notebook_mode, iplot\n",
    "from plot_metric.functions import BinaryClassification\n",
    "from tslearn.neighbors import KNeighborsTimeSeriesClassifier\n",
    "from tslearn.svm import TimeSeriesSVC\n",
    "from sklearn.ensemble import RandomForestClassifier, GradientBoostingClassifier, AdaBoostClassifier\n",
    "from sklearn.linear_model import LogisticRegression\n",
    "from sklearn.svm import SVC\n",
    "from sklearn.neighbors import KNeighborsClassifier\n",
    "from sklearn.metrics import roc_auc_score, accuracy_score\n",
    "\n",
    "\n",
    "init_notebook_mode(connected=True) ## plotly init\n",
    "seed = 123\n",
    "random.seed = seed"
   ]
  },
  {
   "cell_type": "code",
   "execution_count": 12,
   "outputs": [
    {
     "name": "stdout",
     "output_type": "stream",
     "text": [
      "468\n"
     ]
    },
    {
     "name": "stderr",
     "output_type": "stream",
     "text": [
      "  0%|          | 0/468 [00:00<?, ?it/s]C:\\Users\\yousi\\AppData\\Local\\Temp\\ipykernel_24464\\3614737585.py:7: FutureWarning:\n",
      "\n",
      "The frame.append method is deprecated and will be removed from pandas in a future version. Use pandas.concat instead.\n",
      "\n",
      "C:\\Users\\yousi\\AppData\\Local\\Temp\\ipykernel_24464\\3614737585.py:7: FutureWarning:\n",
      "\n",
      "The frame.append method is deprecated and will be removed from pandas in a future version. Use pandas.concat instead.\n",
      "\n",
      "C:\\Users\\yousi\\AppData\\Local\\Temp\\ipykernel_24464\\3614737585.py:7: FutureWarning:\n",
      "\n",
      "The frame.append method is deprecated and will be removed from pandas in a future version. Use pandas.concat instead.\n",
      "\n",
      "C:\\Users\\yousi\\AppData\\Local\\Temp\\ipykernel_24464\\3614737585.py:7: FutureWarning:\n",
      "\n",
      "The frame.append method is deprecated and will be removed from pandas in a future version. Use pandas.concat instead.\n",
      "\n",
      "C:\\Users\\yousi\\AppData\\Local\\Temp\\ipykernel_24464\\3614737585.py:7: FutureWarning:\n",
      "\n",
      "The frame.append method is deprecated and will be removed from pandas in a future version. Use pandas.concat instead.\n",
      "\n",
      "  1%|          | 5/468 [00:00<00:11, 41.98it/s]C:\\Users\\yousi\\AppData\\Local\\Temp\\ipykernel_24464\\3614737585.py:7: FutureWarning:\n",
      "\n",
      "The frame.append method is deprecated and will be removed from pandas in a future version. Use pandas.concat instead.\n",
      "\n",
      "C:\\Users\\yousi\\AppData\\Local\\Temp\\ipykernel_24464\\3614737585.py:7: FutureWarning:\n",
      "\n",
      "The frame.append method is deprecated and will be removed from pandas in a future version. Use pandas.concat instead.\n",
      "\n",
      "C:\\Users\\yousi\\AppData\\Local\\Temp\\ipykernel_24464\\3614737585.py:7: FutureWarning:\n",
      "\n",
      "The frame.append method is deprecated and will be removed from pandas in a future version. Use pandas.concat instead.\n",
      "\n",
      "C:\\Users\\yousi\\AppData\\Local\\Temp\\ipykernel_24464\\3614737585.py:7: FutureWarning:\n",
      "\n",
      "The frame.append method is deprecated and will be removed from pandas in a future version. Use pandas.concat instead.\n",
      "\n",
      "C:\\Users\\yousi\\AppData\\Local\\Temp\\ipykernel_24464\\3614737585.py:7: FutureWarning:\n",
      "\n",
      "The frame.append method is deprecated and will be removed from pandas in a future version. Use pandas.concat instead.\n",
      "\n",
      "  2%|▏         | 10/468 [00:00<00:11, 41.11it/s]C:\\Users\\yousi\\AppData\\Local\\Temp\\ipykernel_24464\\3614737585.py:7: FutureWarning:\n",
      "\n",
      "The frame.append method is deprecated and will be removed from pandas in a future version. Use pandas.concat instead.\n",
      "\n",
      "C:\\Users\\yousi\\AppData\\Local\\Temp\\ipykernel_24464\\3614737585.py:7: FutureWarning:\n",
      "\n",
      "The frame.append method is deprecated and will be removed from pandas in a future version. Use pandas.concat instead.\n",
      "\n",
      "C:\\Users\\yousi\\AppData\\Local\\Temp\\ipykernel_24464\\3614737585.py:7: FutureWarning:\n",
      "\n",
      "The frame.append method is deprecated and will be removed from pandas in a future version. Use pandas.concat instead.\n",
      "\n",
      "C:\\Users\\yousi\\AppData\\Local\\Temp\\ipykernel_24464\\3614737585.py:7: FutureWarning:\n",
      "\n",
      "The frame.append method is deprecated and will be removed from pandas in a future version. Use pandas.concat instead.\n",
      "\n",
      "C:\\Users\\yousi\\AppData\\Local\\Temp\\ipykernel_24464\\3614737585.py:7: FutureWarning:\n",
      "\n",
      "The frame.append method is deprecated and will be removed from pandas in a future version. Use pandas.concat instead.\n",
      "\n",
      "  3%|▎         | 15/468 [00:00<00:11, 38.99it/s]C:\\Users\\yousi\\AppData\\Local\\Temp\\ipykernel_24464\\3614737585.py:7: FutureWarning:\n",
      "\n",
      "The frame.append method is deprecated and will be removed from pandas in a future version. Use pandas.concat instead.\n",
      "\n",
      "C:\\Users\\yousi\\AppData\\Local\\Temp\\ipykernel_24464\\3614737585.py:7: FutureWarning:\n",
      "\n",
      "The frame.append method is deprecated and will be removed from pandas in a future version. Use pandas.concat instead.\n",
      "\n",
      "C:\\Users\\yousi\\AppData\\Local\\Temp\\ipykernel_24464\\3614737585.py:7: FutureWarning:\n",
      "\n",
      "The frame.append method is deprecated and will be removed from pandas in a future version. Use pandas.concat instead.\n",
      "\n",
      "C:\\Users\\yousi\\AppData\\Local\\Temp\\ipykernel_24464\\3614737585.py:7: FutureWarning:\n",
      "\n",
      "The frame.append method is deprecated and will be removed from pandas in a future version. Use pandas.concat instead.\n",
      "\n",
      "  4%|▍         | 19/468 [00:00<00:11, 38.39it/s]C:\\Users\\yousi\\AppData\\Local\\Temp\\ipykernel_24464\\3614737585.py:7: FutureWarning:\n",
      "\n",
      "The frame.append method is deprecated and will be removed from pandas in a future version. Use pandas.concat instead.\n",
      "\n",
      "C:\\Users\\yousi\\AppData\\Local\\Temp\\ipykernel_24464\\3614737585.py:7: FutureWarning:\n",
      "\n",
      "The frame.append method is deprecated and will be removed from pandas in a future version. Use pandas.concat instead.\n",
      "\n",
      "C:\\Users\\yousi\\AppData\\Local\\Temp\\ipykernel_24464\\3614737585.py:7: FutureWarning:\n",
      "\n",
      "The frame.append method is deprecated and will be removed from pandas in a future version. Use pandas.concat instead.\n",
      "\n",
      "C:\\Users\\yousi\\AppData\\Local\\Temp\\ipykernel_24464\\3614737585.py:7: FutureWarning:\n",
      "\n",
      "The frame.append method is deprecated and will be removed from pandas in a future version. Use pandas.concat instead.\n",
      "\n",
      "  5%|▍         | 23/468 [00:00<00:12, 36.23it/s]C:\\Users\\yousi\\AppData\\Local\\Temp\\ipykernel_24464\\3614737585.py:7: FutureWarning:\n",
      "\n",
      "The frame.append method is deprecated and will be removed from pandas in a future version. Use pandas.concat instead.\n",
      "\n",
      "C:\\Users\\yousi\\AppData\\Local\\Temp\\ipykernel_24464\\3614737585.py:7: FutureWarning:\n",
      "\n",
      "The frame.append method is deprecated and will be removed from pandas in a future version. Use pandas.concat instead.\n",
      "\n",
      "C:\\Users\\yousi\\AppData\\Local\\Temp\\ipykernel_24464\\3614737585.py:7: FutureWarning:\n",
      "\n",
      "The frame.append method is deprecated and will be removed from pandas in a future version. Use pandas.concat instead.\n",
      "\n",
      "C:\\Users\\yousi\\AppData\\Local\\Temp\\ipykernel_24464\\3614737585.py:7: FutureWarning:\n",
      "\n",
      "The frame.append method is deprecated and will be removed from pandas in a future version. Use pandas.concat instead.\n",
      "\n",
      "  6%|▌         | 27/468 [00:00<00:13, 33.04it/s]C:\\Users\\yousi\\AppData\\Local\\Temp\\ipykernel_24464\\3614737585.py:7: FutureWarning:\n",
      "\n",
      "The frame.append method is deprecated and will be removed from pandas in a future version. Use pandas.concat instead.\n",
      "\n",
      "C:\\Users\\yousi\\AppData\\Local\\Temp\\ipykernel_24464\\3614737585.py:7: FutureWarning:\n",
      "\n",
      "The frame.append method is deprecated and will be removed from pandas in a future version. Use pandas.concat instead.\n",
      "\n",
      "C:\\Users\\yousi\\AppData\\Local\\Temp\\ipykernel_24464\\3614737585.py:7: FutureWarning:\n",
      "\n",
      "The frame.append method is deprecated and will be removed from pandas in a future version. Use pandas.concat instead.\n",
      "\n",
      "C:\\Users\\yousi\\AppData\\Local\\Temp\\ipykernel_24464\\3614737585.py:7: FutureWarning:\n",
      "\n",
      "The frame.append method is deprecated and will be removed from pandas in a future version. Use pandas.concat instead.\n",
      "\n",
      "  7%|▋         | 31/468 [00:00<00:13, 31.97it/s]C:\\Users\\yousi\\AppData\\Local\\Temp\\ipykernel_24464\\3614737585.py:7: FutureWarning:\n",
      "\n",
      "The frame.append method is deprecated and will be removed from pandas in a future version. Use pandas.concat instead.\n",
      "\n",
      "C:\\Users\\yousi\\AppData\\Local\\Temp\\ipykernel_24464\\3614737585.py:7: FutureWarning:\n",
      "\n",
      "The frame.append method is deprecated and will be removed from pandas in a future version. Use pandas.concat instead.\n",
      "\n",
      "C:\\Users\\yousi\\AppData\\Local\\Temp\\ipykernel_24464\\3614737585.py:7: FutureWarning:\n",
      "\n",
      "The frame.append method is deprecated and will be removed from pandas in a future version. Use pandas.concat instead.\n",
      "\n",
      "C:\\Users\\yousi\\AppData\\Local\\Temp\\ipykernel_24464\\3614737585.py:7: FutureWarning:\n",
      "\n",
      "The frame.append method is deprecated and will be removed from pandas in a future version. Use pandas.concat instead.\n",
      "\n",
      "  7%|▋         | 35/468 [00:01<00:15, 28.22it/s]C:\\Users\\yousi\\AppData\\Local\\Temp\\ipykernel_24464\\3614737585.py:7: FutureWarning:\n",
      "\n",
      "The frame.append method is deprecated and will be removed from pandas in a future version. Use pandas.concat instead.\n",
      "\n",
      "C:\\Users\\yousi\\AppData\\Local\\Temp\\ipykernel_24464\\3614737585.py:7: FutureWarning:\n",
      "\n",
      "The frame.append method is deprecated and will be removed from pandas in a future version. Use pandas.concat instead.\n",
      "\n",
      "C:\\Users\\yousi\\AppData\\Local\\Temp\\ipykernel_24464\\3614737585.py:7: FutureWarning:\n",
      "\n",
      "The frame.append method is deprecated and will be removed from pandas in a future version. Use pandas.concat instead.\n",
      "\n",
      "  8%|▊         | 38/468 [00:01<00:15, 27.84it/s]C:\\Users\\yousi\\AppData\\Local\\Temp\\ipykernel_24464\\3614737585.py:7: FutureWarning:\n",
      "\n",
      "The frame.append method is deprecated and will be removed from pandas in a future version. Use pandas.concat instead.\n",
      "\n",
      "C:\\Users\\yousi\\AppData\\Local\\Temp\\ipykernel_24464\\3614737585.py:7: FutureWarning:\n",
      "\n",
      "The frame.append method is deprecated and will be removed from pandas in a future version. Use pandas.concat instead.\n",
      "\n",
      "C:\\Users\\yousi\\AppData\\Local\\Temp\\ipykernel_24464\\3614737585.py:7: FutureWarning:\n",
      "\n",
      "The frame.append method is deprecated and will be removed from pandas in a future version. Use pandas.concat instead.\n",
      "\n",
      "  9%|▉         | 41/468 [00:01<00:17, 24.75it/s]C:\\Users\\yousi\\AppData\\Local\\Temp\\ipykernel_24464\\3614737585.py:7: FutureWarning:\n",
      "\n",
      "The frame.append method is deprecated and will be removed from pandas in a future version. Use pandas.concat instead.\n",
      "\n",
      "C:\\Users\\yousi\\AppData\\Local\\Temp\\ipykernel_24464\\3614737585.py:7: FutureWarning:\n",
      "\n",
      "The frame.append method is deprecated and will be removed from pandas in a future version. Use pandas.concat instead.\n",
      "\n",
      "C:\\Users\\yousi\\AppData\\Local\\Temp\\ipykernel_24464\\3614737585.py:7: FutureWarning:\n",
      "\n",
      "The frame.append method is deprecated and will be removed from pandas in a future version. Use pandas.concat instead.\n",
      "\n",
      "  9%|▉         | 44/468 [00:01<00:16, 25.56it/s]C:\\Users\\yousi\\AppData\\Local\\Temp\\ipykernel_24464\\3614737585.py:7: FutureWarning:\n",
      "\n",
      "The frame.append method is deprecated and will be removed from pandas in a future version. Use pandas.concat instead.\n",
      "\n",
      "C:\\Users\\yousi\\AppData\\Local\\Temp\\ipykernel_24464\\3614737585.py:7: FutureWarning:\n",
      "\n",
      "The frame.append method is deprecated and will be removed from pandas in a future version. Use pandas.concat instead.\n",
      "\n",
      "C:\\Users\\yousi\\AppData\\Local\\Temp\\ipykernel_24464\\3614737585.py:7: FutureWarning:\n",
      "\n",
      "The frame.append method is deprecated and will be removed from pandas in a future version. Use pandas.concat instead.\n",
      "\n",
      " 10%|█         | 47/468 [00:01<00:18, 23.14it/s]C:\\Users\\yousi\\AppData\\Local\\Temp\\ipykernel_24464\\3614737585.py:7: FutureWarning:\n",
      "\n",
      "The frame.append method is deprecated and will be removed from pandas in a future version. Use pandas.concat instead.\n",
      "\n",
      "C:\\Users\\yousi\\AppData\\Local\\Temp\\ipykernel_24464\\3614737585.py:7: FutureWarning:\n",
      "\n",
      "The frame.append method is deprecated and will be removed from pandas in a future version. Use pandas.concat instead.\n",
      "\n",
      "C:\\Users\\yousi\\AppData\\Local\\Temp\\ipykernel_24464\\3614737585.py:7: FutureWarning:\n",
      "\n",
      "The frame.append method is deprecated and will be removed from pandas in a future version. Use pandas.concat instead.\n",
      "\n",
      " 11%|█         | 50/468 [00:01<00:18, 23.17it/s]C:\\Users\\yousi\\AppData\\Local\\Temp\\ipykernel_24464\\3614737585.py:7: FutureWarning:\n",
      "\n",
      "The frame.append method is deprecated and will be removed from pandas in a future version. Use pandas.concat instead.\n",
      "\n",
      "C:\\Users\\yousi\\AppData\\Local\\Temp\\ipykernel_24464\\3614737585.py:7: FutureWarning:\n",
      "\n",
      "The frame.append method is deprecated and will be removed from pandas in a future version. Use pandas.concat instead.\n",
      "\n",
      "C:\\Users\\yousi\\AppData\\Local\\Temp\\ipykernel_24464\\3614737585.py:7: FutureWarning:\n",
      "\n",
      "The frame.append method is deprecated and will be removed from pandas in a future version. Use pandas.concat instead.\n",
      "\n",
      " 11%|█▏        | 53/468 [00:01<00:19, 21.54it/s]C:\\Users\\yousi\\AppData\\Local\\Temp\\ipykernel_24464\\3614737585.py:7: FutureWarning:\n",
      "\n",
      "The frame.append method is deprecated and will be removed from pandas in a future version. Use pandas.concat instead.\n",
      "\n",
      "C:\\Users\\yousi\\AppData\\Local\\Temp\\ipykernel_24464\\3614737585.py:7: FutureWarning:\n",
      "\n",
      "The frame.append method is deprecated and will be removed from pandas in a future version. Use pandas.concat instead.\n",
      "\n",
      "C:\\Users\\yousi\\AppData\\Local\\Temp\\ipykernel_24464\\3614737585.py:7: FutureWarning:\n",
      "\n",
      "The frame.append method is deprecated and will be removed from pandas in a future version. Use pandas.concat instead.\n",
      "\n",
      " 12%|█▏        | 56/468 [00:02<00:18, 22.74it/s]C:\\Users\\yousi\\AppData\\Local\\Temp\\ipykernel_24464\\3614737585.py:7: FutureWarning:\n",
      "\n",
      "The frame.append method is deprecated and will be removed from pandas in a future version. Use pandas.concat instead.\n",
      "\n",
      "C:\\Users\\yousi\\AppData\\Local\\Temp\\ipykernel_24464\\3614737585.py:7: FutureWarning:\n",
      "\n",
      "The frame.append method is deprecated and will be removed from pandas in a future version. Use pandas.concat instead.\n",
      "\n",
      "C:\\Users\\yousi\\AppData\\Local\\Temp\\ipykernel_24464\\3614737585.py:7: FutureWarning:\n",
      "\n",
      "The frame.append method is deprecated and will be removed from pandas in a future version. Use pandas.concat instead.\n",
      "\n",
      " 13%|█▎        | 59/468 [00:02<00:19, 20.57it/s]C:\\Users\\yousi\\AppData\\Local\\Temp\\ipykernel_24464\\3614737585.py:7: FutureWarning:\n",
      "\n",
      "The frame.append method is deprecated and will be removed from pandas in a future version. Use pandas.concat instead.\n",
      "\n",
      "C:\\Users\\yousi\\AppData\\Local\\Temp\\ipykernel_24464\\3614737585.py:7: FutureWarning:\n",
      "\n",
      "The frame.append method is deprecated and will be removed from pandas in a future version. Use pandas.concat instead.\n",
      "\n",
      "C:\\Users\\yousi\\AppData\\Local\\Temp\\ipykernel_24464\\3614737585.py:7: FutureWarning:\n",
      "\n",
      "The frame.append method is deprecated and will be removed from pandas in a future version. Use pandas.concat instead.\n",
      "\n",
      " 13%|█▎        | 62/468 [00:02<00:19, 21.03it/s]C:\\Users\\yousi\\AppData\\Local\\Temp\\ipykernel_24464\\3614737585.py:7: FutureWarning:\n",
      "\n",
      "The frame.append method is deprecated and will be removed from pandas in a future version. Use pandas.concat instead.\n",
      "\n",
      "C:\\Users\\yousi\\AppData\\Local\\Temp\\ipykernel_24464\\3614737585.py:7: FutureWarning:\n",
      "\n",
      "The frame.append method is deprecated and will be removed from pandas in a future version. Use pandas.concat instead.\n",
      "\n",
      "C:\\Users\\yousi\\AppData\\Local\\Temp\\ipykernel_24464\\3614737585.py:7: FutureWarning:\n",
      "\n",
      "The frame.append method is deprecated and will be removed from pandas in a future version. Use pandas.concat instead.\n",
      "\n",
      " 14%|█▍        | 65/468 [00:02<00:21, 18.99it/s]C:\\Users\\yousi\\AppData\\Local\\Temp\\ipykernel_24464\\3614737585.py:7: FutureWarning:\n",
      "\n",
      "The frame.append method is deprecated and will be removed from pandas in a future version. Use pandas.concat instead.\n",
      "\n",
      "C:\\Users\\yousi\\AppData\\Local\\Temp\\ipykernel_24464\\3614737585.py:7: FutureWarning:\n",
      "\n",
      "The frame.append method is deprecated and will be removed from pandas in a future version. Use pandas.concat instead.\n",
      "\n",
      "C:\\Users\\yousi\\AppData\\Local\\Temp\\ipykernel_24464\\3614737585.py:7: FutureWarning:\n",
      "\n",
      "The frame.append method is deprecated and will be removed from pandas in a future version. Use pandas.concat instead.\n",
      "\n",
      " 15%|█▍        | 68/468 [00:02<00:19, 20.04it/s]C:\\Users\\yousi\\AppData\\Local\\Temp\\ipykernel_24464\\3614737585.py:7: FutureWarning:\n",
      "\n",
      "The frame.append method is deprecated and will be removed from pandas in a future version. Use pandas.concat instead.\n",
      "\n",
      "C:\\Users\\yousi\\AppData\\Local\\Temp\\ipykernel_24464\\3614737585.py:7: FutureWarning:\n",
      "\n",
      "The frame.append method is deprecated and will be removed from pandas in a future version. Use pandas.concat instead.\n",
      "\n",
      "C:\\Users\\yousi\\AppData\\Local\\Temp\\ipykernel_24464\\3614737585.py:7: FutureWarning:\n",
      "\n",
      "The frame.append method is deprecated and will be removed from pandas in a future version. Use pandas.concat instead.\n",
      "\n",
      " 15%|█▌        | 71/468 [00:02<00:21, 18.48it/s]C:\\Users\\yousi\\AppData\\Local\\Temp\\ipykernel_24464\\3614737585.py:7: FutureWarning:\n",
      "\n",
      "The frame.append method is deprecated and will be removed from pandas in a future version. Use pandas.concat instead.\n",
      "\n",
      "C:\\Users\\yousi\\AppData\\Local\\Temp\\ipykernel_24464\\3614737585.py:7: FutureWarning:\n",
      "\n",
      "The frame.append method is deprecated and will be removed from pandas in a future version. Use pandas.concat instead.\n",
      "\n",
      "C:\\Users\\yousi\\AppData\\Local\\Temp\\ipykernel_24464\\3614737585.py:7: FutureWarning:\n",
      "\n",
      "The frame.append method is deprecated and will be removed from pandas in a future version. Use pandas.concat instead.\n",
      "\n",
      " 16%|█▌        | 74/468 [00:02<00:20, 19.38it/s]C:\\Users\\yousi\\AppData\\Local\\Temp\\ipykernel_24464\\3614737585.py:7: FutureWarning:\n",
      "\n",
      "The frame.append method is deprecated and will be removed from pandas in a future version. Use pandas.concat instead.\n",
      "\n",
      "C:\\Users\\yousi\\AppData\\Local\\Temp\\ipykernel_24464\\3614737585.py:7: FutureWarning:\n",
      "\n",
      "The frame.append method is deprecated and will be removed from pandas in a future version. Use pandas.concat instead.\n",
      "\n",
      "C:\\Users\\yousi\\AppData\\Local\\Temp\\ipykernel_24464\\3614737585.py:7: FutureWarning:\n",
      "\n",
      "The frame.append method is deprecated and will be removed from pandas in a future version. Use pandas.concat instead.\n",
      "\n",
      " 16%|█▋        | 77/468 [00:03<00:22, 17.50it/s]C:\\Users\\yousi\\AppData\\Local\\Temp\\ipykernel_24464\\3614737585.py:7: FutureWarning:\n",
      "\n",
      "The frame.append method is deprecated and will be removed from pandas in a future version. Use pandas.concat instead.\n",
      "\n",
      "C:\\Users\\yousi\\AppData\\Local\\Temp\\ipykernel_24464\\3614737585.py:7: FutureWarning:\n",
      "\n",
      "The frame.append method is deprecated and will be removed from pandas in a future version. Use pandas.concat instead.\n",
      "\n",
      " 17%|█▋        | 79/468 [00:03<00:21, 18.00it/s]C:\\Users\\yousi\\AppData\\Local\\Temp\\ipykernel_24464\\3614737585.py:7: FutureWarning:\n",
      "\n",
      "The frame.append method is deprecated and will be removed from pandas in a future version. Use pandas.concat instead.\n",
      "\n",
      "C:\\Users\\yousi\\AppData\\Local\\Temp\\ipykernel_24464\\3614737585.py:7: FutureWarning:\n",
      "\n",
      "The frame.append method is deprecated and will be removed from pandas in a future version. Use pandas.concat instead.\n",
      "\n",
      " 17%|█▋        | 81/468 [00:03<00:24, 16.12it/s]C:\\Users\\yousi\\AppData\\Local\\Temp\\ipykernel_24464\\3614737585.py:7: FutureWarning:\n",
      "\n",
      "The frame.append method is deprecated and will be removed from pandas in a future version. Use pandas.concat instead.\n",
      "\n",
      "C:\\Users\\yousi\\AppData\\Local\\Temp\\ipykernel_24464\\3614737585.py:7: FutureWarning:\n",
      "\n",
      "The frame.append method is deprecated and will be removed from pandas in a future version. Use pandas.concat instead.\n",
      "\n",
      "C:\\Users\\yousi\\AppData\\Local\\Temp\\ipykernel_24464\\3614737585.py:7: FutureWarning:\n",
      "\n",
      "The frame.append method is deprecated and will be removed from pandas in a future version. Use pandas.concat instead.\n",
      "\n",
      " 18%|█▊        | 84/468 [00:03<00:22, 17.19it/s]C:\\Users\\yousi\\AppData\\Local\\Temp\\ipykernel_24464\\3614737585.py:7: FutureWarning:\n",
      "\n",
      "The frame.append method is deprecated and will be removed from pandas in a future version. Use pandas.concat instead.\n",
      "\n",
      "C:\\Users\\yousi\\AppData\\Local\\Temp\\ipykernel_24464\\3614737585.py:7: FutureWarning:\n",
      "\n",
      "The frame.append method is deprecated and will be removed from pandas in a future version. Use pandas.concat instead.\n",
      "\n",
      "C:\\Users\\yousi\\AppData\\Local\\Temp\\ipykernel_24464\\3614737585.py:7: FutureWarning:\n",
      "\n",
      "The frame.append method is deprecated and will be removed from pandas in a future version. Use pandas.concat instead.\n",
      "\n",
      " 19%|█▊        | 87/468 [00:03<00:23, 16.00it/s]C:\\Users\\yousi\\AppData\\Local\\Temp\\ipykernel_24464\\3614737585.py:7: FutureWarning:\n",
      "\n",
      "The frame.append method is deprecated and will be removed from pandas in a future version. Use pandas.concat instead.\n",
      "\n",
      "C:\\Users\\yousi\\AppData\\Local\\Temp\\ipykernel_24464\\3614737585.py:7: FutureWarning:\n",
      "\n",
      "The frame.append method is deprecated and will be removed from pandas in a future version. Use pandas.concat instead.\n",
      "\n",
      " 19%|█▉        | 89/468 [00:03<00:23, 16.38it/s]C:\\Users\\yousi\\AppData\\Local\\Temp\\ipykernel_24464\\3614737585.py:7: FutureWarning:\n",
      "\n",
      "The frame.append method is deprecated and will be removed from pandas in a future version. Use pandas.concat instead.\n",
      "\n",
      "C:\\Users\\yousi\\AppData\\Local\\Temp\\ipykernel_24464\\3614737585.py:7: FutureWarning:\n",
      "\n",
      "The frame.append method is deprecated and will be removed from pandas in a future version. Use pandas.concat instead.\n",
      "\n",
      "C:\\Users\\yousi\\AppData\\Local\\Temp\\ipykernel_24464\\3614737585.py:7: FutureWarning:\n",
      "\n",
      "The frame.append method is deprecated and will be removed from pandas in a future version. Use pandas.concat instead.\n",
      "\n",
      " 20%|█▉        | 92/468 [00:04<00:21, 17.55it/s]C:\\Users\\yousi\\AppData\\Local\\Temp\\ipykernel_24464\\3614737585.py:7: FutureWarning:\n",
      "\n",
      "The frame.append method is deprecated and will be removed from pandas in a future version. Use pandas.concat instead.\n",
      "\n",
      "C:\\Users\\yousi\\AppData\\Local\\Temp\\ipykernel_24464\\3614737585.py:7: FutureWarning:\n",
      "\n",
      "The frame.append method is deprecated and will be removed from pandas in a future version. Use pandas.concat instead.\n",
      "\n",
      " 20%|██        | 94/468 [00:04<00:23, 15.64it/s]C:\\Users\\yousi\\AppData\\Local\\Temp\\ipykernel_24464\\3614737585.py:7: FutureWarning:\n",
      "\n",
      "The frame.append method is deprecated and will be removed from pandas in a future version. Use pandas.concat instead.\n",
      "\n",
      "C:\\Users\\yousi\\AppData\\Local\\Temp\\ipykernel_24464\\3614737585.py:7: FutureWarning:\n",
      "\n",
      "The frame.append method is deprecated and will be removed from pandas in a future version. Use pandas.concat instead.\n",
      "\n",
      " 21%|██        | 96/468 [00:04<00:22, 16.57it/s]C:\\Users\\yousi\\AppData\\Local\\Temp\\ipykernel_24464\\3614737585.py:7: FutureWarning:\n",
      "\n",
      "The frame.append method is deprecated and will be removed from pandas in a future version. Use pandas.concat instead.\n",
      "\n",
      "C:\\Users\\yousi\\AppData\\Local\\Temp\\ipykernel_24464\\3614737585.py:7: FutureWarning:\n",
      "\n",
      "The frame.append method is deprecated and will be removed from pandas in a future version. Use pandas.concat instead.\n",
      "\n",
      "C:\\Users\\yousi\\AppData\\Local\\Temp\\ipykernel_24464\\3614737585.py:7: FutureWarning:\n",
      "\n",
      "The frame.append method is deprecated and will be removed from pandas in a future version. Use pandas.concat instead.\n",
      "\n",
      " 21%|██        | 99/468 [00:04<00:23, 15.53it/s]C:\\Users\\yousi\\AppData\\Local\\Temp\\ipykernel_24464\\3614737585.py:7: FutureWarning:\n",
      "\n",
      "The frame.append method is deprecated and will be removed from pandas in a future version. Use pandas.concat instead.\n",
      "\n",
      "C:\\Users\\yousi\\AppData\\Local\\Temp\\ipykernel_24464\\3614737585.py:7: FutureWarning:\n",
      "\n",
      "The frame.append method is deprecated and will be removed from pandas in a future version. Use pandas.concat instead.\n",
      "\n",
      " 22%|██▏       | 101/468 [00:04<00:22, 16.17it/s]C:\\Users\\yousi\\AppData\\Local\\Temp\\ipykernel_24464\\3614737585.py:7: FutureWarning:\n",
      "\n",
      "The frame.append method is deprecated and will be removed from pandas in a future version. Use pandas.concat instead.\n",
      "\n",
      "C:\\Users\\yousi\\AppData\\Local\\Temp\\ipykernel_24464\\3614737585.py:7: FutureWarning:\n",
      "\n",
      "The frame.append method is deprecated and will be removed from pandas in a future version. Use pandas.concat instead.\n",
      "\n",
      " 22%|██▏       | 103/468 [00:04<00:21, 16.64it/s]C:\\Users\\yousi\\AppData\\Local\\Temp\\ipykernel_24464\\3614737585.py:7: FutureWarning:\n",
      "\n",
      "The frame.append method is deprecated and will be removed from pandas in a future version. Use pandas.concat instead.\n",
      "\n",
      "C:\\Users\\yousi\\AppData\\Local\\Temp\\ipykernel_24464\\3614737585.py:7: FutureWarning:\n",
      "\n",
      "The frame.append method is deprecated and will be removed from pandas in a future version. Use pandas.concat instead.\n",
      "\n",
      " 22%|██▏       | 105/468 [00:04<00:25, 14.46it/s]C:\\Users\\yousi\\AppData\\Local\\Temp\\ipykernel_24464\\3614737585.py:7: FutureWarning:\n",
      "\n",
      "The frame.append method is deprecated and will be removed from pandas in a future version. Use pandas.concat instead.\n",
      "\n",
      "C:\\Users\\yousi\\AppData\\Local\\Temp\\ipykernel_24464\\3614737585.py:7: FutureWarning:\n",
      "\n",
      "The frame.append method is deprecated and will be removed from pandas in a future version. Use pandas.concat instead.\n",
      "\n",
      " 23%|██▎       | 107/468 [00:05<00:23, 15.22it/s]C:\\Users\\yousi\\AppData\\Local\\Temp\\ipykernel_24464\\3614737585.py:7: FutureWarning:\n",
      "\n",
      "The frame.append method is deprecated and will be removed from pandas in a future version. Use pandas.concat instead.\n",
      "\n",
      "C:\\Users\\yousi\\AppData\\Local\\Temp\\ipykernel_24464\\3614737585.py:7: FutureWarning:\n",
      "\n",
      "The frame.append method is deprecated and will be removed from pandas in a future version. Use pandas.concat instead.\n",
      "\n",
      " 23%|██▎       | 109/468 [00:05<00:22, 15.69it/s]C:\\Users\\yousi\\AppData\\Local\\Temp\\ipykernel_24464\\3614737585.py:7: FutureWarning:\n",
      "\n",
      "The frame.append method is deprecated and will be removed from pandas in a future version. Use pandas.concat instead.\n",
      "\n",
      "C:\\Users\\yousi\\AppData\\Local\\Temp\\ipykernel_24464\\3614737585.py:7: FutureWarning:\n",
      "\n",
      "The frame.append method is deprecated and will be removed from pandas in a future version. Use pandas.concat instead.\n",
      "\n",
      " 24%|██▎       | 111/468 [00:05<00:26, 13.48it/s]C:\\Users\\yousi\\AppData\\Local\\Temp\\ipykernel_24464\\3614737585.py:7: FutureWarning:\n",
      "\n",
      "The frame.append method is deprecated and will be removed from pandas in a future version. Use pandas.concat instead.\n",
      "\n",
      "C:\\Users\\yousi\\AppData\\Local\\Temp\\ipykernel_24464\\3614737585.py:7: FutureWarning:\n",
      "\n",
      "The frame.append method is deprecated and will be removed from pandas in a future version. Use pandas.concat instead.\n",
      "\n",
      " 24%|██▍       | 113/468 [00:05<00:24, 14.71it/s]C:\\Users\\yousi\\AppData\\Local\\Temp\\ipykernel_24464\\3614737585.py:7: FutureWarning:\n",
      "\n",
      "The frame.append method is deprecated and will be removed from pandas in a future version. Use pandas.concat instead.\n",
      "\n",
      "C:\\Users\\yousi\\AppData\\Local\\Temp\\ipykernel_24464\\3614737585.py:7: FutureWarning:\n",
      "\n",
      "The frame.append method is deprecated and will be removed from pandas in a future version. Use pandas.concat instead.\n",
      "\n",
      "C:\\Users\\yousi\\AppData\\Local\\Temp\\ipykernel_24464\\3614737585.py:7: FutureWarning:\n",
      "\n",
      "The frame.append method is deprecated and will be removed from pandas in a future version. Use pandas.concat instead.\n",
      "\n",
      " 25%|██▍       | 116/468 [00:05<00:21, 16.05it/s]C:\\Users\\yousi\\AppData\\Local\\Temp\\ipykernel_24464\\3614737585.py:7: FutureWarning:\n",
      "\n",
      "The frame.append method is deprecated and will be removed from pandas in a future version. Use pandas.concat instead.\n",
      "\n",
      "C:\\Users\\yousi\\AppData\\Local\\Temp\\ipykernel_24464\\3614737585.py:7: FutureWarning:\n",
      "\n",
      "The frame.append method is deprecated and will be removed from pandas in a future version. Use pandas.concat instead.\n",
      "\n",
      " 25%|██▌       | 118/468 [00:05<00:25, 13.79it/s]C:\\Users\\yousi\\AppData\\Local\\Temp\\ipykernel_24464\\3614737585.py:7: FutureWarning:\n",
      "\n",
      "The frame.append method is deprecated and will be removed from pandas in a future version. Use pandas.concat instead.\n",
      "\n",
      "C:\\Users\\yousi\\AppData\\Local\\Temp\\ipykernel_24464\\3614737585.py:7: FutureWarning:\n",
      "\n",
      "The frame.append method is deprecated and will be removed from pandas in a future version. Use pandas.concat instead.\n",
      "\n",
      " 26%|██▌       | 120/468 [00:05<00:23, 14.61it/s]C:\\Users\\yousi\\AppData\\Local\\Temp\\ipykernel_24464\\3614737585.py:7: FutureWarning:\n",
      "\n",
      "The frame.append method is deprecated and will be removed from pandas in a future version. Use pandas.concat instead.\n",
      "\n",
      "C:\\Users\\yousi\\AppData\\Local\\Temp\\ipykernel_24464\\3614737585.py:7: FutureWarning:\n",
      "\n",
      "The frame.append method is deprecated and will be removed from pandas in a future version. Use pandas.concat instead.\n",
      "\n",
      " 26%|██▌       | 122/468 [00:06<00:23, 14.79it/s]C:\\Users\\yousi\\AppData\\Local\\Temp\\ipykernel_24464\\3614737585.py:7: FutureWarning:\n",
      "\n",
      "The frame.append method is deprecated and will be removed from pandas in a future version. Use pandas.concat instead.\n",
      "\n",
      "C:\\Users\\yousi\\AppData\\Local\\Temp\\ipykernel_24464\\3614737585.py:7: FutureWarning:\n",
      "\n",
      "The frame.append method is deprecated and will be removed from pandas in a future version. Use pandas.concat instead.\n",
      "\n",
      " 26%|██▋       | 124/468 [00:06<00:27, 12.47it/s]C:\\Users\\yousi\\AppData\\Local\\Temp\\ipykernel_24464\\3614737585.py:7: FutureWarning:\n",
      "\n",
      "The frame.append method is deprecated and will be removed from pandas in a future version. Use pandas.concat instead.\n",
      "\n",
      "C:\\Users\\yousi\\AppData\\Local\\Temp\\ipykernel_24464\\3614737585.py:7: FutureWarning:\n",
      "\n",
      "The frame.append method is deprecated and will be removed from pandas in a future version. Use pandas.concat instead.\n",
      "\n",
      " 27%|██▋       | 126/468 [00:06<00:25, 13.54it/s]C:\\Users\\yousi\\AppData\\Local\\Temp\\ipykernel_24464\\3614737585.py:7: FutureWarning:\n",
      "\n",
      "The frame.append method is deprecated and will be removed from pandas in a future version. Use pandas.concat instead.\n",
      "\n",
      "C:\\Users\\yousi\\AppData\\Local\\Temp\\ipykernel_24464\\3614737585.py:7: FutureWarning:\n",
      "\n",
      "The frame.append method is deprecated and will be removed from pandas in a future version. Use pandas.concat instead.\n",
      "\n",
      " 27%|██▋       | 128/468 [00:06<00:22, 14.83it/s]C:\\Users\\yousi\\AppData\\Local\\Temp\\ipykernel_24464\\3614737585.py:7: FutureWarning:\n",
      "\n",
      "The frame.append method is deprecated and will be removed from pandas in a future version. Use pandas.concat instead.\n",
      "\n",
      "C:\\Users\\yousi\\AppData\\Local\\Temp\\ipykernel_24464\\3614737585.py:7: FutureWarning:\n",
      "\n",
      "The frame.append method is deprecated and will be removed from pandas in a future version. Use pandas.concat instead.\n",
      "\n",
      " 28%|██▊       | 130/468 [00:06<00:27, 12.40it/s]C:\\Users\\yousi\\AppData\\Local\\Temp\\ipykernel_24464\\3614737585.py:7: FutureWarning:\n",
      "\n",
      "The frame.append method is deprecated and will be removed from pandas in a future version. Use pandas.concat instead.\n",
      "\n",
      "C:\\Users\\yousi\\AppData\\Local\\Temp\\ipykernel_24464\\3614737585.py:7: FutureWarning:\n",
      "\n",
      "The frame.append method is deprecated and will be removed from pandas in a future version. Use pandas.concat instead.\n",
      "\n",
      " 28%|██▊       | 132/468 [00:06<00:25, 13.23it/s]C:\\Users\\yousi\\AppData\\Local\\Temp\\ipykernel_24464\\3614737585.py:7: FutureWarning:\n",
      "\n",
      "The frame.append method is deprecated and will be removed from pandas in a future version. Use pandas.concat instead.\n",
      "\n",
      "C:\\Users\\yousi\\AppData\\Local\\Temp\\ipykernel_24464\\3614737585.py:7: FutureWarning:\n",
      "\n",
      "The frame.append method is deprecated and will be removed from pandas in a future version. Use pandas.concat instead.\n",
      "\n",
      " 29%|██▊       | 134/468 [00:07<00:24, 13.86it/s]C:\\Users\\yousi\\AppData\\Local\\Temp\\ipykernel_24464\\3614737585.py:7: FutureWarning:\n",
      "\n",
      "The frame.append method is deprecated and will be removed from pandas in a future version. Use pandas.concat instead.\n",
      "\n",
      "C:\\Users\\yousi\\AppData\\Local\\Temp\\ipykernel_24464\\3614737585.py:7: FutureWarning:\n",
      "\n",
      "The frame.append method is deprecated and will be removed from pandas in a future version. Use pandas.concat instead.\n",
      "\n",
      " 29%|██▉       | 136/468 [00:07<00:28, 11.75it/s]C:\\Users\\yousi\\AppData\\Local\\Temp\\ipykernel_24464\\3614737585.py:7: FutureWarning:\n",
      "\n",
      "The frame.append method is deprecated and will be removed from pandas in a future version. Use pandas.concat instead.\n",
      "\n",
      "C:\\Users\\yousi\\AppData\\Local\\Temp\\ipykernel_24464\\3614737585.py:7: FutureWarning:\n",
      "\n",
      "The frame.append method is deprecated and will be removed from pandas in a future version. Use pandas.concat instead.\n",
      "\n",
      " 29%|██▉       | 138/468 [00:07<00:26, 12.69it/s]C:\\Users\\yousi\\AppData\\Local\\Temp\\ipykernel_24464\\3614737585.py:7: FutureWarning:\n",
      "\n",
      "The frame.append method is deprecated and will be removed from pandas in a future version. Use pandas.concat instead.\n",
      "\n",
      "C:\\Users\\yousi\\AppData\\Local\\Temp\\ipykernel_24464\\3614737585.py:7: FutureWarning:\n",
      "\n",
      "The frame.append method is deprecated and will be removed from pandas in a future version. Use pandas.concat instead.\n",
      "\n",
      " 30%|██▉       | 140/468 [00:07<00:23, 14.04it/s]C:\\Users\\yousi\\AppData\\Local\\Temp\\ipykernel_24464\\3614737585.py:7: FutureWarning:\n",
      "\n",
      "The frame.append method is deprecated and will be removed from pandas in a future version. Use pandas.concat instead.\n",
      "\n",
      "C:\\Users\\yousi\\AppData\\Local\\Temp\\ipykernel_24464\\3614737585.py:7: FutureWarning:\n",
      "\n",
      "The frame.append method is deprecated and will be removed from pandas in a future version. Use pandas.concat instead.\n",
      "\n",
      " 30%|███       | 142/468 [00:07<00:27, 11.83it/s]C:\\Users\\yousi\\AppData\\Local\\Temp\\ipykernel_24464\\3614737585.py:7: FutureWarning:\n",
      "\n",
      "The frame.append method is deprecated and will be removed from pandas in a future version. Use pandas.concat instead.\n",
      "\n",
      "C:\\Users\\yousi\\AppData\\Local\\Temp\\ipykernel_24464\\3614737585.py:7: FutureWarning:\n",
      "\n",
      "The frame.append method is deprecated and will be removed from pandas in a future version. Use pandas.concat instead.\n",
      "\n",
      " 31%|███       | 144/468 [00:07<00:25, 12.61it/s]C:\\Users\\yousi\\AppData\\Local\\Temp\\ipykernel_24464\\3614737585.py:7: FutureWarning:\n",
      "\n",
      "The frame.append method is deprecated and will be removed from pandas in a future version. Use pandas.concat instead.\n",
      "\n",
      "C:\\Users\\yousi\\AppData\\Local\\Temp\\ipykernel_24464\\3614737585.py:7: FutureWarning:\n",
      "\n",
      "The frame.append method is deprecated and will be removed from pandas in a future version. Use pandas.concat instead.\n",
      "\n",
      " 31%|███       | 146/468 [00:08<00:24, 13.21it/s]C:\\Users\\yousi\\AppData\\Local\\Temp\\ipykernel_24464\\3614737585.py:7: FutureWarning:\n",
      "\n",
      "The frame.append method is deprecated and will be removed from pandas in a future version. Use pandas.concat instead.\n",
      "\n",
      "C:\\Users\\yousi\\AppData\\Local\\Temp\\ipykernel_24464\\3614737585.py:7: FutureWarning:\n",
      "\n",
      "The frame.append method is deprecated and will be removed from pandas in a future version. Use pandas.concat instead.\n",
      "\n",
      " 32%|███▏      | 148/468 [00:08<00:28, 11.16it/s]C:\\Users\\yousi\\AppData\\Local\\Temp\\ipykernel_24464\\3614737585.py:7: FutureWarning:\n",
      "\n",
      "The frame.append method is deprecated and will be removed from pandas in a future version. Use pandas.concat instead.\n",
      "\n",
      "C:\\Users\\yousi\\AppData\\Local\\Temp\\ipykernel_24464\\3614737585.py:7: FutureWarning:\n",
      "\n",
      "The frame.append method is deprecated and will be removed from pandas in a future version. Use pandas.concat instead.\n",
      "\n",
      " 32%|███▏      | 150/468 [00:08<00:26, 12.01it/s]C:\\Users\\yousi\\AppData\\Local\\Temp\\ipykernel_24464\\3614737585.py:7: FutureWarning:\n",
      "\n",
      "The frame.append method is deprecated and will be removed from pandas in a future version. Use pandas.concat instead.\n",
      "\n",
      "C:\\Users\\yousi\\AppData\\Local\\Temp\\ipykernel_24464\\3614737585.py:7: FutureWarning:\n",
      "\n",
      "The frame.append method is deprecated and will be removed from pandas in a future version. Use pandas.concat instead.\n",
      "\n",
      " 32%|███▏      | 152/468 [00:08<00:24, 13.16it/s]C:\\Users\\yousi\\AppData\\Local\\Temp\\ipykernel_24464\\3614737585.py:7: FutureWarning:\n",
      "\n",
      "The frame.append method is deprecated and will be removed from pandas in a future version. Use pandas.concat instead.\n",
      "\n",
      "C:\\Users\\yousi\\AppData\\Local\\Temp\\ipykernel_24464\\3614737585.py:7: FutureWarning:\n",
      "\n",
      "The frame.append method is deprecated and will be removed from pandas in a future version. Use pandas.concat instead.\n",
      "\n",
      " 33%|███▎      | 154/468 [00:08<00:28, 11.06it/s]C:\\Users\\yousi\\AppData\\Local\\Temp\\ipykernel_24464\\3614737585.py:7: FutureWarning:\n",
      "\n",
      "The frame.append method is deprecated and will be removed from pandas in a future version. Use pandas.concat instead.\n",
      "\n",
      "C:\\Users\\yousi\\AppData\\Local\\Temp\\ipykernel_24464\\3614737585.py:7: FutureWarning:\n",
      "\n",
      "The frame.append method is deprecated and will be removed from pandas in a future version. Use pandas.concat instead.\n",
      "\n",
      " 33%|███▎      | 156/468 [00:08<00:26, 11.83it/s]C:\\Users\\yousi\\AppData\\Local\\Temp\\ipykernel_24464\\3614737585.py:7: FutureWarning:\n",
      "\n",
      "The frame.append method is deprecated and will be removed from pandas in a future version. Use pandas.concat instead.\n",
      "\n",
      "C:\\Users\\yousi\\AppData\\Local\\Temp\\ipykernel_24464\\3614737585.py:7: FutureWarning:\n",
      "\n",
      "The frame.append method is deprecated and will be removed from pandas in a future version. Use pandas.concat instead.\n",
      "\n",
      " 34%|███▍      | 158/468 [00:09<00:25, 12.34it/s]C:\\Users\\yousi\\AppData\\Local\\Temp\\ipykernel_24464\\3614737585.py:7: FutureWarning:\n",
      "\n",
      "The frame.append method is deprecated and will be removed from pandas in a future version. Use pandas.concat instead.\n",
      "\n",
      "C:\\Users\\yousi\\AppData\\Local\\Temp\\ipykernel_24464\\3614737585.py:7: FutureWarning:\n",
      "\n",
      "The frame.append method is deprecated and will be removed from pandas in a future version. Use pandas.concat instead.\n",
      "\n",
      " 34%|███▍      | 160/468 [00:09<00:29, 10.41it/s]C:\\Users\\yousi\\AppData\\Local\\Temp\\ipykernel_24464\\3614737585.py:7: FutureWarning:\n",
      "\n",
      "The frame.append method is deprecated and will be removed from pandas in a future version. Use pandas.concat instead.\n",
      "\n",
      "C:\\Users\\yousi\\AppData\\Local\\Temp\\ipykernel_24464\\3614737585.py:7: FutureWarning:\n",
      "\n",
      "The frame.append method is deprecated and will be removed from pandas in a future version. Use pandas.concat instead.\n",
      "\n",
      " 35%|███▍      | 162/468 [00:09<00:27, 11.31it/s]C:\\Users\\yousi\\AppData\\Local\\Temp\\ipykernel_24464\\3614737585.py:7: FutureWarning:\n",
      "\n",
      "The frame.append method is deprecated and will be removed from pandas in a future version. Use pandas.concat instead.\n",
      "\n",
      "C:\\Users\\yousi\\AppData\\Local\\Temp\\ipykernel_24464\\3614737585.py:7: FutureWarning:\n",
      "\n",
      "The frame.append method is deprecated and will be removed from pandas in a future version. Use pandas.concat instead.\n",
      "\n",
      " 35%|███▌      | 164/468 [00:09<00:23, 12.68it/s]C:\\Users\\yousi\\AppData\\Local\\Temp\\ipykernel_24464\\3614737585.py:7: FutureWarning:\n",
      "\n",
      "The frame.append method is deprecated and will be removed from pandas in a future version. Use pandas.concat instead.\n",
      "\n",
      "C:\\Users\\yousi\\AppData\\Local\\Temp\\ipykernel_24464\\3614737585.py:7: FutureWarning:\n",
      "\n",
      "The frame.append method is deprecated and will be removed from pandas in a future version. Use pandas.concat instead.\n",
      "\n",
      " 35%|███▌      | 166/468 [00:09<00:28, 10.50it/s]C:\\Users\\yousi\\AppData\\Local\\Temp\\ipykernel_24464\\3614737585.py:7: FutureWarning:\n",
      "\n",
      "The frame.append method is deprecated and will be removed from pandas in a future version. Use pandas.concat instead.\n",
      "\n",
      "C:\\Users\\yousi\\AppData\\Local\\Temp\\ipykernel_24464\\3614737585.py:7: FutureWarning:\n",
      "\n",
      "The frame.append method is deprecated and will be removed from pandas in a future version. Use pandas.concat instead.\n",
      "\n",
      " 36%|███▌      | 168/468 [00:09<00:26, 11.29it/s]C:\\Users\\yousi\\AppData\\Local\\Temp\\ipykernel_24464\\3614737585.py:7: FutureWarning:\n",
      "\n",
      "The frame.append method is deprecated and will be removed from pandas in a future version. Use pandas.concat instead.\n",
      "\n",
      "C:\\Users\\yousi\\AppData\\Local\\Temp\\ipykernel_24464\\3614737585.py:7: FutureWarning:\n",
      "\n",
      "The frame.append method is deprecated and will be removed from pandas in a future version. Use pandas.concat instead.\n",
      "\n",
      " 36%|███▋      | 170/468 [00:10<00:25, 11.73it/s]C:\\Users\\yousi\\AppData\\Local\\Temp\\ipykernel_24464\\3614737585.py:7: FutureWarning:\n",
      "\n",
      "The frame.append method is deprecated and will be removed from pandas in a future version. Use pandas.concat instead.\n",
      "\n",
      "C:\\Users\\yousi\\AppData\\Local\\Temp\\ipykernel_24464\\3614737585.py:7: FutureWarning:\n",
      "\n",
      "The frame.append method is deprecated and will be removed from pandas in a future version. Use pandas.concat instead.\n",
      "\n",
      " 37%|███▋      | 172/468 [00:10<00:30,  9.62it/s]C:\\Users\\yousi\\AppData\\Local\\Temp\\ipykernel_24464\\3614737585.py:7: FutureWarning:\n",
      "\n",
      "The frame.append method is deprecated and will be removed from pandas in a future version. Use pandas.concat instead.\n",
      "\n",
      "C:\\Users\\yousi\\AppData\\Local\\Temp\\ipykernel_24464\\3614737585.py:7: FutureWarning:\n",
      "\n",
      "The frame.append method is deprecated and will be removed from pandas in a future version. Use pandas.concat instead.\n",
      "\n",
      " 37%|███▋      | 174/468 [00:10<00:27, 10.76it/s]C:\\Users\\yousi\\AppData\\Local\\Temp\\ipykernel_24464\\3614737585.py:7: FutureWarning:\n",
      "\n",
      "The frame.append method is deprecated and will be removed from pandas in a future version. Use pandas.concat instead.\n",
      "\n",
      "C:\\Users\\yousi\\AppData\\Local\\Temp\\ipykernel_24464\\3614737585.py:7: FutureWarning:\n",
      "\n",
      "The frame.append method is deprecated and will be removed from pandas in a future version. Use pandas.concat instead.\n",
      "\n",
      " 38%|███▊      | 176/468 [00:10<00:24, 12.08it/s]C:\\Users\\yousi\\AppData\\Local\\Temp\\ipykernel_24464\\3614737585.py:7: FutureWarning:\n",
      "\n",
      "The frame.append method is deprecated and will be removed from pandas in a future version. Use pandas.concat instead.\n",
      "\n",
      "C:\\Users\\yousi\\AppData\\Local\\Temp\\ipykernel_24464\\3614737585.py:7: FutureWarning:\n",
      "\n",
      "The frame.append method is deprecated and will be removed from pandas in a future version. Use pandas.concat instead.\n",
      "\n",
      " 38%|███▊      | 178/468 [00:10<00:29,  9.89it/s]C:\\Users\\yousi\\AppData\\Local\\Temp\\ipykernel_24464\\3614737585.py:7: FutureWarning:\n",
      "\n",
      "The frame.append method is deprecated and will be removed from pandas in a future version. Use pandas.concat instead.\n",
      "\n",
      "C:\\Users\\yousi\\AppData\\Local\\Temp\\ipykernel_24464\\3614737585.py:7: FutureWarning:\n",
      "\n",
      "The frame.append method is deprecated and will be removed from pandas in a future version. Use pandas.concat instead.\n",
      "\n",
      " 38%|███▊      | 180/468 [00:11<00:27, 10.49it/s]C:\\Users\\yousi\\AppData\\Local\\Temp\\ipykernel_24464\\3614737585.py:7: FutureWarning:\n",
      "\n",
      "The frame.append method is deprecated and will be removed from pandas in a future version. Use pandas.concat instead.\n",
      "\n",
      "C:\\Users\\yousi\\AppData\\Local\\Temp\\ipykernel_24464\\3614737585.py:7: FutureWarning:\n",
      "\n",
      "The frame.append method is deprecated and will be removed from pandas in a future version. Use pandas.concat instead.\n",
      "\n",
      " 39%|███▉      | 182/468 [00:11<00:26, 10.99it/s]C:\\Users\\yousi\\AppData\\Local\\Temp\\ipykernel_24464\\3614737585.py:7: FutureWarning:\n",
      "\n",
      "The frame.append method is deprecated and will be removed from pandas in a future version. Use pandas.concat instead.\n",
      "\n",
      "C:\\Users\\yousi\\AppData\\Local\\Temp\\ipykernel_24464\\3614737585.py:7: FutureWarning:\n",
      "\n",
      "The frame.append method is deprecated and will be removed from pandas in a future version. Use pandas.concat instead.\n",
      "\n",
      " 39%|███▉      | 184/468 [00:11<00:30,  9.29it/s]C:\\Users\\yousi\\AppData\\Local\\Temp\\ipykernel_24464\\3614737585.py:7: FutureWarning:\n",
      "\n",
      "The frame.append method is deprecated and will be removed from pandas in a future version. Use pandas.concat instead.\n",
      "\n",
      "C:\\Users\\yousi\\AppData\\Local\\Temp\\ipykernel_24464\\3614737585.py:7: FutureWarning:\n",
      "\n",
      "The frame.append method is deprecated and will be removed from pandas in a future version. Use pandas.concat instead.\n",
      "\n",
      " 40%|███▉      | 186/468 [00:11<00:26, 10.66it/s]C:\\Users\\yousi\\AppData\\Local\\Temp\\ipykernel_24464\\3614737585.py:7: FutureWarning:\n",
      "\n",
      "The frame.append method is deprecated and will be removed from pandas in a future version. Use pandas.concat instead.\n",
      "\n",
      "C:\\Users\\yousi\\AppData\\Local\\Temp\\ipykernel_24464\\3614737585.py:7: FutureWarning:\n",
      "\n",
      "The frame.append method is deprecated and will be removed from pandas in a future version. Use pandas.concat instead.\n",
      "\n",
      " 40%|████      | 188/468 [00:11<00:23, 11.67it/s]C:\\Users\\yousi\\AppData\\Local\\Temp\\ipykernel_24464\\3614737585.py:7: FutureWarning:\n",
      "\n",
      "The frame.append method is deprecated and will be removed from pandas in a future version. Use pandas.concat instead.\n",
      "\n",
      "C:\\Users\\yousi\\AppData\\Local\\Temp\\ipykernel_24464\\3614737585.py:7: FutureWarning:\n",
      "\n",
      "The frame.append method is deprecated and will be removed from pandas in a future version. Use pandas.concat instead.\n",
      "\n",
      " 41%|████      | 190/468 [00:12<00:31,  8.95it/s]C:\\Users\\yousi\\AppData\\Local\\Temp\\ipykernel_24464\\3614737585.py:7: FutureWarning:\n",
      "\n",
      "The frame.append method is deprecated and will be removed from pandas in a future version. Use pandas.concat instead.\n",
      "\n",
      "C:\\Users\\yousi\\AppData\\Local\\Temp\\ipykernel_24464\\3614737585.py:7: FutureWarning:\n",
      "\n",
      "The frame.append method is deprecated and will be removed from pandas in a future version. Use pandas.concat instead.\n",
      "\n",
      " 41%|████      | 192/468 [00:12<00:28,  9.70it/s]C:\\Users\\yousi\\AppData\\Local\\Temp\\ipykernel_24464\\3614737585.py:7: FutureWarning:\n",
      "\n",
      "The frame.append method is deprecated and will be removed from pandas in a future version. Use pandas.concat instead.\n",
      "\n",
      "C:\\Users\\yousi\\AppData\\Local\\Temp\\ipykernel_24464\\3614737585.py:7: FutureWarning:\n",
      "\n",
      "The frame.append method is deprecated and will be removed from pandas in a future version. Use pandas.concat instead.\n",
      "\n",
      " 41%|████▏     | 194/468 [00:12<00:26, 10.53it/s]C:\\Users\\yousi\\AppData\\Local\\Temp\\ipykernel_24464\\3614737585.py:7: FutureWarning:\n",
      "\n",
      "The frame.append method is deprecated and will be removed from pandas in a future version. Use pandas.concat instead.\n",
      "\n",
      "C:\\Users\\yousi\\AppData\\Local\\Temp\\ipykernel_24464\\3614737585.py:7: FutureWarning:\n",
      "\n",
      "The frame.append method is deprecated and will be removed from pandas in a future version. Use pandas.concat instead.\n",
      "\n",
      " 42%|████▏     | 196/468 [00:12<00:31,  8.68it/s]C:\\Users\\yousi\\AppData\\Local\\Temp\\ipykernel_24464\\3614737585.py:7: FutureWarning:\n",
      "\n",
      "The frame.append method is deprecated and will be removed from pandas in a future version. Use pandas.concat instead.\n",
      "\n",
      "C:\\Users\\yousi\\AppData\\Local\\Temp\\ipykernel_24464\\3614737585.py:7: FutureWarning:\n",
      "\n",
      "The frame.append method is deprecated and will be removed from pandas in a future version. Use pandas.concat instead.\n",
      "\n",
      " 42%|████▏     | 198/468 [00:12<00:28,  9.40it/s]C:\\Users\\yousi\\AppData\\Local\\Temp\\ipykernel_24464\\3614737585.py:7: FutureWarning:\n",
      "\n",
      "The frame.append method is deprecated and will be removed from pandas in a future version. Use pandas.concat instead.\n",
      "\n",
      "C:\\Users\\yousi\\AppData\\Local\\Temp\\ipykernel_24464\\3614737585.py:7: FutureWarning:\n",
      "\n",
      "The frame.append method is deprecated and will be removed from pandas in a future version. Use pandas.concat instead.\n",
      "\n",
      " 43%|████▎     | 200/468 [00:13<00:26,  9.97it/s]C:\\Users\\yousi\\AppData\\Local\\Temp\\ipykernel_24464\\3614737585.py:7: FutureWarning:\n",
      "\n",
      "The frame.append method is deprecated and will be removed from pandas in a future version. Use pandas.concat instead.\n",
      "\n",
      "C:\\Users\\yousi\\AppData\\Local\\Temp\\ipykernel_24464\\3614737585.py:7: FutureWarning:\n",
      "\n",
      "The frame.append method is deprecated and will be removed from pandas in a future version. Use pandas.concat instead.\n",
      "\n",
      " 43%|████▎     | 202/468 [00:13<00:32,  8.23it/s]C:\\Users\\yousi\\AppData\\Local\\Temp\\ipykernel_24464\\3614737585.py:7: FutureWarning:\n",
      "\n",
      "The frame.append method is deprecated and will be removed from pandas in a future version. Use pandas.concat instead.\n",
      "\n",
      "C:\\Users\\yousi\\AppData\\Local\\Temp\\ipykernel_24464\\3614737585.py:7: FutureWarning:\n",
      "\n",
      "The frame.append method is deprecated and will be removed from pandas in a future version. Use pandas.concat instead.\n",
      "\n",
      " 44%|████▎     | 204/468 [00:13<00:28,  9.18it/s]C:\\Users\\yousi\\AppData\\Local\\Temp\\ipykernel_24464\\3614737585.py:7: FutureWarning:\n",
      "\n",
      "The frame.append method is deprecated and will be removed from pandas in a future version. Use pandas.concat instead.\n",
      "\n",
      "C:\\Users\\yousi\\AppData\\Local\\Temp\\ipykernel_24464\\3614737585.py:7: FutureWarning:\n",
      "\n",
      "The frame.append method is deprecated and will be removed from pandas in a future version. Use pandas.concat instead.\n",
      "\n",
      " 44%|████▍     | 206/468 [00:13<00:26, 10.01it/s]C:\\Users\\yousi\\AppData\\Local\\Temp\\ipykernel_24464\\3614737585.py:7: FutureWarning:\n",
      "\n",
      "The frame.append method is deprecated and will be removed from pandas in a future version. Use pandas.concat instead.\n",
      "\n",
      "C:\\Users\\yousi\\AppData\\Local\\Temp\\ipykernel_24464\\3614737585.py:7: FutureWarning:\n",
      "\n",
      "The frame.append method is deprecated and will be removed from pandas in a future version. Use pandas.concat instead.\n",
      "\n",
      " 44%|████▍     | 208/468 [00:14<00:30,  8.46it/s]C:\\Users\\yousi\\AppData\\Local\\Temp\\ipykernel_24464\\3614737585.py:7: FutureWarning:\n",
      "\n",
      "The frame.append method is deprecated and will be removed from pandas in a future version. Use pandas.concat instead.\n",
      "\n",
      "C:\\Users\\yousi\\AppData\\Local\\Temp\\ipykernel_24464\\3614737585.py:7: FutureWarning:\n",
      "\n",
      "The frame.append method is deprecated and will be removed from pandas in a future version. Use pandas.concat instead.\n",
      "\n",
      " 45%|████▍     | 210/468 [00:14<00:28,  9.15it/s]C:\\Users\\yousi\\AppData\\Local\\Temp\\ipykernel_24464\\3614737585.py:7: FutureWarning:\n",
      "\n",
      "The frame.append method is deprecated and will be removed from pandas in a future version. Use pandas.concat instead.\n",
      "\n",
      "C:\\Users\\yousi\\AppData\\Local\\Temp\\ipykernel_24464\\3614737585.py:7: FutureWarning:\n",
      "\n",
      "The frame.append method is deprecated and will be removed from pandas in a future version. Use pandas.concat instead.\n",
      "\n",
      " 45%|████▌     | 212/468 [00:14<00:26,  9.55it/s]C:\\Users\\yousi\\AppData\\Local\\Temp\\ipykernel_24464\\3614737585.py:7: FutureWarning:\n",
      "\n",
      "The frame.append method is deprecated and will be removed from pandas in a future version. Use pandas.concat instead.\n",
      "\n",
      "C:\\Users\\yousi\\AppData\\Local\\Temp\\ipykernel_24464\\3614737585.py:7: FutureWarning:\n",
      "\n",
      "The frame.append method is deprecated and will be removed from pandas in a future version. Use pandas.concat instead.\n",
      "\n",
      " 46%|████▌     | 214/468 [00:14<00:31,  8.17it/s]C:\\Users\\yousi\\AppData\\Local\\Temp\\ipykernel_24464\\3614737585.py:7: FutureWarning:\n",
      "\n",
      "The frame.append method is deprecated and will be removed from pandas in a future version. Use pandas.concat instead.\n",
      "\n",
      "C:\\Users\\yousi\\AppData\\Local\\Temp\\ipykernel_24464\\3614737585.py:7: FutureWarning:\n",
      "\n",
      "The frame.append method is deprecated and will be removed from pandas in a future version. Use pandas.concat instead.\n",
      "\n",
      " 46%|████▌     | 216/468 [00:14<00:27,  9.31it/s]C:\\Users\\yousi\\AppData\\Local\\Temp\\ipykernel_24464\\3614737585.py:7: FutureWarning:\n",
      "\n",
      "The frame.append method is deprecated and will be removed from pandas in a future version. Use pandas.concat instead.\n",
      "\n",
      "C:\\Users\\yousi\\AppData\\Local\\Temp\\ipykernel_24464\\3614737585.py:7: FutureWarning:\n",
      "\n",
      "The frame.append method is deprecated and will be removed from pandas in a future version. Use pandas.concat instead.\n",
      "\n",
      " 47%|████▋     | 218/468 [00:15<00:23, 10.53it/s]C:\\Users\\yousi\\AppData\\Local\\Temp\\ipykernel_24464\\3614737585.py:7: FutureWarning:\n",
      "\n",
      "The frame.append method is deprecated and will be removed from pandas in a future version. Use pandas.concat instead.\n",
      "\n",
      "C:\\Users\\yousi\\AppData\\Local\\Temp\\ipykernel_24464\\3614737585.py:7: FutureWarning:\n",
      "\n",
      "The frame.append method is deprecated and will be removed from pandas in a future version. Use pandas.concat instead.\n",
      "\n",
      " 47%|████▋     | 220/468 [00:15<00:28,  8.66it/s]C:\\Users\\yousi\\AppData\\Local\\Temp\\ipykernel_24464\\3614737585.py:7: FutureWarning:\n",
      "\n",
      "The frame.append method is deprecated and will be removed from pandas in a future version. Use pandas.concat instead.\n",
      "\n",
      "C:\\Users\\yousi\\AppData\\Local\\Temp\\ipykernel_24464\\3614737585.py:7: FutureWarning:\n",
      "\n",
      "The frame.append method is deprecated and will be removed from pandas in a future version. Use pandas.concat instead.\n",
      "\n",
      " 47%|████▋     | 222/468 [00:15<00:26,  9.27it/s]C:\\Users\\yousi\\AppData\\Local\\Temp\\ipykernel_24464\\3614737585.py:7: FutureWarning:\n",
      "\n",
      "The frame.append method is deprecated and will be removed from pandas in a future version. Use pandas.concat instead.\n",
      "\n",
      "C:\\Users\\yousi\\AppData\\Local\\Temp\\ipykernel_24464\\3614737585.py:7: FutureWarning:\n",
      "\n",
      "The frame.append method is deprecated and will be removed from pandas in a future version. Use pandas.concat instead.\n",
      "\n",
      " 48%|████▊     | 224/468 [00:15<00:23, 10.27it/s]C:\\Users\\yousi\\AppData\\Local\\Temp\\ipykernel_24464\\3614737585.py:7: FutureWarning:\n",
      "\n",
      "The frame.append method is deprecated and will be removed from pandas in a future version. Use pandas.concat instead.\n",
      "\n",
      "C:\\Users\\yousi\\AppData\\Local\\Temp\\ipykernel_24464\\3614737585.py:7: FutureWarning:\n",
      "\n",
      "The frame.append method is deprecated and will be removed from pandas in a future version. Use pandas.concat instead.\n",
      "\n",
      " 48%|████▊     | 226/468 [00:16<00:28,  8.64it/s]C:\\Users\\yousi\\AppData\\Local\\Temp\\ipykernel_24464\\3614737585.py:7: FutureWarning:\n",
      "\n",
      "The frame.append method is deprecated and will be removed from pandas in a future version. Use pandas.concat instead.\n",
      "\n",
      " 49%|████▊     | 227/468 [00:16<00:27,  8.85it/s]C:\\Users\\yousi\\AppData\\Local\\Temp\\ipykernel_24464\\3614737585.py:7: FutureWarning:\n",
      "\n",
      "The frame.append method is deprecated and will be removed from pandas in a future version. Use pandas.concat instead.\n",
      "\n",
      "C:\\Users\\yousi\\AppData\\Local\\Temp\\ipykernel_24464\\3614737585.py:7: FutureWarning:\n",
      "\n",
      "The frame.append method is deprecated and will be removed from pandas in a future version. Use pandas.concat instead.\n",
      "\n",
      " 49%|████▉     | 229/468 [00:16<00:26,  9.17it/s]C:\\Users\\yousi\\AppData\\Local\\Temp\\ipykernel_24464\\3614737585.py:7: FutureWarning:\n",
      "\n",
      "The frame.append method is deprecated and will be removed from pandas in a future version. Use pandas.concat instead.\n",
      "\n",
      " 49%|████▉     | 230/468 [00:16<00:25,  9.30it/s]C:\\Users\\yousi\\AppData\\Local\\Temp\\ipykernel_24464\\3614737585.py:7: FutureWarning:\n",
      "\n",
      "The frame.append method is deprecated and will be removed from pandas in a future version. Use pandas.concat instead.\n",
      "\n",
      " 49%|████▉     | 231/468 [00:16<00:34,  6.81it/s]C:\\Users\\yousi\\AppData\\Local\\Temp\\ipykernel_24464\\3614737585.py:7: FutureWarning:\n",
      "\n",
      "The frame.append method is deprecated and will be removed from pandas in a future version. Use pandas.concat instead.\n",
      "\n",
      "C:\\Users\\yousi\\AppData\\Local\\Temp\\ipykernel_24464\\3614737585.py:7: FutureWarning:\n",
      "\n",
      "The frame.append method is deprecated and will be removed from pandas in a future version. Use pandas.concat instead.\n",
      "\n",
      " 50%|████▉     | 233/468 [00:16<00:29,  8.08it/s]C:\\Users\\yousi\\AppData\\Local\\Temp\\ipykernel_24464\\3614737585.py:7: FutureWarning:\n",
      "\n",
      "The frame.append method is deprecated and will be removed from pandas in a future version. Use pandas.concat instead.\n",
      "\n",
      "C:\\Users\\yousi\\AppData\\Local\\Temp\\ipykernel_24464\\3614737585.py:7: FutureWarning:\n",
      "\n",
      "The frame.append method is deprecated and will be removed from pandas in a future version. Use pandas.concat instead.\n",
      "\n",
      " 50%|█████     | 235/468 [00:17<00:24,  9.42it/s]C:\\Users\\yousi\\AppData\\Local\\Temp\\ipykernel_24464\\3614737585.py:7: FutureWarning:\n",
      "\n",
      "The frame.append method is deprecated and will be removed from pandas in a future version. Use pandas.concat instead.\n",
      "\n",
      "C:\\Users\\yousi\\AppData\\Local\\Temp\\ipykernel_24464\\3614737585.py:7: FutureWarning:\n",
      "\n",
      "The frame.append method is deprecated and will be removed from pandas in a future version. Use pandas.concat instead.\n",
      "\n",
      " 51%|█████     | 237/468 [00:17<00:29,  7.91it/s]C:\\Users\\yousi\\AppData\\Local\\Temp\\ipykernel_24464\\3614737585.py:7: FutureWarning:\n",
      "\n",
      "The frame.append method is deprecated and will be removed from pandas in a future version. Use pandas.concat instead.\n",
      "\n",
      "C:\\Users\\yousi\\AppData\\Local\\Temp\\ipykernel_24464\\3614737585.py:7: FutureWarning:\n",
      "\n",
      "The frame.append method is deprecated and will be removed from pandas in a future version. Use pandas.concat instead.\n",
      "\n",
      " 51%|█████     | 239/468 [00:17<00:26,  8.76it/s]C:\\Users\\yousi\\AppData\\Local\\Temp\\ipykernel_24464\\3614737585.py:7: FutureWarning:\n",
      "\n",
      "The frame.append method is deprecated and will be removed from pandas in a future version. Use pandas.concat instead.\n",
      "\n",
      "C:\\Users\\yousi\\AppData\\Local\\Temp\\ipykernel_24464\\3614737585.py:7: FutureWarning:\n",
      "\n",
      "The frame.append method is deprecated and will be removed from pandas in a future version. Use pandas.concat instead.\n",
      "\n",
      " 51%|█████▏    | 241/468 [00:17<00:23,  9.70it/s]C:\\Users\\yousi\\AppData\\Local\\Temp\\ipykernel_24464\\3614737585.py:7: FutureWarning:\n",
      "\n",
      "The frame.append method is deprecated and will be removed from pandas in a future version. Use pandas.concat instead.\n",
      "\n",
      "C:\\Users\\yousi\\AppData\\Local\\Temp\\ipykernel_24464\\3614737585.py:7: FutureWarning:\n",
      "\n",
      "The frame.append method is deprecated and will be removed from pandas in a future version. Use pandas.concat instead.\n",
      "\n",
      " 52%|█████▏    | 243/468 [00:18<00:27,  8.24it/s]C:\\Users\\yousi\\AppData\\Local\\Temp\\ipykernel_24464\\3614737585.py:7: FutureWarning:\n",
      "\n",
      "The frame.append method is deprecated and will be removed from pandas in a future version. Use pandas.concat instead.\n",
      "\n",
      "C:\\Users\\yousi\\AppData\\Local\\Temp\\ipykernel_24464\\3614737585.py:7: FutureWarning:\n",
      "\n",
      "The frame.append method is deprecated and will be removed from pandas in a future version. Use pandas.concat instead.\n",
      "\n",
      " 52%|█████▏    | 245/468 [00:18<00:25,  8.84it/s]C:\\Users\\yousi\\AppData\\Local\\Temp\\ipykernel_24464\\3614737585.py:7: FutureWarning:\n",
      "\n",
      "The frame.append method is deprecated and will be removed from pandas in a future version. Use pandas.concat instead.\n",
      "\n",
      " 53%|█████▎    | 246/468 [00:18<00:24,  8.92it/s]C:\\Users\\yousi\\AppData\\Local\\Temp\\ipykernel_24464\\3614737585.py:7: FutureWarning:\n",
      "\n",
      "The frame.append method is deprecated and will be removed from pandas in a future version. Use pandas.concat instead.\n",
      "\n",
      " 53%|█████▎    | 247/468 [00:18<00:24,  9.02it/s]C:\\Users\\yousi\\AppData\\Local\\Temp\\ipykernel_24464\\3614737585.py:7: FutureWarning:\n",
      "\n",
      "The frame.append method is deprecated and will be removed from pandas in a future version. Use pandas.concat instead.\n",
      "\n",
      "C:\\Users\\yousi\\AppData\\Local\\Temp\\ipykernel_24464\\3614737585.py:7: FutureWarning:\n",
      "\n",
      "The frame.append method is deprecated and will be removed from pandas in a future version. Use pandas.concat instead.\n",
      "\n",
      " 53%|█████▎    | 249/468 [00:18<00:29,  7.55it/s]C:\\Users\\yousi\\AppData\\Local\\Temp\\ipykernel_24464\\3614737585.py:7: FutureWarning:\n",
      "\n",
      "The frame.append method is deprecated and will be removed from pandas in a future version. Use pandas.concat instead.\n",
      "\n",
      "C:\\Users\\yousi\\AppData\\Local\\Temp\\ipykernel_24464\\3614737585.py:7: FutureWarning:\n",
      "\n",
      "The frame.append method is deprecated and will be removed from pandas in a future version. Use pandas.concat instead.\n",
      "\n",
      " 54%|█████▎    | 251/468 [00:19<00:26,  8.23it/s]C:\\Users\\yousi\\AppData\\Local\\Temp\\ipykernel_24464\\3614737585.py:7: FutureWarning:\n",
      "\n",
      "The frame.append method is deprecated and will be removed from pandas in a future version. Use pandas.concat instead.\n",
      "\n",
      " 54%|█████▍    | 252/468 [00:19<00:25,  8.48it/s]C:\\Users\\yousi\\AppData\\Local\\Temp\\ipykernel_24464\\3614737585.py:7: FutureWarning:\n",
      "\n",
      "The frame.append method is deprecated and will be removed from pandas in a future version. Use pandas.concat instead.\n",
      "\n",
      " 54%|█████▍    | 253/468 [00:19<00:24,  8.74it/s]C:\\Users\\yousi\\AppData\\Local\\Temp\\ipykernel_24464\\3614737585.py:7: FutureWarning:\n",
      "\n",
      "The frame.append method is deprecated and will be removed from pandas in a future version. Use pandas.concat instead.\n",
      "\n",
      " 54%|█████▍    | 254/468 [00:19<00:23,  8.95it/s]C:\\Users\\yousi\\AppData\\Local\\Temp\\ipykernel_24464\\3614737585.py:7: FutureWarning:\n",
      "\n",
      "The frame.append method is deprecated and will be removed from pandas in a future version. Use pandas.concat instead.\n",
      "\n",
      " 54%|█████▍    | 255/468 [00:19<00:34,  6.21it/s]C:\\Users\\yousi\\AppData\\Local\\Temp\\ipykernel_24464\\3614737585.py:7: FutureWarning:\n",
      "\n",
      "The frame.append method is deprecated and will be removed from pandas in a future version. Use pandas.concat instead.\n",
      "\n",
      "C:\\Users\\yousi\\AppData\\Local\\Temp\\ipykernel_24464\\3614737585.py:7: FutureWarning:\n",
      "\n",
      "The frame.append method is deprecated and will be removed from pandas in a future version. Use pandas.concat instead.\n",
      "\n",
      " 55%|█████▍    | 257/468 [00:19<00:26,  7.83it/s]C:\\Users\\yousi\\AppData\\Local\\Temp\\ipykernel_24464\\3614737585.py:7: FutureWarning:\n",
      "\n",
      "The frame.append method is deprecated and will be removed from pandas in a future version. Use pandas.concat instead.\n",
      "\n",
      "C:\\Users\\yousi\\AppData\\Local\\Temp\\ipykernel_24464\\3614737585.py:7: FutureWarning:\n",
      "\n",
      "The frame.append method is deprecated and will be removed from pandas in a future version. Use pandas.concat instead.\n",
      "\n",
      " 55%|█████▌    | 259/468 [00:19<00:22,  9.19it/s]C:\\Users\\yousi\\AppData\\Local\\Temp\\ipykernel_24464\\3614737585.py:7: FutureWarning:\n",
      "\n",
      "The frame.append method is deprecated and will be removed from pandas in a future version. Use pandas.concat instead.\n",
      "\n",
      "C:\\Users\\yousi\\AppData\\Local\\Temp\\ipykernel_24464\\3614737585.py:7: FutureWarning:\n",
      "\n",
      "The frame.append method is deprecated and will be removed from pandas in a future version. Use pandas.concat instead.\n",
      "\n",
      " 56%|█████▌    | 261/468 [00:20<00:27,  7.51it/s]C:\\Users\\yousi\\AppData\\Local\\Temp\\ipykernel_24464\\3614737585.py:7: FutureWarning:\n",
      "\n",
      "The frame.append method is deprecated and will be removed from pandas in a future version. Use pandas.concat instead.\n",
      "\n",
      " 56%|█████▌    | 262/468 [00:20<00:26,  7.77it/s]C:\\Users\\yousi\\AppData\\Local\\Temp\\ipykernel_24464\\3614737585.py:7: FutureWarning:\n",
      "\n",
      "The frame.append method is deprecated and will be removed from pandas in a future version. Use pandas.concat instead.\n",
      "\n",
      " 56%|█████▌    | 263/468 [00:20<00:25,  7.94it/s]C:\\Users\\yousi\\AppData\\Local\\Temp\\ipykernel_24464\\3614737585.py:7: FutureWarning:\n",
      "\n",
      "The frame.append method is deprecated and will be removed from pandas in a future version. Use pandas.concat instead.\n",
      "\n",
      " 56%|█████▋    | 264/468 [00:20<00:24,  8.35it/s]C:\\Users\\yousi\\AppData\\Local\\Temp\\ipykernel_24464\\3614737585.py:7: FutureWarning:\n",
      "\n",
      "The frame.append method is deprecated and will be removed from pandas in a future version. Use pandas.concat instead.\n",
      "\n",
      "C:\\Users\\yousi\\AppData\\Local\\Temp\\ipykernel_24464\\3614737585.py:7: FutureWarning:\n",
      "\n",
      "The frame.append method is deprecated and will be removed from pandas in a future version. Use pandas.concat instead.\n",
      "\n",
      " 57%|█████▋    | 266/468 [00:20<00:22,  9.10it/s]C:\\Users\\yousi\\AppData\\Local\\Temp\\ipykernel_24464\\3614737585.py:7: FutureWarning:\n",
      "\n",
      "The frame.append method is deprecated and will be removed from pandas in a future version. Use pandas.concat instead.\n",
      "\n",
      " 57%|█████▋    | 267/468 [00:21<00:30,  6.58it/s]C:\\Users\\yousi\\AppData\\Local\\Temp\\ipykernel_24464\\3614737585.py:7: FutureWarning:\n",
      "\n",
      "The frame.append method is deprecated and will be removed from pandas in a future version. Use pandas.concat instead.\n",
      "\n",
      " 57%|█████▋    | 268/468 [00:21<00:28,  7.03it/s]C:\\Users\\yousi\\AppData\\Local\\Temp\\ipykernel_24464\\3614737585.py:7: FutureWarning:\n",
      "\n",
      "The frame.append method is deprecated and will be removed from pandas in a future version. Use pandas.concat instead.\n",
      "\n",
      " 57%|█████▋    | 269/468 [00:21<00:26,  7.45it/s]C:\\Users\\yousi\\AppData\\Local\\Temp\\ipykernel_24464\\3614737585.py:7: FutureWarning:\n",
      "\n",
      "The frame.append method is deprecated and will be removed from pandas in a future version. Use pandas.concat instead.\n",
      "\n",
      " 58%|█████▊    | 270/468 [00:21<00:25,  7.81it/s]C:\\Users\\yousi\\AppData\\Local\\Temp\\ipykernel_24464\\3614737585.py:7: FutureWarning:\n",
      "\n",
      "The frame.append method is deprecated and will be removed from pandas in a future version. Use pandas.concat instead.\n",
      "\n",
      " 58%|█████▊    | 271/468 [00:21<00:23,  8.29it/s]C:\\Users\\yousi\\AppData\\Local\\Temp\\ipykernel_24464\\3614737585.py:7: FutureWarning:\n",
      "\n",
      "The frame.append method is deprecated and will be removed from pandas in a future version. Use pandas.concat instead.\n",
      "\n",
      "C:\\Users\\yousi\\AppData\\Local\\Temp\\ipykernel_24464\\3614737585.py:7: FutureWarning:\n",
      "\n",
      "The frame.append method is deprecated and will be removed from pandas in a future version. Use pandas.concat instead.\n",
      "\n",
      " 58%|█████▊    | 273/468 [00:21<00:28,  6.76it/s]C:\\Users\\yousi\\AppData\\Local\\Temp\\ipykernel_24464\\3614737585.py:7: FutureWarning:\n",
      "\n",
      "The frame.append method is deprecated and will be removed from pandas in a future version. Use pandas.concat instead.\n",
      "\n",
      " 59%|█████▊    | 274/468 [00:22<00:27,  7.13it/s]C:\\Users\\yousi\\AppData\\Local\\Temp\\ipykernel_24464\\3614737585.py:7: FutureWarning:\n",
      "\n",
      "The frame.append method is deprecated and will be removed from pandas in a future version. Use pandas.concat instead.\n",
      "\n",
      " 59%|█████▉    | 275/468 [00:22<00:25,  7.56it/s]C:\\Users\\yousi\\AppData\\Local\\Temp\\ipykernel_24464\\3614737585.py:7: FutureWarning:\n",
      "\n",
      "The frame.append method is deprecated and will be removed from pandas in a future version. Use pandas.concat instead.\n",
      "\n",
      " 59%|█████▉    | 276/468 [00:22<00:24,  7.93it/s]C:\\Users\\yousi\\AppData\\Local\\Temp\\ipykernel_24464\\3614737585.py:7: FutureWarning:\n",
      "\n",
      "The frame.append method is deprecated and will be removed from pandas in a future version. Use pandas.concat instead.\n",
      "\n",
      " 59%|█████▉    | 277/468 [00:22<00:23,  8.16it/s]C:\\Users\\yousi\\AppData\\Local\\Temp\\ipykernel_24464\\3614737585.py:7: FutureWarning:\n",
      "\n",
      "The frame.append method is deprecated and will be removed from pandas in a future version. Use pandas.concat instead.\n",
      "\n",
      "C:\\Users\\yousi\\AppData\\Local\\Temp\\ipykernel_24464\\3614737585.py:7: FutureWarning:\n",
      "\n",
      "The frame.append method is deprecated and will be removed from pandas in a future version. Use pandas.concat instead.\n",
      "\n",
      " 60%|█████▉    | 279/468 [00:22<00:29,  6.43it/s]C:\\Users\\yousi\\AppData\\Local\\Temp\\ipykernel_24464\\3614737585.py:7: FutureWarning:\n",
      "\n",
      "The frame.append method is deprecated and will be removed from pandas in a future version. Use pandas.concat instead.\n",
      "\n",
      " 60%|█████▉    | 280/468 [00:22<00:27,  6.89it/s]C:\\Users\\yousi\\AppData\\Local\\Temp\\ipykernel_24464\\3614737585.py:7: FutureWarning:\n",
      "\n",
      "The frame.append method is deprecated and will be removed from pandas in a future version. Use pandas.concat instead.\n",
      "\n",
      " 60%|██████    | 281/468 [00:23<00:25,  7.33it/s]C:\\Users\\yousi\\AppData\\Local\\Temp\\ipykernel_24464\\3614737585.py:7: FutureWarning:\n",
      "\n",
      "The frame.append method is deprecated and will be removed from pandas in a future version. Use pandas.concat instead.\n",
      "\n",
      " 60%|██████    | 282/468 [00:23<00:24,  7.67it/s]C:\\Users\\yousi\\AppData\\Local\\Temp\\ipykernel_24464\\3614737585.py:7: FutureWarning:\n",
      "\n",
      "The frame.append method is deprecated and will be removed from pandas in a future version. Use pandas.concat instead.\n",
      "\n",
      " 60%|██████    | 283/468 [00:23<00:23,  7.99it/s]C:\\Users\\yousi\\AppData\\Local\\Temp\\ipykernel_24464\\3614737585.py:7: FutureWarning:\n",
      "\n",
      "The frame.append method is deprecated and will be removed from pandas in a future version. Use pandas.concat instead.\n",
      "\n",
      " 61%|██████    | 284/468 [00:23<00:22,  8.22it/s]C:\\Users\\yousi\\AppData\\Local\\Temp\\ipykernel_24464\\3614737585.py:7: FutureWarning:\n",
      "\n",
      "The frame.append method is deprecated and will be removed from pandas in a future version. Use pandas.concat instead.\n",
      "\n",
      " 61%|██████    | 285/468 [00:23<00:33,  5.41it/s]C:\\Users\\yousi\\AppData\\Local\\Temp\\ipykernel_24464\\3614737585.py:7: FutureWarning:\n",
      "\n",
      "The frame.append method is deprecated and will be removed from pandas in a future version. Use pandas.concat instead.\n",
      "\n",
      "C:\\Users\\yousi\\AppData\\Local\\Temp\\ipykernel_24464\\3614737585.py:7: FutureWarning:\n",
      "\n",
      "The frame.append method is deprecated and will be removed from pandas in a future version. Use pandas.concat instead.\n",
      "\n",
      " 61%|██████▏   | 287/468 [00:23<00:25,  7.06it/s]C:\\Users\\yousi\\AppData\\Local\\Temp\\ipykernel_24464\\3614737585.py:7: FutureWarning:\n",
      "\n",
      "The frame.append method is deprecated and will be removed from pandas in a future version. Use pandas.concat instead.\n",
      "\n",
      "C:\\Users\\yousi\\AppData\\Local\\Temp\\ipykernel_24464\\3614737585.py:7: FutureWarning:\n",
      "\n",
      "The frame.append method is deprecated and will be removed from pandas in a future version. Use pandas.concat instead.\n",
      "\n",
      " 62%|██████▏   | 289/468 [00:24<00:21,  8.41it/s]C:\\Users\\yousi\\AppData\\Local\\Temp\\ipykernel_24464\\3614737585.py:7: FutureWarning:\n",
      "\n",
      "The frame.append method is deprecated and will be removed from pandas in a future version. Use pandas.concat instead.\n",
      "\n",
      "C:\\Users\\yousi\\AppData\\Local\\Temp\\ipykernel_24464\\3614737585.py:7: FutureWarning:\n",
      "\n",
      "The frame.append method is deprecated and will be removed from pandas in a future version. Use pandas.concat instead.\n",
      "\n",
      " 62%|██████▏   | 291/468 [00:24<00:26,  6.63it/s]C:\\Users\\yousi\\AppData\\Local\\Temp\\ipykernel_24464\\3614737585.py:7: FutureWarning:\n",
      "\n",
      "The frame.append method is deprecated and will be removed from pandas in a future version. Use pandas.concat instead.\n",
      "\n",
      " 62%|██████▏   | 292/468 [00:24<00:25,  6.98it/s]C:\\Users\\yousi\\AppData\\Local\\Temp\\ipykernel_24464\\3614737585.py:7: FutureWarning:\n",
      "\n",
      "The frame.append method is deprecated and will be removed from pandas in a future version. Use pandas.concat instead.\n",
      "\n",
      " 63%|██████▎   | 293/468 [00:24<00:23,  7.40it/s]C:\\Users\\yousi\\AppData\\Local\\Temp\\ipykernel_24464\\3614737585.py:7: FutureWarning:\n",
      "\n",
      "The frame.append method is deprecated and will be removed from pandas in a future version. Use pandas.concat instead.\n",
      "\n",
      "C:\\Users\\yousi\\AppData\\Local\\Temp\\ipykernel_24464\\3614737585.py:7: FutureWarning:\n",
      "\n",
      "The frame.append method is deprecated and will be removed from pandas in a future version. Use pandas.concat instead.\n",
      "\n",
      " 63%|██████▎   | 295/468 [00:24<00:20,  8.45it/s]C:\\Users\\yousi\\AppData\\Local\\Temp\\ipykernel_24464\\3614737585.py:7: FutureWarning:\n",
      "\n",
      "The frame.append method is deprecated and will be removed from pandas in a future version. Use pandas.concat instead.\n",
      "\n",
      "C:\\Users\\yousi\\AppData\\Local\\Temp\\ipykernel_24464\\3614737585.py:7: FutureWarning:\n",
      "\n",
      "The frame.append method is deprecated and will be removed from pandas in a future version. Use pandas.concat instead.\n",
      "\n",
      " 63%|██████▎   | 297/468 [00:25<00:25,  6.59it/s]C:\\Users\\yousi\\AppData\\Local\\Temp\\ipykernel_24464\\3614737585.py:7: FutureWarning:\n",
      "\n",
      "The frame.append method is deprecated and will be removed from pandas in a future version. Use pandas.concat instead.\n",
      "\n",
      " 64%|██████▎   | 298/468 [00:25<00:25,  6.63it/s]C:\\Users\\yousi\\AppData\\Local\\Temp\\ipykernel_24464\\3614737585.py:7: FutureWarning:\n",
      "\n",
      "The frame.append method is deprecated and will be removed from pandas in a future version. Use pandas.concat instead.\n",
      "\n",
      " 64%|██████▍   | 299/468 [00:25<00:24,  6.89it/s]C:\\Users\\yousi\\AppData\\Local\\Temp\\ipykernel_24464\\3614737585.py:7: FutureWarning:\n",
      "\n",
      "The frame.append method is deprecated and will be removed from pandas in a future version. Use pandas.concat instead.\n",
      "\n",
      " 64%|██████▍   | 300/468 [00:25<00:22,  7.35it/s]C:\\Users\\yousi\\AppData\\Local\\Temp\\ipykernel_24464\\3614737585.py:7: FutureWarning:\n",
      "\n",
      "The frame.append method is deprecated and will be removed from pandas in a future version. Use pandas.concat instead.\n",
      "\n",
      "C:\\Users\\yousi\\AppData\\Local\\Temp\\ipykernel_24464\\3614737585.py:7: FutureWarning:\n",
      "\n",
      "The frame.append method is deprecated and will be removed from pandas in a future version. Use pandas.concat instead.\n",
      "\n",
      " 65%|██████▍   | 302/468 [00:25<00:19,  8.69it/s]C:\\Users\\yousi\\AppData\\Local\\Temp\\ipykernel_24464\\3614737585.py:7: FutureWarning:\n",
      "\n",
      "The frame.append method is deprecated and will be removed from pandas in a future version. Use pandas.concat instead.\n",
      "\n",
      " 65%|██████▍   | 303/468 [00:26<00:28,  5.81it/s]C:\\Users\\yousi\\AppData\\Local\\Temp\\ipykernel_24464\\3614737585.py:7: FutureWarning:\n",
      "\n",
      "The frame.append method is deprecated and will be removed from pandas in a future version. Use pandas.concat instead.\n",
      "\n",
      " 65%|██████▍   | 304/468 [00:26<00:26,  6.25it/s]C:\\Users\\yousi\\AppData\\Local\\Temp\\ipykernel_24464\\3614737585.py:7: FutureWarning:\n",
      "\n",
      "The frame.append method is deprecated and will be removed from pandas in a future version. Use pandas.concat instead.\n",
      "\n",
      " 65%|██████▌   | 305/468 [00:26<00:24,  6.61it/s]C:\\Users\\yousi\\AppData\\Local\\Temp\\ipykernel_24464\\3614737585.py:7: FutureWarning:\n",
      "\n",
      "The frame.append method is deprecated and will be removed from pandas in a future version. Use pandas.concat instead.\n",
      "\n",
      " 65%|██████▌   | 306/468 [00:26<00:22,  7.05it/s]C:\\Users\\yousi\\AppData\\Local\\Temp\\ipykernel_24464\\3614737585.py:7: FutureWarning:\n",
      "\n",
      "The frame.append method is deprecated and will be removed from pandas in a future version. Use pandas.concat instead.\n",
      "\n",
      " 66%|██████▌   | 307/468 [00:26<00:21,  7.67it/s]C:\\Users\\yousi\\AppData\\Local\\Temp\\ipykernel_24464\\3614737585.py:7: FutureWarning:\n",
      "\n",
      "The frame.append method is deprecated and will be removed from pandas in a future version. Use pandas.concat instead.\n",
      "\n",
      "C:\\Users\\yousi\\AppData\\Local\\Temp\\ipykernel_24464\\3614737585.py:7: FutureWarning:\n",
      "\n",
      "The frame.append method is deprecated and will be removed from pandas in a future version. Use pandas.concat instead.\n",
      "\n",
      " 66%|██████▌   | 309/468 [00:27<00:27,  5.81it/s]C:\\Users\\yousi\\AppData\\Local\\Temp\\ipykernel_24464\\3614737585.py:7: FutureWarning:\n",
      "\n",
      "The frame.append method is deprecated and will be removed from pandas in a future version. Use pandas.concat instead.\n",
      "\n",
      " 66%|██████▌   | 310/468 [00:27<00:25,  6.10it/s]C:\\Users\\yousi\\AppData\\Local\\Temp\\ipykernel_24464\\3614737585.py:7: FutureWarning:\n",
      "\n",
      "The frame.append method is deprecated and will be removed from pandas in a future version. Use pandas.concat instead.\n",
      "\n",
      " 66%|██████▋   | 311/468 [00:27<00:24,  6.39it/s]C:\\Users\\yousi\\AppData\\Local\\Temp\\ipykernel_24464\\3614737585.py:7: FutureWarning:\n",
      "\n",
      "The frame.append method is deprecated and will be removed from pandas in a future version. Use pandas.concat instead.\n",
      "\n",
      " 67%|██████▋   | 312/468 [00:27<00:23,  6.78it/s]C:\\Users\\yousi\\AppData\\Local\\Temp\\ipykernel_24464\\3614737585.py:7: FutureWarning:\n",
      "\n",
      "The frame.append method is deprecated and will be removed from pandas in a future version. Use pandas.concat instead.\n",
      "\n",
      " 67%|██████▋   | 313/468 [00:27<00:21,  7.38it/s]C:\\Users\\yousi\\AppData\\Local\\Temp\\ipykernel_24464\\3614737585.py:7: FutureWarning:\n",
      "\n",
      "The frame.append method is deprecated and will be removed from pandas in a future version. Use pandas.concat instead.\n",
      "\n",
      " 67%|██████▋   | 314/468 [00:27<00:19,  7.92it/s]C:\\Users\\yousi\\AppData\\Local\\Temp\\ipykernel_24464\\3614737585.py:7: FutureWarning:\n",
      "\n",
      "The frame.append method is deprecated and will be removed from pandas in a future version. Use pandas.concat instead.\n",
      "\n",
      " 67%|██████▋   | 315/468 [00:28<00:29,  5.14it/s]C:\\Users\\yousi\\AppData\\Local\\Temp\\ipykernel_24464\\3614737585.py:7: FutureWarning:\n",
      "\n",
      "The frame.append method is deprecated and will be removed from pandas in a future version. Use pandas.concat instead.\n",
      "\n",
      " 68%|██████▊   | 316/468 [00:28<00:26,  5.74it/s]C:\\Users\\yousi\\AppData\\Local\\Temp\\ipykernel_24464\\3614737585.py:7: FutureWarning:\n",
      "\n",
      "The frame.append method is deprecated and will be removed from pandas in a future version. Use pandas.concat instead.\n",
      "\n",
      " 68%|██████▊   | 317/468 [00:28<00:23,  6.31it/s]C:\\Users\\yousi\\AppData\\Local\\Temp\\ipykernel_24464\\3614737585.py:7: FutureWarning:\n",
      "\n",
      "The frame.append method is deprecated and will be removed from pandas in a future version. Use pandas.concat instead.\n",
      "\n",
      " 68%|██████▊   | 318/468 [00:28<00:22,  6.62it/s]C:\\Users\\yousi\\AppData\\Local\\Temp\\ipykernel_24464\\3614737585.py:7: FutureWarning:\n",
      "\n",
      "The frame.append method is deprecated and will be removed from pandas in a future version. Use pandas.concat instead.\n",
      "\n",
      " 68%|██████▊   | 319/468 [00:28<00:20,  7.20it/s]C:\\Users\\yousi\\AppData\\Local\\Temp\\ipykernel_24464\\3614737585.py:7: FutureWarning:\n",
      "\n",
      "The frame.append method is deprecated and will be removed from pandas in a future version. Use pandas.concat instead.\n",
      "\n",
      "C:\\Users\\yousi\\AppData\\Local\\Temp\\ipykernel_24464\\3614737585.py:7: FutureWarning:\n",
      "\n",
      "The frame.append method is deprecated and will be removed from pandas in a future version. Use pandas.concat instead.\n",
      "\n",
      " 69%|██████▊   | 321/468 [00:29<00:26,  5.55it/s]C:\\Users\\yousi\\AppData\\Local\\Temp\\ipykernel_24464\\3614737585.py:7: FutureWarning:\n",
      "\n",
      "The frame.append method is deprecated and will be removed from pandas in a future version. Use pandas.concat instead.\n",
      "\n",
      " 69%|██████▉   | 322/468 [00:29<00:24,  5.96it/s]C:\\Users\\yousi\\AppData\\Local\\Temp\\ipykernel_24464\\3614737585.py:7: FutureWarning:\n",
      "\n",
      "The frame.append method is deprecated and will be removed from pandas in a future version. Use pandas.concat instead.\n",
      "\n",
      " 69%|██████▉   | 323/468 [00:29<00:22,  6.31it/s]C:\\Users\\yousi\\AppData\\Local\\Temp\\ipykernel_24464\\3614737585.py:7: FutureWarning:\n",
      "\n",
      "The frame.append method is deprecated and will be removed from pandas in a future version. Use pandas.concat instead.\n",
      "\n",
      " 69%|██████▉   | 324/468 [00:29<00:21,  6.62it/s]C:\\Users\\yousi\\AppData\\Local\\Temp\\ipykernel_24464\\3614737585.py:7: FutureWarning:\n",
      "\n",
      "The frame.append method is deprecated and will be removed from pandas in a future version. Use pandas.concat instead.\n",
      "\n",
      " 69%|██████▉   | 325/468 [00:29<00:20,  7.06it/s]C:\\Users\\yousi\\AppData\\Local\\Temp\\ipykernel_24464\\3614737585.py:7: FutureWarning:\n",
      "\n",
      "The frame.append method is deprecated and will be removed from pandas in a future version. Use pandas.concat instead.\n",
      "\n",
      "C:\\Users\\yousi\\AppData\\Local\\Temp\\ipykernel_24464\\3614737585.py:7: FutureWarning:\n",
      "\n",
      "The frame.append method is deprecated and will be removed from pandas in a future version. Use pandas.concat instead.\n",
      "\n",
      " 70%|██████▉   | 327/468 [00:29<00:25,  5.60it/s]C:\\Users\\yousi\\AppData\\Local\\Temp\\ipykernel_24464\\3614737585.py:7: FutureWarning:\n",
      "\n",
      "The frame.append method is deprecated and will be removed from pandas in a future version. Use pandas.concat instead.\n",
      "\n",
      " 70%|███████   | 328/468 [00:30<00:23,  6.03it/s]C:\\Users\\yousi\\AppData\\Local\\Temp\\ipykernel_24464\\3614737585.py:7: FutureWarning:\n",
      "\n",
      "The frame.append method is deprecated and will be removed from pandas in a future version. Use pandas.concat instead.\n",
      "\n",
      " 70%|███████   | 329/468 [00:30<00:21,  6.43it/s]C:\\Users\\yousi\\AppData\\Local\\Temp\\ipykernel_24464\\3614737585.py:7: FutureWarning:\n",
      "\n",
      "The frame.append method is deprecated and will be removed from pandas in a future version. Use pandas.concat instead.\n",
      "\n",
      " 71%|███████   | 330/468 [00:30<00:20,  6.71it/s]C:\\Users\\yousi\\AppData\\Local\\Temp\\ipykernel_24464\\3614737585.py:7: FutureWarning:\n",
      "\n",
      "The frame.append method is deprecated and will be removed from pandas in a future version. Use pandas.concat instead.\n",
      "\n",
      " 71%|███████   | 331/468 [00:30<00:19,  7.05it/s]C:\\Users\\yousi\\AppData\\Local\\Temp\\ipykernel_24464\\3614737585.py:7: FutureWarning:\n",
      "\n",
      "The frame.append method is deprecated and will be removed from pandas in a future version. Use pandas.concat instead.\n",
      "\n",
      " 71%|███████   | 332/468 [00:30<00:18,  7.54it/s]C:\\Users\\yousi\\AppData\\Local\\Temp\\ipykernel_24464\\3614737585.py:7: FutureWarning:\n",
      "\n",
      "The frame.append method is deprecated and will be removed from pandas in a future version. Use pandas.concat instead.\n",
      "\n",
      " 71%|███████   | 333/468 [00:30<00:27,  4.94it/s]C:\\Users\\yousi\\AppData\\Local\\Temp\\ipykernel_24464\\3614737585.py:7: FutureWarning:\n",
      "\n",
      "The frame.append method is deprecated and will be removed from pandas in a future version. Use pandas.concat instead.\n",
      "\n",
      " 71%|███████▏  | 334/468 [00:31<00:24,  5.53it/s]C:\\Users\\yousi\\AppData\\Local\\Temp\\ipykernel_24464\\3614737585.py:7: FutureWarning:\n",
      "\n",
      "The frame.append method is deprecated and will be removed from pandas in a future version. Use pandas.concat instead.\n",
      "\n",
      " 72%|███████▏  | 335/468 [00:31<00:21,  6.05it/s]C:\\Users\\yousi\\AppData\\Local\\Temp\\ipykernel_24464\\3614737585.py:7: FutureWarning:\n",
      "\n",
      "The frame.append method is deprecated and will be removed from pandas in a future version. Use pandas.concat instead.\n",
      "\n",
      " 72%|███████▏  | 336/468 [00:31<00:20,  6.46it/s]C:\\Users\\yousi\\AppData\\Local\\Temp\\ipykernel_24464\\3614737585.py:7: FutureWarning:\n",
      "\n",
      "The frame.append method is deprecated and will be removed from pandas in a future version. Use pandas.concat instead.\n",
      "\n",
      " 72%|███████▏  | 337/468 [00:31<00:19,  6.78it/s]C:\\Users\\yousi\\AppData\\Local\\Temp\\ipykernel_24464\\3614737585.py:7: FutureWarning:\n",
      "\n",
      "The frame.append method is deprecated and will be removed from pandas in a future version. Use pandas.concat instead.\n",
      "\n",
      "C:\\Users\\yousi\\AppData\\Local\\Temp\\ipykernel_24464\\3614737585.py:7: FutureWarning:\n",
      "\n",
      "The frame.append method is deprecated and will be removed from pandas in a future version. Use pandas.concat instead.\n",
      "\n",
      " 72%|███████▏  | 339/468 [00:31<00:24,  5.32it/s]C:\\Users\\yousi\\AppData\\Local\\Temp\\ipykernel_24464\\3614737585.py:7: FutureWarning:\n",
      "\n",
      "The frame.append method is deprecated and will be removed from pandas in a future version. Use pandas.concat instead.\n",
      "\n",
      " 73%|███████▎  | 340/468 [00:32<00:22,  5.73it/s]C:\\Users\\yousi\\AppData\\Local\\Temp\\ipykernel_24464\\3614737585.py:7: FutureWarning:\n",
      "\n",
      "The frame.append method is deprecated and will be removed from pandas in a future version. Use pandas.concat instead.\n",
      "\n",
      " 73%|███████▎  | 341/468 [00:32<00:20,  6.09it/s]C:\\Users\\yousi\\AppData\\Local\\Temp\\ipykernel_24464\\3614737585.py:7: FutureWarning:\n",
      "\n",
      "The frame.append method is deprecated and will be removed from pandas in a future version. Use pandas.concat instead.\n",
      "\n",
      " 73%|███████▎  | 342/468 [00:32<00:19,  6.43it/s]C:\\Users\\yousi\\AppData\\Local\\Temp\\ipykernel_24464\\3614737585.py:7: FutureWarning:\n",
      "\n",
      "The frame.append method is deprecated and will be removed from pandas in a future version. Use pandas.concat instead.\n",
      "\n",
      " 73%|███████▎  | 343/468 [00:32<00:18,  6.75it/s]C:\\Users\\yousi\\AppData\\Local\\Temp\\ipykernel_24464\\3614737585.py:7: FutureWarning:\n",
      "\n",
      "The frame.append method is deprecated and will be removed from pandas in a future version. Use pandas.concat instead.\n",
      "\n",
      "C:\\Users\\yousi\\AppData\\Local\\Temp\\ipykernel_24464\\3614737585.py:7: FutureWarning:\n",
      "\n",
      "The frame.append method is deprecated and will be removed from pandas in a future version. Use pandas.concat instead.\n",
      "\n",
      " 74%|███████▎  | 345/468 [00:32<00:23,  5.30it/s]C:\\Users\\yousi\\AppData\\Local\\Temp\\ipykernel_24464\\3614737585.py:7: FutureWarning:\n",
      "\n",
      "The frame.append method is deprecated and will be removed from pandas in a future version. Use pandas.concat instead.\n",
      "\n",
      " 74%|███████▍  | 346/468 [00:33<00:21,  5.69it/s]C:\\Users\\yousi\\AppData\\Local\\Temp\\ipykernel_24464\\3614737585.py:7: FutureWarning:\n",
      "\n",
      "The frame.append method is deprecated and will be removed from pandas in a future version. Use pandas.concat instead.\n",
      "\n",
      " 74%|███████▍  | 347/468 [00:33<00:20,  6.04it/s]C:\\Users\\yousi\\AppData\\Local\\Temp\\ipykernel_24464\\3614737585.py:7: FutureWarning:\n",
      "\n",
      "The frame.append method is deprecated and will be removed from pandas in a future version. Use pandas.concat instead.\n",
      "\n",
      " 74%|███████▍  | 348/468 [00:33<00:18,  6.36it/s]C:\\Users\\yousi\\AppData\\Local\\Temp\\ipykernel_24464\\3614737585.py:7: FutureWarning:\n",
      "\n",
      "The frame.append method is deprecated and will be removed from pandas in a future version. Use pandas.concat instead.\n",
      "\n",
      " 75%|███████▍  | 349/468 [00:33<00:17,  6.67it/s]C:\\Users\\yousi\\AppData\\Local\\Temp\\ipykernel_24464\\3614737585.py:7: FutureWarning:\n",
      "\n",
      "The frame.append method is deprecated and will be removed from pandas in a future version. Use pandas.concat instead.\n",
      "\n",
      "C:\\Users\\yousi\\AppData\\Local\\Temp\\ipykernel_24464\\3614737585.py:7: FutureWarning:\n",
      "\n",
      "The frame.append method is deprecated and will be removed from pandas in a future version. Use pandas.concat instead.\n",
      "\n",
      " 75%|███████▌  | 351/468 [00:33<00:22,  5.21it/s]C:\\Users\\yousi\\AppData\\Local\\Temp\\ipykernel_24464\\3614737585.py:7: FutureWarning:\n",
      "\n",
      "The frame.append method is deprecated and will be removed from pandas in a future version. Use pandas.concat instead.\n",
      "\n",
      " 75%|███████▌  | 352/468 [00:34<00:20,  5.60it/s]C:\\Users\\yousi\\AppData\\Local\\Temp\\ipykernel_24464\\3614737585.py:7: FutureWarning:\n",
      "\n",
      "The frame.append method is deprecated and will be removed from pandas in a future version. Use pandas.concat instead.\n",
      "\n",
      " 75%|███████▌  | 353/468 [00:34<00:19,  5.93it/s]C:\\Users\\yousi\\AppData\\Local\\Temp\\ipykernel_24464\\3614737585.py:7: FutureWarning:\n",
      "\n",
      "The frame.append method is deprecated and will be removed from pandas in a future version. Use pandas.concat instead.\n",
      "\n",
      " 76%|███████▌  | 354/468 [00:34<00:18,  6.22it/s]C:\\Users\\yousi\\AppData\\Local\\Temp\\ipykernel_24464\\3614737585.py:7: FutureWarning:\n",
      "\n",
      "The frame.append method is deprecated and will be removed from pandas in a future version. Use pandas.concat instead.\n",
      "\n",
      " 76%|███████▌  | 355/468 [00:34<00:17,  6.56it/s]C:\\Users\\yousi\\AppData\\Local\\Temp\\ipykernel_24464\\3614737585.py:7: FutureWarning:\n",
      "\n",
      "The frame.append method is deprecated and will be removed from pandas in a future version. Use pandas.concat instead.\n",
      "\n",
      " 76%|███████▌  | 356/468 [00:34<00:16,  6.83it/s]C:\\Users\\yousi\\AppData\\Local\\Temp\\ipykernel_24464\\3614737585.py:7: FutureWarning:\n",
      "\n",
      "The frame.append method is deprecated and will be removed from pandas in a future version. Use pandas.concat instead.\n",
      "\n",
      " 76%|███████▋  | 357/468 [00:35<00:24,  4.59it/s]C:\\Users\\yousi\\AppData\\Local\\Temp\\ipykernel_24464\\3614737585.py:7: FutureWarning:\n",
      "\n",
      "The frame.append method is deprecated and will be removed from pandas in a future version. Use pandas.concat instead.\n",
      "\n",
      " 76%|███████▋  | 358/468 [00:35<00:21,  5.15it/s]C:\\Users\\yousi\\AppData\\Local\\Temp\\ipykernel_24464\\3614737585.py:7: FutureWarning:\n",
      "\n",
      "The frame.append method is deprecated and will be removed from pandas in a future version. Use pandas.concat instead.\n",
      "\n",
      " 77%|███████▋  | 359/468 [00:35<00:19,  5.63it/s]C:\\Users\\yousi\\AppData\\Local\\Temp\\ipykernel_24464\\3614737585.py:7: FutureWarning:\n",
      "\n",
      "The frame.append method is deprecated and will be removed from pandas in a future version. Use pandas.concat instead.\n",
      "\n",
      " 77%|███████▋  | 360/468 [00:35<00:18,  5.97it/s]C:\\Users\\yousi\\AppData\\Local\\Temp\\ipykernel_24464\\3614737585.py:7: FutureWarning:\n",
      "\n",
      "The frame.append method is deprecated and will be removed from pandas in a future version. Use pandas.concat instead.\n",
      "\n",
      " 77%|███████▋  | 361/468 [00:35<00:16,  6.54it/s]C:\\Users\\yousi\\AppData\\Local\\Temp\\ipykernel_24464\\3614737585.py:7: FutureWarning:\n",
      "\n",
      "The frame.append method is deprecated and will be removed from pandas in a future version. Use pandas.concat instead.\n",
      "\n",
      "C:\\Users\\yousi\\AppData\\Local\\Temp\\ipykernel_24464\\3614737585.py:7: FutureWarning:\n",
      "\n",
      "The frame.append method is deprecated and will be removed from pandas in a future version. Use pandas.concat instead.\n",
      "\n",
      " 78%|███████▊  | 363/468 [00:36<00:20,  5.01it/s]C:\\Users\\yousi\\AppData\\Local\\Temp\\ipykernel_24464\\3614737585.py:7: FutureWarning:\n",
      "\n",
      "The frame.append method is deprecated and will be removed from pandas in a future version. Use pandas.concat instead.\n",
      "\n",
      " 78%|███████▊  | 364/468 [00:36<00:19,  5.37it/s]C:\\Users\\yousi\\AppData\\Local\\Temp\\ipykernel_24464\\3614737585.py:7: FutureWarning:\n",
      "\n",
      "The frame.append method is deprecated and will be removed from pandas in a future version. Use pandas.concat instead.\n",
      "\n",
      " 78%|███████▊  | 365/468 [00:36<00:18,  5.65it/s]C:\\Users\\yousi\\AppData\\Local\\Temp\\ipykernel_24464\\3614737585.py:7: FutureWarning:\n",
      "\n",
      "The frame.append method is deprecated and will be removed from pandas in a future version. Use pandas.concat instead.\n",
      "\n",
      " 78%|███████▊  | 366/468 [00:36<00:17,  5.97it/s]C:\\Users\\yousi\\AppData\\Local\\Temp\\ipykernel_24464\\3614737585.py:7: FutureWarning:\n",
      "\n",
      "The frame.append method is deprecated and will be removed from pandas in a future version. Use pandas.concat instead.\n",
      "\n",
      " 78%|███████▊  | 367/468 [00:36<00:15,  6.44it/s]C:\\Users\\yousi\\AppData\\Local\\Temp\\ipykernel_24464\\3614737585.py:7: FutureWarning:\n",
      "\n",
      "The frame.append method is deprecated and will be removed from pandas in a future version. Use pandas.concat instead.\n",
      "\n",
      " 79%|███████▊  | 368/468 [00:36<00:14,  7.14it/s]C:\\Users\\yousi\\AppData\\Local\\Temp\\ipykernel_24464\\3614737585.py:7: FutureWarning:\n",
      "\n",
      "The frame.append method is deprecated and will be removed from pandas in a future version. Use pandas.concat instead.\n",
      "\n",
      " 79%|███████▉  | 369/468 [00:37<00:21,  4.60it/s]C:\\Users\\yousi\\AppData\\Local\\Temp\\ipykernel_24464\\3614737585.py:7: FutureWarning:\n",
      "\n",
      "The frame.append method is deprecated and will be removed from pandas in a future version. Use pandas.concat instead.\n",
      "\n",
      " 79%|███████▉  | 370/468 [00:37<00:19,  5.08it/s]C:\\Users\\yousi\\AppData\\Local\\Temp\\ipykernel_24464\\3614737585.py:7: FutureWarning:\n",
      "\n",
      "The frame.append method is deprecated and will be removed from pandas in a future version. Use pandas.concat instead.\n",
      "\n",
      " 79%|███████▉  | 371/468 [00:37<00:17,  5.44it/s]C:\\Users\\yousi\\AppData\\Local\\Temp\\ipykernel_24464\\3614737585.py:7: FutureWarning:\n",
      "\n",
      "The frame.append method is deprecated and will be removed from pandas in a future version. Use pandas.concat instead.\n",
      "\n",
      " 79%|███████▉  | 372/468 [00:37<00:16,  5.90it/s]C:\\Users\\yousi\\AppData\\Local\\Temp\\ipykernel_24464\\3614737585.py:7: FutureWarning:\n",
      "\n",
      "The frame.append method is deprecated and will be removed from pandas in a future version. Use pandas.concat instead.\n",
      "\n",
      " 80%|███████▉  | 373/468 [00:37<00:14,  6.43it/s]C:\\Users\\yousi\\AppData\\Local\\Temp\\ipykernel_24464\\3614737585.py:7: FutureWarning:\n",
      "\n",
      "The frame.append method is deprecated and will be removed from pandas in a future version. Use pandas.concat instead.\n",
      "\n",
      " 80%|███████▉  | 374/468 [00:37<00:13,  7.04it/s]C:\\Users\\yousi\\AppData\\Local\\Temp\\ipykernel_24464\\3614737585.py:7: FutureWarning:\n",
      "\n",
      "The frame.append method is deprecated and will be removed from pandas in a future version. Use pandas.concat instead.\n",
      "\n",
      " 80%|████████  | 375/468 [00:38<00:21,  4.41it/s]C:\\Users\\yousi\\AppData\\Local\\Temp\\ipykernel_24464\\3614737585.py:7: FutureWarning:\n",
      "\n",
      "The frame.append method is deprecated and will be removed from pandas in a future version. Use pandas.concat instead.\n",
      "\n",
      " 80%|████████  | 376/468 [00:38<00:19,  4.84it/s]C:\\Users\\yousi\\AppData\\Local\\Temp\\ipykernel_24464\\3614737585.py:7: FutureWarning:\n",
      "\n",
      "The frame.append method is deprecated and will be removed from pandas in a future version. Use pandas.concat instead.\n",
      "\n",
      " 81%|████████  | 377/468 [00:38<00:17,  5.30it/s]C:\\Users\\yousi\\AppData\\Local\\Temp\\ipykernel_24464\\3614737585.py:7: FutureWarning:\n",
      "\n",
      "The frame.append method is deprecated and will be removed from pandas in a future version. Use pandas.concat instead.\n",
      "\n",
      " 81%|████████  | 378/468 [00:38<00:15,  5.69it/s]C:\\Users\\yousi\\AppData\\Local\\Temp\\ipykernel_24464\\3614737585.py:7: FutureWarning:\n",
      "\n",
      "The frame.append method is deprecated and will be removed from pandas in a future version. Use pandas.concat instead.\n",
      "\n",
      " 81%|████████  | 379/468 [00:38<00:14,  5.96it/s]C:\\Users\\yousi\\AppData\\Local\\Temp\\ipykernel_24464\\3614737585.py:7: FutureWarning:\n",
      "\n",
      "The frame.append method is deprecated and will be removed from pandas in a future version. Use pandas.concat instead.\n",
      "\n",
      " 81%|████████  | 380/468 [00:39<00:14,  6.21it/s]C:\\Users\\yousi\\AppData\\Local\\Temp\\ipykernel_24464\\3614737585.py:7: FutureWarning:\n",
      "\n",
      "The frame.append method is deprecated and will be removed from pandas in a future version. Use pandas.concat instead.\n",
      "\n",
      " 81%|████████▏ | 381/468 [00:39<00:21,  3.99it/s]C:\\Users\\yousi\\AppData\\Local\\Temp\\ipykernel_24464\\3614737585.py:7: FutureWarning:\n",
      "\n",
      "The frame.append method is deprecated and will be removed from pandas in a future version. Use pandas.concat instead.\n",
      "\n",
      " 82%|████████▏ | 382/468 [00:39<00:18,  4.56it/s]C:\\Users\\yousi\\AppData\\Local\\Temp\\ipykernel_24464\\3614737585.py:7: FutureWarning:\n",
      "\n",
      "The frame.append method is deprecated and will be removed from pandas in a future version. Use pandas.concat instead.\n",
      "\n",
      " 82%|████████▏ | 383/468 [00:39<00:16,  5.11it/s]C:\\Users\\yousi\\AppData\\Local\\Temp\\ipykernel_24464\\3614737585.py:7: FutureWarning:\n",
      "\n",
      "The frame.append method is deprecated and will be removed from pandas in a future version. Use pandas.concat instead.\n",
      "\n",
      " 82%|████████▏ | 384/468 [00:39<00:14,  5.79it/s]C:\\Users\\yousi\\AppData\\Local\\Temp\\ipykernel_24464\\3614737585.py:7: FutureWarning:\n",
      "\n",
      "The frame.append method is deprecated and will be removed from pandas in a future version. Use pandas.concat instead.\n",
      "\n",
      " 82%|████████▏ | 385/468 [00:40<00:13,  6.36it/s]C:\\Users\\yousi\\AppData\\Local\\Temp\\ipykernel_24464\\3614737585.py:7: FutureWarning:\n",
      "\n",
      "The frame.append method is deprecated and will be removed from pandas in a future version. Use pandas.concat instead.\n",
      "\n",
      " 82%|████████▏ | 386/468 [00:40<00:12,  6.67it/s]C:\\Users\\yousi\\AppData\\Local\\Temp\\ipykernel_24464\\3614737585.py:7: FutureWarning:\n",
      "\n",
      "The frame.append method is deprecated and will be removed from pandas in a future version. Use pandas.concat instead.\n",
      "\n",
      " 83%|████████▎ | 387/468 [00:40<00:19,  4.21it/s]C:\\Users\\yousi\\AppData\\Local\\Temp\\ipykernel_24464\\3614737585.py:7: FutureWarning:\n",
      "\n",
      "The frame.append method is deprecated and will be removed from pandas in a future version. Use pandas.concat instead.\n",
      "\n",
      " 83%|████████▎ | 388/468 [00:40<00:16,  4.83it/s]C:\\Users\\yousi\\AppData\\Local\\Temp\\ipykernel_24464\\3614737585.py:7: FutureWarning:\n",
      "\n",
      "The frame.append method is deprecated and will be removed from pandas in a future version. Use pandas.concat instead.\n",
      "\n",
      " 83%|████████▎ | 389/468 [00:40<00:14,  5.42it/s]C:\\Users\\yousi\\AppData\\Local\\Temp\\ipykernel_24464\\3614737585.py:7: FutureWarning:\n",
      "\n",
      "The frame.append method is deprecated and will be removed from pandas in a future version. Use pandas.concat instead.\n",
      "\n",
      " 83%|████████▎ | 390/468 [00:40<00:12,  6.08it/s]C:\\Users\\yousi\\AppData\\Local\\Temp\\ipykernel_24464\\3614737585.py:7: FutureWarning:\n",
      "\n",
      "The frame.append method is deprecated and will be removed from pandas in a future version. Use pandas.concat instead.\n",
      "\n",
      " 84%|████████▎ | 391/468 [00:41<00:11,  6.83it/s]C:\\Users\\yousi\\AppData\\Local\\Temp\\ipykernel_24464\\3614737585.py:7: FutureWarning:\n",
      "\n",
      "The frame.append method is deprecated and will be removed from pandas in a future version. Use pandas.concat instead.\n",
      "\n",
      " 84%|████████▍ | 392/468 [00:41<00:10,  7.38it/s]C:\\Users\\yousi\\AppData\\Local\\Temp\\ipykernel_24464\\3614737585.py:7: FutureWarning:\n",
      "\n",
      "The frame.append method is deprecated and will be removed from pandas in a future version. Use pandas.concat instead.\n",
      "\n",
      " 84%|████████▍ | 393/468 [00:41<00:17,  4.30it/s]C:\\Users\\yousi\\AppData\\Local\\Temp\\ipykernel_24464\\3614737585.py:7: FutureWarning:\n",
      "\n",
      "The frame.append method is deprecated and will be removed from pandas in a future version. Use pandas.concat instead.\n",
      "\n",
      " 84%|████████▍ | 394/468 [00:41<00:14,  4.94it/s]C:\\Users\\yousi\\AppData\\Local\\Temp\\ipykernel_24464\\3614737585.py:7: FutureWarning:\n",
      "\n",
      "The frame.append method is deprecated and will be removed from pandas in a future version. Use pandas.concat instead.\n",
      "\n",
      " 84%|████████▍ | 395/468 [00:41<00:13,  5.59it/s]C:\\Users\\yousi\\AppData\\Local\\Temp\\ipykernel_24464\\3614737585.py:7: FutureWarning:\n",
      "\n",
      "The frame.append method is deprecated and will be removed from pandas in a future version. Use pandas.concat instead.\n",
      "\n",
      " 85%|████████▍ | 396/468 [00:42<00:11,  6.27it/s]C:\\Users\\yousi\\AppData\\Local\\Temp\\ipykernel_24464\\3614737585.py:7: FutureWarning:\n",
      "\n",
      "The frame.append method is deprecated and will be removed from pandas in a future version. Use pandas.concat instead.\n",
      "\n",
      " 85%|████████▍ | 397/468 [00:42<00:10,  6.97it/s]C:\\Users\\yousi\\AppData\\Local\\Temp\\ipykernel_24464\\3614737585.py:7: FutureWarning:\n",
      "\n",
      "The frame.append method is deprecated and will be removed from pandas in a future version. Use pandas.concat instead.\n",
      "\n",
      " 85%|████████▌ | 398/468 [00:42<00:09,  7.54it/s]C:\\Users\\yousi\\AppData\\Local\\Temp\\ipykernel_24464\\3614737585.py:7: FutureWarning:\n",
      "\n",
      "The frame.append method is deprecated and will be removed from pandas in a future version. Use pandas.concat instead.\n",
      "\n",
      " 85%|████████▌ | 399/468 [00:42<00:15,  4.33it/s]C:\\Users\\yousi\\AppData\\Local\\Temp\\ipykernel_24464\\3614737585.py:7: FutureWarning:\n",
      "\n",
      "The frame.append method is deprecated and will be removed from pandas in a future version. Use pandas.concat instead.\n",
      "\n",
      " 85%|████████▌ | 400/468 [00:42<00:13,  5.01it/s]C:\\Users\\yousi\\AppData\\Local\\Temp\\ipykernel_24464\\3614737585.py:7: FutureWarning:\n",
      "\n",
      "The frame.append method is deprecated and will be removed from pandas in a future version. Use pandas.concat instead.\n",
      "\n",
      " 86%|████████▌ | 401/468 [00:42<00:11,  5.70it/s]C:\\Users\\yousi\\AppData\\Local\\Temp\\ipykernel_24464\\3614737585.py:7: FutureWarning:\n",
      "\n",
      "The frame.append method is deprecated and will be removed from pandas in a future version. Use pandas.concat instead.\n",
      "\n",
      " 86%|████████▌ | 402/468 [00:43<00:10,  6.35it/s]C:\\Users\\yousi\\AppData\\Local\\Temp\\ipykernel_24464\\3614737585.py:7: FutureWarning:\n",
      "\n",
      "The frame.append method is deprecated and will be removed from pandas in a future version. Use pandas.concat instead.\n",
      "\n",
      " 86%|████████▌ | 403/468 [00:43<00:09,  7.05it/s]C:\\Users\\yousi\\AppData\\Local\\Temp\\ipykernel_24464\\3614737585.py:7: FutureWarning:\n",
      "\n",
      "The frame.append method is deprecated and will be removed from pandas in a future version. Use pandas.concat instead.\n",
      "\n",
      " 86%|████████▋ | 404/468 [00:43<00:08,  7.57it/s]C:\\Users\\yousi\\AppData\\Local\\Temp\\ipykernel_24464\\3614737585.py:7: FutureWarning:\n",
      "\n",
      "The frame.append method is deprecated and will be removed from pandas in a future version. Use pandas.concat instead.\n",
      "\n",
      " 87%|████████▋ | 405/468 [00:43<00:15,  4.11it/s]C:\\Users\\yousi\\AppData\\Local\\Temp\\ipykernel_24464\\3614737585.py:7: FutureWarning:\n",
      "\n",
      "The frame.append method is deprecated and will be removed from pandas in a future version. Use pandas.concat instead.\n",
      "\n",
      " 87%|████████▋ | 406/468 [00:43<00:12,  4.79it/s]C:\\Users\\yousi\\AppData\\Local\\Temp\\ipykernel_24464\\3614737585.py:7: FutureWarning:\n",
      "\n",
      "The frame.append method is deprecated and will be removed from pandas in a future version. Use pandas.concat instead.\n",
      "\n",
      " 87%|████████▋ | 407/468 [00:44<00:11,  5.47it/s]C:\\Users\\yousi\\AppData\\Local\\Temp\\ipykernel_24464\\3614737585.py:7: FutureWarning:\n",
      "\n",
      "The frame.append method is deprecated and will be removed from pandas in a future version. Use pandas.concat instead.\n",
      "\n",
      " 87%|████████▋ | 408/468 [00:44<00:09,  6.22it/s]C:\\Users\\yousi\\AppData\\Local\\Temp\\ipykernel_24464\\3614737585.py:7: FutureWarning:\n",
      "\n",
      "The frame.append method is deprecated and will be removed from pandas in a future version. Use pandas.concat instead.\n",
      "\n",
      " 87%|████████▋ | 409/468 [00:44<00:08,  6.93it/s]C:\\Users\\yousi\\AppData\\Local\\Temp\\ipykernel_24464\\3614737585.py:7: FutureWarning:\n",
      "\n",
      "The frame.append method is deprecated and will be removed from pandas in a future version. Use pandas.concat instead.\n",
      "\n",
      " 88%|████████▊ | 410/468 [00:44<00:07,  7.39it/s]C:\\Users\\yousi\\AppData\\Local\\Temp\\ipykernel_24464\\3614737585.py:7: FutureWarning:\n",
      "\n",
      "The frame.append method is deprecated and will be removed from pandas in a future version. Use pandas.concat instead.\n",
      "\n",
      " 88%|████████▊ | 411/468 [00:44<00:13,  4.33it/s]C:\\Users\\yousi\\AppData\\Local\\Temp\\ipykernel_24464\\3614737585.py:7: FutureWarning:\n",
      "\n",
      "The frame.append method is deprecated and will be removed from pandas in a future version. Use pandas.concat instead.\n",
      "\n",
      " 88%|████████▊ | 412/468 [00:44<00:11,  4.80it/s]C:\\Users\\yousi\\AppData\\Local\\Temp\\ipykernel_24464\\3614737585.py:7: FutureWarning:\n",
      "\n",
      "The frame.append method is deprecated and will be removed from pandas in a future version. Use pandas.concat instead.\n",
      "\n",
      " 88%|████████▊ | 413/468 [00:45<00:10,  5.13it/s]C:\\Users\\yousi\\AppData\\Local\\Temp\\ipykernel_24464\\3614737585.py:7: FutureWarning:\n",
      "\n",
      "The frame.append method is deprecated and will be removed from pandas in a future version. Use pandas.concat instead.\n",
      "\n",
      " 88%|████████▊ | 414/468 [00:45<00:09,  5.45it/s]C:\\Users\\yousi\\AppData\\Local\\Temp\\ipykernel_24464\\3614737585.py:7: FutureWarning:\n",
      "\n",
      "The frame.append method is deprecated and will be removed from pandas in a future version. Use pandas.concat instead.\n",
      "\n",
      " 89%|████████▊ | 415/468 [00:45<00:09,  5.69it/s]C:\\Users\\yousi\\AppData\\Local\\Temp\\ipykernel_24464\\3614737585.py:7: FutureWarning:\n",
      "\n",
      "The frame.append method is deprecated and will be removed from pandas in a future version. Use pandas.concat instead.\n",
      "\n",
      " 89%|████████▉ | 416/468 [00:45<00:08,  6.17it/s]C:\\Users\\yousi\\AppData\\Local\\Temp\\ipykernel_24464\\3614737585.py:7: FutureWarning:\n",
      "\n",
      "The frame.append method is deprecated and will be removed from pandas in a future version. Use pandas.concat instead.\n",
      "\n",
      " 89%|████████▉ | 417/468 [00:46<00:13,  3.84it/s]C:\\Users\\yousi\\AppData\\Local\\Temp\\ipykernel_24464\\3614737585.py:7: FutureWarning:\n",
      "\n",
      "The frame.append method is deprecated and will be removed from pandas in a future version. Use pandas.concat instead.\n",
      "\n",
      " 89%|████████▉ | 418/468 [00:46<00:11,  4.36it/s]C:\\Users\\yousi\\AppData\\Local\\Temp\\ipykernel_24464\\3614737585.py:7: FutureWarning:\n",
      "\n",
      "The frame.append method is deprecated and will be removed from pandas in a future version. Use pandas.concat instead.\n",
      "\n",
      " 90%|████████▉ | 419/468 [00:46<00:10,  4.82it/s]C:\\Users\\yousi\\AppData\\Local\\Temp\\ipykernel_24464\\3614737585.py:7: FutureWarning:\n",
      "\n",
      "The frame.append method is deprecated and will be removed from pandas in a future version. Use pandas.concat instead.\n",
      "\n",
      " 90%|████████▉ | 420/468 [00:46<00:09,  5.17it/s]C:\\Users\\yousi\\AppData\\Local\\Temp\\ipykernel_24464\\3614737585.py:7: FutureWarning:\n",
      "\n",
      "The frame.append method is deprecated and will be removed from pandas in a future version. Use pandas.concat instead.\n",
      "\n",
      " 90%|████████▉ | 421/468 [00:46<00:08,  5.72it/s]C:\\Users\\yousi\\AppData\\Local\\Temp\\ipykernel_24464\\3614737585.py:7: FutureWarning:\n",
      "\n",
      "The frame.append method is deprecated and will be removed from pandas in a future version. Use pandas.concat instead.\n",
      "\n",
      " 90%|█████████ | 422/468 [00:46<00:07,  6.38it/s]C:\\Users\\yousi\\AppData\\Local\\Temp\\ipykernel_24464\\3614737585.py:7: FutureWarning:\n",
      "\n",
      "The frame.append method is deprecated and will be removed from pandas in a future version. Use pandas.concat instead.\n",
      "\n",
      " 90%|█████████ | 423/468 [00:47<00:11,  3.99it/s]C:\\Users\\yousi\\AppData\\Local\\Temp\\ipykernel_24464\\3614737585.py:7: FutureWarning:\n",
      "\n",
      "The frame.append method is deprecated and will be removed from pandas in a future version. Use pandas.concat instead.\n",
      "\n",
      " 91%|█████████ | 424/468 [00:47<00:09,  4.41it/s]C:\\Users\\yousi\\AppData\\Local\\Temp\\ipykernel_24464\\3614737585.py:7: FutureWarning:\n",
      "\n",
      "The frame.append method is deprecated and will be removed from pandas in a future version. Use pandas.concat instead.\n",
      "\n",
      " 91%|█████████ | 425/468 [00:47<00:08,  4.81it/s]C:\\Users\\yousi\\AppData\\Local\\Temp\\ipykernel_24464\\3614737585.py:7: FutureWarning:\n",
      "\n",
      "The frame.append method is deprecated and will be removed from pandas in a future version. Use pandas.concat instead.\n",
      "\n",
      " 91%|█████████ | 426/468 [00:47<00:08,  5.14it/s]C:\\Users\\yousi\\AppData\\Local\\Temp\\ipykernel_24464\\3614737585.py:7: FutureWarning:\n",
      "\n",
      "The frame.append method is deprecated and will be removed from pandas in a future version. Use pandas.concat instead.\n",
      "\n",
      " 91%|█████████ | 427/468 [00:47<00:07,  5.81it/s]C:\\Users\\yousi\\AppData\\Local\\Temp\\ipykernel_24464\\3614737585.py:7: FutureWarning:\n",
      "\n",
      "The frame.append method is deprecated and will be removed from pandas in a future version. Use pandas.concat instead.\n",
      "\n",
      " 91%|█████████▏| 428/468 [00:47<00:06,  6.45it/s]C:\\Users\\yousi\\AppData\\Local\\Temp\\ipykernel_24464\\3614737585.py:7: FutureWarning:\n",
      "\n",
      "The frame.append method is deprecated and will be removed from pandas in a future version. Use pandas.concat instead.\n",
      "\n",
      " 92%|█████████▏| 429/468 [00:48<00:09,  3.94it/s]C:\\Users\\yousi\\AppData\\Local\\Temp\\ipykernel_24464\\3614737585.py:7: FutureWarning:\n",
      "\n",
      "The frame.append method is deprecated and will be removed from pandas in a future version. Use pandas.concat instead.\n",
      "\n",
      " 92%|█████████▏| 430/468 [00:48<00:08,  4.40it/s]C:\\Users\\yousi\\AppData\\Local\\Temp\\ipykernel_24464\\3614737585.py:7: FutureWarning:\n",
      "\n",
      "The frame.append method is deprecated and will be removed from pandas in a future version. Use pandas.concat instead.\n",
      "\n",
      " 92%|█████████▏| 431/468 [00:48<00:07,  4.93it/s]C:\\Users\\yousi\\AppData\\Local\\Temp\\ipykernel_24464\\3614737585.py:7: FutureWarning:\n",
      "\n",
      "The frame.append method is deprecated and will be removed from pandas in a future version. Use pandas.concat instead.\n",
      "\n",
      " 92%|█████████▏| 432/468 [00:48<00:06,  5.48it/s]C:\\Users\\yousi\\AppData\\Local\\Temp\\ipykernel_24464\\3614737585.py:7: FutureWarning:\n",
      "\n",
      "The frame.append method is deprecated and will be removed from pandas in a future version. Use pandas.concat instead.\n",
      "\n",
      " 93%|█████████▎| 433/468 [00:49<00:05,  6.10it/s]C:\\Users\\yousi\\AppData\\Local\\Temp\\ipykernel_24464\\3614737585.py:7: FutureWarning:\n",
      "\n",
      "The frame.append method is deprecated and will be removed from pandas in a future version. Use pandas.concat instead.\n",
      "\n",
      " 93%|█████████▎| 434/468 [00:49<00:05,  6.57it/s]C:\\Users\\yousi\\AppData\\Local\\Temp\\ipykernel_24464\\3614737585.py:7: FutureWarning:\n",
      "\n",
      "The frame.append method is deprecated and will be removed from pandas in a future version. Use pandas.concat instead.\n",
      "\n",
      " 93%|█████████▎| 435/468 [00:49<00:08,  3.74it/s]C:\\Users\\yousi\\AppData\\Local\\Temp\\ipykernel_24464\\3614737585.py:7: FutureWarning:\n",
      "\n",
      "The frame.append method is deprecated and will be removed from pandas in a future version. Use pandas.concat instead.\n",
      "\n",
      " 93%|█████████▎| 436/468 [00:49<00:07,  4.28it/s]C:\\Users\\yousi\\AppData\\Local\\Temp\\ipykernel_24464\\3614737585.py:7: FutureWarning:\n",
      "\n",
      "The frame.append method is deprecated and will be removed from pandas in a future version. Use pandas.concat instead.\n",
      "\n",
      " 93%|█████████▎| 437/468 [00:49<00:06,  4.92it/s]C:\\Users\\yousi\\AppData\\Local\\Temp\\ipykernel_24464\\3614737585.py:7: FutureWarning:\n",
      "\n",
      "The frame.append method is deprecated and will be removed from pandas in a future version. Use pandas.concat instead.\n",
      "\n",
      " 94%|█████████▎| 438/468 [00:50<00:05,  5.56it/s]C:\\Users\\yousi\\AppData\\Local\\Temp\\ipykernel_24464\\3614737585.py:7: FutureWarning:\n",
      "\n",
      "The frame.append method is deprecated and will be removed from pandas in a future version. Use pandas.concat instead.\n",
      "\n",
      " 94%|█████████▍| 439/468 [00:50<00:04,  6.19it/s]C:\\Users\\yousi\\AppData\\Local\\Temp\\ipykernel_24464\\3614737585.py:7: FutureWarning:\n",
      "\n",
      "The frame.append method is deprecated and will be removed from pandas in a future version. Use pandas.concat instead.\n",
      "\n",
      " 94%|█████████▍| 440/468 [00:50<00:04,  6.76it/s]C:\\Users\\yousi\\AppData\\Local\\Temp\\ipykernel_24464\\3614737585.py:7: FutureWarning:\n",
      "\n",
      "The frame.append method is deprecated and will be removed from pandas in a future version. Use pandas.concat instead.\n",
      "\n",
      " 94%|█████████▍| 441/468 [00:50<00:06,  3.99it/s]C:\\Users\\yousi\\AppData\\Local\\Temp\\ipykernel_24464\\3614737585.py:7: FutureWarning:\n",
      "\n",
      "The frame.append method is deprecated and will be removed from pandas in a future version. Use pandas.concat instead.\n",
      "\n",
      " 94%|█████████▍| 442/468 [00:50<00:05,  4.43it/s]C:\\Users\\yousi\\AppData\\Local\\Temp\\ipykernel_24464\\3614737585.py:7: FutureWarning:\n",
      "\n",
      "The frame.append method is deprecated and will be removed from pandas in a future version. Use pandas.concat instead.\n",
      "\n",
      " 95%|█████████▍| 443/468 [00:51<00:05,  4.81it/s]C:\\Users\\yousi\\AppData\\Local\\Temp\\ipykernel_24464\\3614737585.py:7: FutureWarning:\n",
      "\n",
      "The frame.append method is deprecated and will be removed from pandas in a future version. Use pandas.concat instead.\n",
      "\n",
      " 95%|█████████▍| 444/468 [00:51<00:04,  5.12it/s]C:\\Users\\yousi\\AppData\\Local\\Temp\\ipykernel_24464\\3614737585.py:7: FutureWarning:\n",
      "\n",
      "The frame.append method is deprecated and will be removed from pandas in a future version. Use pandas.concat instead.\n",
      "\n",
      " 95%|█████████▌| 445/468 [00:51<00:04,  5.30it/s]C:\\Users\\yousi\\AppData\\Local\\Temp\\ipykernel_24464\\3614737585.py:7: FutureWarning:\n",
      "\n",
      "The frame.append method is deprecated and will be removed from pandas in a future version. Use pandas.concat instead.\n",
      "\n",
      " 95%|█████████▌| 446/468 [00:51<00:03,  5.82it/s]C:\\Users\\yousi\\AppData\\Local\\Temp\\ipykernel_24464\\3614737585.py:7: FutureWarning:\n",
      "\n",
      "The frame.append method is deprecated and will be removed from pandas in a future version. Use pandas.concat instead.\n",
      "\n",
      " 96%|█████████▌| 447/468 [00:52<00:05,  3.71it/s]C:\\Users\\yousi\\AppData\\Local\\Temp\\ipykernel_24464\\3614737585.py:7: FutureWarning:\n",
      "\n",
      "The frame.append method is deprecated and will be removed from pandas in a future version. Use pandas.concat instead.\n",
      "\n",
      " 96%|█████████▌| 448/468 [00:52<00:04,  4.17it/s]C:\\Users\\yousi\\AppData\\Local\\Temp\\ipykernel_24464\\3614737585.py:7: FutureWarning:\n",
      "\n",
      "The frame.append method is deprecated and will be removed from pandas in a future version. Use pandas.concat instead.\n",
      "\n",
      " 96%|█████████▌| 449/468 [00:52<00:04,  4.54it/s]C:\\Users\\yousi\\AppData\\Local\\Temp\\ipykernel_24464\\3614737585.py:7: FutureWarning:\n",
      "\n",
      "The frame.append method is deprecated and will be removed from pandas in a future version. Use pandas.concat instead.\n",
      "\n",
      " 96%|█████████▌| 450/468 [00:52<00:03,  4.87it/s]C:\\Users\\yousi\\AppData\\Local\\Temp\\ipykernel_24464\\3614737585.py:7: FutureWarning:\n",
      "\n",
      "The frame.append method is deprecated and will be removed from pandas in a future version. Use pandas.concat instead.\n",
      "\n",
      " 96%|█████████▋| 451/468 [00:52<00:03,  5.42it/s]C:\\Users\\yousi\\AppData\\Local\\Temp\\ipykernel_24464\\3614737585.py:7: FutureWarning:\n",
      "\n",
      "The frame.append method is deprecated and will be removed from pandas in a future version. Use pandas.concat instead.\n",
      "\n",
      " 97%|█████████▋| 452/468 [00:52<00:02,  6.02it/s]C:\\Users\\yousi\\AppData\\Local\\Temp\\ipykernel_24464\\3614737585.py:7: FutureWarning:\n",
      "\n",
      "The frame.append method is deprecated and will be removed from pandas in a future version. Use pandas.concat instead.\n",
      "\n",
      " 97%|█████████▋| 453/468 [00:53<00:04,  3.66it/s]C:\\Users\\yousi\\AppData\\Local\\Temp\\ipykernel_24464\\3614737585.py:7: FutureWarning:\n",
      "\n",
      "The frame.append method is deprecated and will be removed from pandas in a future version. Use pandas.concat instead.\n",
      "\n",
      " 97%|█████████▋| 454/468 [00:53<00:03,  4.09it/s]C:\\Users\\yousi\\AppData\\Local\\Temp\\ipykernel_24464\\3614737585.py:7: FutureWarning:\n",
      "\n",
      "The frame.append method is deprecated and will be removed from pandas in a future version. Use pandas.concat instead.\n",
      "\n",
      " 97%|█████████▋| 455/468 [00:53<00:02,  4.53it/s]C:\\Users\\yousi\\AppData\\Local\\Temp\\ipykernel_24464\\3614737585.py:7: FutureWarning:\n",
      "\n",
      "The frame.append method is deprecated and will be removed from pandas in a future version. Use pandas.concat instead.\n",
      "\n",
      " 97%|█████████▋| 456/468 [00:53<00:02,  5.09it/s]C:\\Users\\yousi\\AppData\\Local\\Temp\\ipykernel_24464\\3614737585.py:7: FutureWarning:\n",
      "\n",
      "The frame.append method is deprecated and will be removed from pandas in a future version. Use pandas.concat instead.\n",
      "\n",
      " 98%|█████████▊| 457/468 [00:54<00:01,  5.64it/s]C:\\Users\\yousi\\AppData\\Local\\Temp\\ipykernel_24464\\3614737585.py:7: FutureWarning:\n",
      "\n",
      "The frame.append method is deprecated and will be removed from pandas in a future version. Use pandas.concat instead.\n",
      "\n",
      " 98%|█████████▊| 458/468 [00:54<00:01,  6.19it/s]C:\\Users\\yousi\\AppData\\Local\\Temp\\ipykernel_24464\\3614737585.py:7: FutureWarning:\n",
      "\n",
      "The frame.append method is deprecated and will be removed from pandas in a future version. Use pandas.concat instead.\n",
      "\n",
      " 98%|█████████▊| 459/468 [00:54<00:02,  3.67it/s]C:\\Users\\yousi\\AppData\\Local\\Temp\\ipykernel_24464\\3614737585.py:7: FutureWarning:\n",
      "\n",
      "The frame.append method is deprecated and will be removed from pandas in a future version. Use pandas.concat instead.\n",
      "\n",
      " 98%|█████████▊| 460/468 [00:54<00:01,  4.21it/s]C:\\Users\\yousi\\AppData\\Local\\Temp\\ipykernel_24464\\3614737585.py:7: FutureWarning:\n",
      "\n",
      "The frame.append method is deprecated and will be removed from pandas in a future version. Use pandas.concat instead.\n",
      "\n",
      " 99%|█████████▊| 461/468 [00:54<00:01,  4.85it/s]C:\\Users\\yousi\\AppData\\Local\\Temp\\ipykernel_24464\\3614737585.py:7: FutureWarning:\n",
      "\n",
      "The frame.append method is deprecated and will be removed from pandas in a future version. Use pandas.concat instead.\n",
      "\n",
      " 99%|█████████▊| 462/468 [00:55<00:01,  5.45it/s]C:\\Users\\yousi\\AppData\\Local\\Temp\\ipykernel_24464\\3614737585.py:7: FutureWarning:\n",
      "\n",
      "The frame.append method is deprecated and will be removed from pandas in a future version. Use pandas.concat instead.\n",
      "\n",
      " 99%|█████████▉| 463/468 [00:55<00:00,  5.99it/s]C:\\Users\\yousi\\AppData\\Local\\Temp\\ipykernel_24464\\3614737585.py:7: FutureWarning:\n",
      "\n",
      "The frame.append method is deprecated and will be removed from pandas in a future version. Use pandas.concat instead.\n",
      "\n",
      " 99%|█████████▉| 464/468 [00:55<00:00,  6.47it/s]C:\\Users\\yousi\\AppData\\Local\\Temp\\ipykernel_24464\\3614737585.py:7: FutureWarning:\n",
      "\n",
      "The frame.append method is deprecated and will be removed from pandas in a future version. Use pandas.concat instead.\n",
      "\n",
      " 99%|█████████▉| 465/468 [00:55<00:00,  3.67it/s]C:\\Users\\yousi\\AppData\\Local\\Temp\\ipykernel_24464\\3614737585.py:7: FutureWarning:\n",
      "\n",
      "The frame.append method is deprecated and will be removed from pandas in a future version. Use pandas.concat instead.\n",
      "\n",
      "100%|█████████▉| 466/468 [00:56<00:00,  4.09it/s]C:\\Users\\yousi\\AppData\\Local\\Temp\\ipykernel_24464\\3614737585.py:7: FutureWarning:\n",
      "\n",
      "The frame.append method is deprecated and will be removed from pandas in a future version. Use pandas.concat instead.\n",
      "\n",
      "100%|█████████▉| 467/468 [00:56<00:00,  4.48it/s]C:\\Users\\yousi\\AppData\\Local\\Temp\\ipykernel_24464\\3614737585.py:7: FutureWarning:\n",
      "\n",
      "The frame.append method is deprecated and will be removed from pandas in a future version. Use pandas.concat instead.\n",
      "\n",
      "100%|██████████| 468/468 [00:56<00:00,  8.29it/s]\n"
     ]
    }
   ],
   "source": [
    "#data import\n",
    "filenames_list = os.listdir('SMNI_CMI_TRAIN/Train') ## list of file names in the directory\n",
    "EEG_data = pd.DataFrame({}) ## create an empty df that will hold data from each file\n",
    "print(len(filenames_list))\n",
    "for file_name in tqdm(filenames_list):\n",
    "    temp_df = pd.read_csv('SMNI_CMI_TRAIN/Train/' + file_name) ## read from the file to df\n",
    "    EEG_data = EEG_data.append(temp_df) ## add the file data to the main df\n",
    "\n",
    "EEG_data = EEG_data.drop(['Unnamed: 0'], axis=1) ## remove the unused column\n",
    "EEG_data.loc[EEG_data['matching condition'] == 'S2 nomatch,', 'matching condition'] =  'S2 nomatch' ## remove comma sign from stimulus name"
   ],
   "metadata": {
    "collapsed": false,
    "pycharm": {
     "name": "#%%\n"
    }
   }
  },
  {
   "cell_type": "code",
   "execution_count": 13,
   "outputs": [],
   "source": [
    "#example try for create train set\n",
    "temp_df = pd.read_csv('SMNI_CMI_TRAIN/Train/Data1.csv')\n",
    "# print(temp_df['subject identifier'][0])\n",
    "# print(temp_df[\"matching condition\"][0])\n",
    "# print(np.array(temp_df[\"sensor value\"]).reshape([64,256]))"
   ],
   "metadata": {
    "collapsed": false,
    "pycharm": {
     "name": "#%%\n"
    }
   }
  },
  {
   "cell_type": "code",
   "execution_count": 14,
   "outputs": [
    {
     "name": "stdout",
     "output_type": "stream",
     "text": [
      "468\n"
     ]
    },
    {
     "name": "stderr",
     "output_type": "stream",
     "text": [
      "100%|██████████| 468/468 [00:04<00:00, 96.07it/s] "
     ]
    },
    {
     "name": "stdout",
     "output_type": "stream",
     "text": [
      "160\n",
      "159\n",
      "149\n"
     ]
    },
    {
     "name": "stderr",
     "output_type": "stream",
     "text": [
      "\n"
     ]
    }
   ],
   "source": [
    "#S1: S1 obj - a single object shown;\n",
    "s1 = 0\n",
    "#S12: S2 nomatch - object 2 shown in a non matching condition (S1 differed from S2)\n",
    "s12 = 0\n",
    "#S21: S2 match - object 2 shown in a matching condition (S1 was identical to S2),\n",
    "s21 = 0\n",
    "s1_X_train = np.zeros((160,256,64))\n",
    "s1_y_train = np.zeros(160)\n",
    "s21_X_train = np.zeros((159,256,64))\n",
    "s21_y_train = np.zeros(159)\n",
    "s12_X_train = np.zeros((149,256,64))\n",
    "s12_y_train = np.zeros(149)\n",
    "\n",
    "\n",
    "classifier = {'a':1,'c':0}\n",
    "\n",
    "filenames_list = os.listdir('SMNI_CMI_TRAIN/Train') ## list of file names in the directory\n",
    "EEG_data = pd.DataFrame({}) ## create an empty df that will hold data from each file\n",
    "print(len(filenames_list))\n",
    "for file_name in tqdm(filenames_list):\n",
    "    temp_df = pd.read_csv('SMNI_CMI_TRAIN/Train/' + file_name) ## read from the file to df\n",
    "    if temp_df[\"matching condition\"][0] == \"S1 obj\":\n",
    "        s1_X_train[s1] = np.transpose(np.array(temp_df[\"sensor value\"]).reshape([64,256]))\n",
    "        s1_y_train[s1] = classifier[temp_df['subject identifier'][0]]\n",
    "        s1 += 1\n",
    "    if temp_df[\"matching condition\"][0] == \"S2 match\":\n",
    "        s21_X_train[s21] = np.transpose(np.array(temp_df[\"sensor value\"]).reshape([64,256]))\n",
    "        s21_y_train[s21] = classifier[temp_df['subject identifier'][0]]\n",
    "        s21 += 1\n",
    "    if temp_df[\"matching condition\"][0] == \"S2 nomatch,\":\n",
    "        s12_X_train[s12] = np.transpose(np.array(temp_df[\"sensor value\"]).reshape([64,256]))\n",
    "        s12_y_train[s12] = classifier[temp_df['subject identifier'][0]]\n",
    "        s12 += 1\n",
    "print(s1)\n",
    "print(s21)\n",
    "print(s12)"
   ],
   "metadata": {
    "collapsed": false,
    "pycharm": {
     "name": "#%%\n"
    }
   }
  },
  {
   "cell_type": "code",
   "execution_count": 15,
   "outputs": [
    {
     "name": "stdout",
     "output_type": "stream",
     "text": [
      "481\n"
     ]
    },
    {
     "name": "stderr",
     "output_type": "stream",
     "text": [
      "100%|██████████| 481/481 [00:05<00:00, 94.55it/s]"
     ]
    },
    {
     "name": "stdout",
     "output_type": "stream",
     "text": [
      "160\n",
      "160\n",
      "160\n"
     ]
    },
    {
     "name": "stderr",
     "output_type": "stream",
     "text": [
      "\n"
     ]
    }
   ],
   "source": [
    "#t1: S1 obj - a single object shown;\n",
    "t1 = 0\n",
    "#t12: S2 nomatch - object 2 shown in a non matching condition (S1 differed from S2)\n",
    "t12 = 0\n",
    "#t21: S2 match - object 2 shown in a matching condition (S1 was identical to S2),\n",
    "t21 = 0\n",
    "t1_X_test = np.zeros((160,256,64))\n",
    "t1_y_test = np.zeros(160)\n",
    "t21_X_test = np.zeros((160,256,64))\n",
    "t21_y_test = np.zeros(160)\n",
    "t12_X_test = np.zeros((160,256,64))\n",
    "t12_y_test = np.zeros(160)\n",
    "\n",
    "\n",
    "classifier = {'a':1,'c':0}\n",
    "\n",
    "filenames_list = os.listdir('SMNI_CMI_TEST') ## list of file names in the directory\n",
    "EEG_data = pd.DataFrame({}) ## create an empty df that will hold data from each file\n",
    "print(len(filenames_list))\n",
    "for file_name in tqdm(filenames_list):\n",
    "    if file_name == \"Test\":\n",
    "        pass\n",
    "    else:\n",
    "        temp_df = pd.read_csv('SMNI_CMI_TEST/' + file_name) ## read from the file to df\n",
    "        if temp_df[\"matching condition\"][0] == \"S1 obj\":\n",
    "            t1_X_test[t1] = np.transpose(np.array(temp_df[\"sensor value\"]).reshape([64,256]))\n",
    "            t1_y_test[t1] = classifier[temp_df['subject identifier'][0]]\n",
    "            t1 += 1\n",
    "        if temp_df[\"matching condition\"][0] == \"S2 match\":\n",
    "            t21_X_test[t21] = np.transpose(np.array(temp_df[\"sensor value\"]).reshape([64,256]))\n",
    "            t21_y_test[t21] = classifier[temp_df['subject identifier'][0]]\n",
    "            t21 += 1\n",
    "        if temp_df[\"matching condition\"][0] == \"S2 nomatch,\":\n",
    "            t12_X_test[t12] = np.transpose(np.array(temp_df[\"sensor value\"]).reshape([64,256]))\n",
    "            t12_y_test[t12] = classifier[temp_df['subject identifier'][0]]\n",
    "            t12 += 1\n",
    "print(t1)\n",
    "print(t21)\n",
    "print(t12)"
   ],
   "metadata": {
    "collapsed": false,
    "pycharm": {
     "name": "#%%\n"
    }
   }
  },
  {
   "cell_type": "code",
   "execution_count": 16,
   "outputs": [
    {
     "name": "stderr",
     "output_type": "stream",
     "text": [
      "  6%|▌         | 1/17 [00:07<02:04,  7.81s/it]"
     ]
    },
    {
     "name": "stdout",
     "output_type": "stream",
     "text": [
      "0.65625\n"
     ]
    },
    {
     "name": "stderr",
     "output_type": "stream",
     "text": [
      " 12%|█▏        | 2/17 [00:15<01:52,  7.47s/it]"
     ]
    },
    {
     "name": "stdout",
     "output_type": "stream",
     "text": [
      "0.6875\n"
     ]
    },
    {
     "name": "stderr",
     "output_type": "stream",
     "text": [
      " 18%|█▊        | 3/17 [00:22<01:42,  7.36s/it]"
     ]
    },
    {
     "name": "stdout",
     "output_type": "stream",
     "text": [
      "0.66875\n"
     ]
    },
    {
     "name": "stderr",
     "output_type": "stream",
     "text": [
      " 24%|██▎       | 4/17 [00:29<01:34,  7.29s/it]"
     ]
    },
    {
     "name": "stdout",
     "output_type": "stream",
     "text": [
      "0.69375\n"
     ]
    },
    {
     "name": "stderr",
     "output_type": "stream",
     "text": [
      " 29%|██▉       | 5/17 [00:36<01:27,  7.25s/it]"
     ]
    },
    {
     "name": "stdout",
     "output_type": "stream",
     "text": [
      "0.675\n"
     ]
    },
    {
     "name": "stderr",
     "output_type": "stream",
     "text": [
      " 35%|███▌      | 6/17 [00:43<01:19,  7.23s/it]"
     ]
    },
    {
     "name": "stdout",
     "output_type": "stream",
     "text": [
      "0.675\n"
     ]
    },
    {
     "name": "stderr",
     "output_type": "stream",
     "text": [
      " 41%|████      | 7/17 [00:50<01:11,  7.20s/it]"
     ]
    },
    {
     "name": "stdout",
     "output_type": "stream",
     "text": [
      "0.69375\n"
     ]
    },
    {
     "name": "stderr",
     "output_type": "stream",
     "text": [
      " 47%|████▋     | 8/17 [00:58<01:04,  7.20s/it]"
     ]
    },
    {
     "name": "stdout",
     "output_type": "stream",
     "text": [
      "0.69375\n"
     ]
    },
    {
     "name": "stderr",
     "output_type": "stream",
     "text": [
      " 53%|█████▎    | 9/17 [01:05<00:58,  7.30s/it]"
     ]
    },
    {
     "name": "stdout",
     "output_type": "stream",
     "text": [
      "0.6625\n"
     ]
    },
    {
     "name": "stderr",
     "output_type": "stream",
     "text": [
      " 59%|█████▉    | 10/17 [01:12<00:50,  7.26s/it]"
     ]
    },
    {
     "name": "stdout",
     "output_type": "stream",
     "text": [
      "0.675\n"
     ]
    },
    {
     "name": "stderr",
     "output_type": "stream",
     "text": [
      " 65%|██████▍   | 11/17 [01:19<00:43,  7.21s/it]"
     ]
    },
    {
     "name": "stdout",
     "output_type": "stream",
     "text": [
      "0.6375\n"
     ]
    },
    {
     "name": "stderr",
     "output_type": "stream",
     "text": [
      " 71%|███████   | 12/17 [01:27<00:35,  7.17s/it]"
     ]
    },
    {
     "name": "stdout",
     "output_type": "stream",
     "text": [
      "0.675\n"
     ]
    },
    {
     "name": "stderr",
     "output_type": "stream",
     "text": [
      " 76%|███████▋  | 13/17 [01:34<00:28,  7.16s/it]"
     ]
    },
    {
     "name": "stdout",
     "output_type": "stream",
     "text": [
      "0.65625\n"
     ]
    },
    {
     "name": "stderr",
     "output_type": "stream",
     "text": [
      " 82%|████████▏ | 14/17 [01:41<00:21,  7.13s/it]"
     ]
    },
    {
     "name": "stdout",
     "output_type": "stream",
     "text": [
      "0.68125\n"
     ]
    },
    {
     "name": "stderr",
     "output_type": "stream",
     "text": [
      " 88%|████████▊ | 15/17 [01:48<00:14,  7.14s/it]"
     ]
    },
    {
     "name": "stdout",
     "output_type": "stream",
     "text": [
      "0.64375\n"
     ]
    },
    {
     "name": "stderr",
     "output_type": "stream",
     "text": [
      " 94%|█████████▍| 16/17 [01:55<00:07,  7.18s/it]"
     ]
    },
    {
     "name": "stdout",
     "output_type": "stream",
     "text": [
      "0.69375\n"
     ]
    },
    {
     "name": "stderr",
     "output_type": "stream",
     "text": [
      "100%|██████████| 17/17 [02:02<00:00,  7.23s/it]"
     ]
    },
    {
     "name": "stdout",
     "output_type": "stream",
     "text": [
      "0.65625\n"
     ]
    },
    {
     "name": "stderr",
     "output_type": "stream",
     "text": [
      "\n"
     ]
    }
   ],
   "source": [
    "for i in tqdm(range(3,20)):\n",
    "    knn = KNeighborsTimeSeriesClassifier(n_neighbors=i, n_jobs=10)\n",
    "    knn.fit(s1_X_train, s1_y_train)\n",
    "    print(knn.score(t1_X_test,t1_y_test))"
   ],
   "metadata": {
    "collapsed": false,
    "pycharm": {
     "name": "#%%\n"
    }
   }
  },
  {
   "cell_type": "code",
   "execution_count": 17,
   "outputs": [
    {
     "name": "stdout",
     "output_type": "stream",
     "text": [
      "0.725\n"
     ]
    }
   ],
   "source": [
    "clf = TimeSeriesSVC(C=1.0, kernel=\"gak\", n_jobs=10)\n",
    "clf.fit(s1_X_train, s1_y_train)\n",
    "print(clf.score(t1_X_test, t1_y_test))"
   ],
   "metadata": {
    "collapsed": false,
    "pycharm": {
     "name": "#%%\n"
    }
   }
  },
  {
   "cell_type": "code",
   "execution_count": 18,
   "outputs": [],
   "source": [
    "s1_sig_train = sig.sig(s1_X_train, 2)\n",
    "s1_sig_test = sig.sig(t1_X_test, 2)"
   ],
   "metadata": {
    "collapsed": false,
    "pycharm": {
     "name": "#%%\n"
    }
   }
  },
  {
   "cell_type": "code",
   "execution_count": 19,
   "outputs": [
    {
     "data": {
      "text/plain": "<Figure size 360x360 with 1 Axes>",
      "image/png": "[encoded data removed]"
     },
     "metadata": {},
     "output_type": "display_data"
    },
    {
     "name": "stdout",
     "output_type": "stream",
     "text": [
      "score is 0.9176562500000001\n"
     ]
    }
   ],
   "source": [
    "clf = RandomForestClassifier()\n",
    "clf.fit(s1_sig_train, s1_y_train)\n",
    "y_pred_proba = clf.predict_proba(s1_sig_test)[:,1]\n",
    "y_pred = clf.predict(s1_sig_test)\n",
    "\n",
    "bc = BinaryClassification(t1_y_test, y_pred_proba, labels=[\"Class 0\", \"Class 1\"])\n",
    "# Figures\n",
    "plt.figure(figsize=(5,5))\n",
    "bc.plot_roc_curve()\n",
    "plt.title(\"Receiver Operating Characteristic Using Random Forest\")\n",
    "plt.show()\n",
    "score = roc_auc_score(t1_y_test, y_pred_proba)\n",
    "print(\"score is \" + str(score))"
   ],
   "metadata": {
    "collapsed": false,
    "pycharm": {
     "name": "#%%\n"
    }
   }
  },
  {
   "cell_type": "code",
   "execution_count": 20,
   "outputs": [
    {
     "data": {
      "text/plain": "<Figure size 360x360 with 1 Axes>",
      "image/png": "[encoded data removed]"
     },
     "metadata": {},
     "output_type": "display_data"
    },
    {
     "name": "stdout",
     "output_type": "stream",
     "text": [
      "score is 0.9254687500000002\n"
     ]
    }
   ],
   "source": [
    "clf = LogisticRegression()\n",
    "clf.fit(s1_sig_train, s1_y_train)\n",
    "y_pred_proba = clf.predict_proba(s1_sig_test)[:,1]\n",
    "y_pred = clf.predict(s1_sig_test)\n",
    "\n",
    "bc = BinaryClassification(t1_y_test, y_pred_proba, labels=[\"Class 0\", \"Class 1\"])\n",
    "# Figures\n",
    "plt.figure(figsize=(5,5))\n",
    "bc.plot_roc_curve()\n",
    "plt.title(\"Receiver Operating Characteristic Using Logistic Regression\")\n",
    "plt.show()\n",
    "score = roc_auc_score(t1_y_test, y_pred_proba)\n",
    "print(\"score is \" + str(score))"
   ],
   "metadata": {
    "collapsed": false,
    "pycharm": {
     "name": "#%%\n"
    }
   }
  },
  {
   "cell_type": "code",
   "execution_count": 21,
   "outputs": [
    {
     "data": {
      "text/plain": "<Figure size 360x360 with 1 Axes>",
      "image/png": "[encoded data removed]"
     },
     "metadata": {},
     "output_type": "display_data"
    },
    {
     "name": "stdout",
     "output_type": "stream",
     "text": [
      "score is 0.8434375000000001\n"
     ]
    }
   ],
   "source": [
    "clf = SVC(probability=True)\n",
    "clf.fit(s1_sig_train, s1_y_train)\n",
    "y_pred_proba = clf.predict_proba(s1_sig_test)[:,1]\n",
    "y_pred = clf.predict(s1_sig_test)\n",
    "bc = BinaryClassification(t1_y_test, y_pred_proba, labels=[\"Class 0\", \"Class 1\"])\n",
    "# Figures\n",
    "plt.figure(figsize=(5,5))\n",
    "bc.plot_roc_curve()\n",
    "plt.title(\"Receiver Operating Characteristic Using SVC\")\n",
    "plt.show()\n",
    "score = roc_auc_score(t1_y_test, y_pred_proba)\n",
    "print(\"score is \" + str(score))"
   ],
   "metadata": {
    "collapsed": false,
    "pycharm": {
     "name": "#%%\n"
    }
   }
  },
  {
   "cell_type": "code",
   "execution_count": 22,
   "outputs": [
    {
     "name": "stderr",
     "output_type": "stream",
     "text": [
      "  6%|▌         | 1/17 [00:00<00:01,  8.63it/s]"
     ]
    },
    {
     "name": "stdout",
     "output_type": "stream",
     "text": [
      "0.7625\n",
      "0.75\n",
      "0.75\n",
      "0.75\n",
      "0.73125\n",
      "0.74375\n",
      "0.7625\n",
      "0.75625\n"
     ]
    },
    {
     "name": "stderr",
     "output_type": "stream",
     "text": [
      "100%|██████████| 17/17 [00:00<00:00, 62.60it/s]"
     ]
    },
    {
     "name": "stdout",
     "output_type": "stream",
     "text": [
      "0.7625\n",
      "0.75625\n",
      "0.7625\n",
      "0.75625\n",
      "0.76875\n",
      "0.7625\n",
      "0.75625\n",
      "0.74375\n",
      "0.75625\n"
     ]
    },
    {
     "name": "stderr",
     "output_type": "stream",
     "text": [
      "\n"
     ]
    }
   ],
   "source": [
    "for i in tqdm(range(3,20)):\n",
    "    knn = KNeighborsClassifier(n_neighbors=i, n_jobs=10)\n",
    "    knn.fit(s1_sig_train, s1_y_train)\n",
    "    y_pred = knn.predict(s1_sig_test)\n",
    "    print(accuracy_score(t1_y_test, y_pred))"
   ],
   "metadata": {
    "collapsed": false,
    "pycharm": {
     "name": "#%%\n"
    }
   }
  },
  {
   "cell_type": "code",
   "execution_count": 23,
   "outputs": [
    {
     "data": {
      "text/plain": "<Figure size 360x360 with 1 Axes>",
      "image/png": "[encoded data removed]"
     },
     "metadata": {},
     "output_type": "display_data"
    },
    {
     "name": "stdout",
     "output_type": "stream",
     "text": [
      "score is 0.9187500000000001\n"
     ]
    }
   ],
   "source": [
    "clf = AdaBoostClassifier()\n",
    "clf.fit(s1_sig_train, s1_y_train)\n",
    "y_pred_proba = clf.predict_proba(s1_sig_test)[:,1]\n",
    "y_pred = clf.predict(s1_sig_test)\n",
    "\n",
    "bc = BinaryClassification(t1_y_test, y_pred_proba, labels=[\"Class 0\", \"Class 1\"])\n",
    "# Figures\n",
    "plt.figure(figsize=(5,5))\n",
    "bc.plot_roc_curve()\n",
    "plt.title(\"Receiver Operating Characteristic Using AdaBoostClassifier\")\n",
    "plt.show()\n",
    "score = roc_auc_score(t1_y_test, y_pred_proba)\n",
    "print(\"score is \" + str(score))"
   ],
   "metadata": {
    "collapsed": false,
    "pycharm": {
     "name": "#%%\n"
    }
   }
  },
  {
   "cell_type": "code",
   "execution_count": 24,
   "outputs": [
    {
     "name": "stderr",
     "output_type": "stream",
     "text": [
      "  6%|▌         | 1/17 [00:06<01:45,  6.62s/it]"
     ]
    },
    {
     "name": "stdout",
     "output_type": "stream",
     "text": [
      "0.73125\n"
     ]
    },
    {
     "name": "stderr",
     "output_type": "stream",
     "text": [
      " 12%|█▏        | 2/17 [00:13<01:39,  6.64s/it]"
     ]
    },
    {
     "name": "stdout",
     "output_type": "stream",
     "text": [
      "0.775\n"
     ]
    },
    {
     "name": "stderr",
     "output_type": "stream",
     "text": [
      " 18%|█▊        | 3/17 [00:19<01:33,  6.66s/it]"
     ]
    },
    {
     "name": "stdout",
     "output_type": "stream",
     "text": [
      "0.69375\n"
     ]
    },
    {
     "name": "stderr",
     "output_type": "stream",
     "text": [
      " 24%|██▎       | 4/17 [00:26<01:26,  6.67s/it]"
     ]
    },
    {
     "name": "stdout",
     "output_type": "stream",
     "text": [
      "0.75\n"
     ]
    },
    {
     "name": "stderr",
     "output_type": "stream",
     "text": [
      " 29%|██▉       | 5/17 [00:33<01:19,  6.67s/it]"
     ]
    },
    {
     "name": "stdout",
     "output_type": "stream",
     "text": [
      "0.71875\n"
     ]
    },
    {
     "name": "stderr",
     "output_type": "stream",
     "text": [
      " 35%|███▌      | 6/17 [00:40<01:13,  6.68s/it]"
     ]
    },
    {
     "name": "stdout",
     "output_type": "stream",
     "text": [
      "0.725\n"
     ]
    },
    {
     "name": "stderr",
     "output_type": "stream",
     "text": [
      " 41%|████      | 7/17 [00:46<01:06,  6.67s/it]"
     ]
    },
    {
     "name": "stdout",
     "output_type": "stream",
     "text": [
      "0.6875\n"
     ]
    },
    {
     "name": "stderr",
     "output_type": "stream",
     "text": [
      " 47%|████▋     | 8/17 [00:53<00:59,  6.66s/it]"
     ]
    },
    {
     "name": "stdout",
     "output_type": "stream",
     "text": [
      "0.7125\n"
     ]
    },
    {
     "name": "stderr",
     "output_type": "stream",
     "text": [
      " 53%|█████▎    | 9/17 [00:59<00:53,  6.66s/it]"
     ]
    },
    {
     "name": "stdout",
     "output_type": "stream",
     "text": [
      "0.675\n"
     ]
    },
    {
     "name": "stderr",
     "output_type": "stream",
     "text": [
      " 59%|█████▉    | 10/17 [01:06<00:46,  6.65s/it]"
     ]
    },
    {
     "name": "stdout",
     "output_type": "stream",
     "text": [
      "0.6875\n"
     ]
    },
    {
     "name": "stderr",
     "output_type": "stream",
     "text": [
      " 65%|██████▍   | 11/17 [01:13<00:39,  6.64s/it]"
     ]
    },
    {
     "name": "stdout",
     "output_type": "stream",
     "text": [
      "0.6625\n"
     ]
    },
    {
     "name": "stderr",
     "output_type": "stream",
     "text": [
      " 71%|███████   | 12/17 [01:19<00:33,  6.65s/it]"
     ]
    },
    {
     "name": "stdout",
     "output_type": "stream",
     "text": [
      "0.68125\n"
     ]
    },
    {
     "name": "stderr",
     "output_type": "stream",
     "text": [
      " 76%|███████▋  | 13/17 [01:26<00:26,  6.65s/it]"
     ]
    },
    {
     "name": "stdout",
     "output_type": "stream",
     "text": [
      "0.675\n"
     ]
    },
    {
     "name": "stderr",
     "output_type": "stream",
     "text": [
      " 82%|████████▏ | 14/17 [01:33<00:19,  6.64s/it]"
     ]
    },
    {
     "name": "stdout",
     "output_type": "stream",
     "text": [
      "0.675\n"
     ]
    },
    {
     "name": "stderr",
     "output_type": "stream",
     "text": [
      " 88%|████████▊ | 15/17 [01:39<00:13,  6.64s/it]"
     ]
    },
    {
     "name": "stdout",
     "output_type": "stream",
     "text": [
      "0.65\n"
     ]
    },
    {
     "name": "stderr",
     "output_type": "stream",
     "text": [
      " 94%|█████████▍| 16/17 [01:46<00:06,  6.64s/it]"
     ]
    },
    {
     "name": "stdout",
     "output_type": "stream",
     "text": [
      "0.66875\n"
     ]
    },
    {
     "name": "stderr",
     "output_type": "stream",
     "text": [
      "100%|██████████| 17/17 [01:53<00:00,  6.65s/it]"
     ]
    },
    {
     "name": "stdout",
     "output_type": "stream",
     "text": [
      "0.65625\n"
     ]
    },
    {
     "name": "stderr",
     "output_type": "stream",
     "text": [
      "\n"
     ]
    }
   ],
   "source": [
    "from tqdm import tqdm\n",
    "for i in tqdm(range(3,20)):\n",
    "    knn = KNeighborsTimeSeriesClassifier(n_neighbors=i, n_jobs=10)\n",
    "    knn.fit(s12_X_train, s12_y_train)\n",
    "    print(knn.score(t12_X_test,t12_y_test))"
   ],
   "metadata": {
    "collapsed": false,
    "pycharm": {
     "name": "#%%\n"
    }
   }
  },
  {
   "cell_type": "code",
   "execution_count": 25,
   "outputs": [
    {
     "name": "stdout",
     "output_type": "stream",
     "text": [
      "0.83125\n",
      "0:01:16.854287\n"
     ]
    }
   ],
   "source": [
    "start = datetime.datetime.now()\n",
    "clf = TimeSeriesSVC(C=1.0, kernel=\"gak\")\n",
    "clf.fit(s12_X_train, s12_y_train)\n",
    "score = clf.score(t12_X_test, t12_y_test)\n",
    "end = datetime.datetime.now()\n",
    "print(score)\n",
    "print(end-start)"
   ],
   "metadata": {
    "collapsed": false,
    "pycharm": {
     "name": "#%%\n"
    }
   }
  },
  {
   "cell_type": "code",
   "execution_count": 26,
   "outputs": [],
   "source": [
    "s12_sig_train = sig.sig(s12_X_train, 2)\n",
    "s12_sig_test = sig.sig(t12_X_test, 2)"
   ],
   "metadata": {
    "collapsed": false,
    "pycharm": {
     "name": "#%%\n"
    }
   }
  },
  {
   "cell_type": "code",
   "execution_count": 27,
   "outputs": [
    {
     "data": {
      "text/plain": "<Figure size 360x360 with 1 Axes>",
      "image/png": "[encoded data removed]"
     },
     "metadata": {},
     "output_type": "display_data"
    },
    {
     "name": "stdout",
     "output_type": "stream",
     "text": [
      "score is 0.9151562500000001\n",
      "0:00:00.277796\n"
     ]
    }
   ],
   "source": [
    "start = datetime.datetime.now()\n",
    "clf = RandomForestClassifier()\n",
    "clf.fit(s12_sig_train, s12_y_train)\n",
    "y_pred_proba = clf.predict_proba(s12_sig_test)[:,1]\n",
    "y_pred = clf.predict(s12_sig_test)\n",
    "\n",
    "bc = BinaryClassification(t12_y_test, y_pred_proba, labels=[\"Class 0\", \"Class 1\"])\n",
    "# Figures\n",
    "plt.figure(figsize=(5,5))\n",
    "bc.plot_roc_curve()\n",
    "plt.title(\"Receiver Operating Characteristic Using Random Forest\")\n",
    "plt.show()\n",
    "score = roc_auc_score(t12_y_test, y_pred_proba)\n",
    "end = datetime.datetime.now()\n",
    "print(\"score is \" + str(score))\n",
    "print(end-start)"
   ],
   "metadata": {
    "collapsed": false,
    "pycharm": {
     "name": "#%%\n"
    }
   }
  },
  {
   "cell_type": "code",
   "execution_count": 28,
   "outputs": [
    {
     "data": {
      "text/plain": "<Figure size 360x360 with 1 Axes>",
      "image/png": "[encoded data removed]"
     },
     "metadata": {},
     "output_type": "display_data"
    },
    {
     "name": "stdout",
     "output_type": "stream",
     "text": [
      "score is 0.9289062499999999\n",
      "0:00:00.128738\n"
     ]
    }
   ],
   "source": [
    "start = datetime.datetime.now()\n",
    "clf = LogisticRegression()\n",
    "clf.fit(s12_sig_train, s12_y_train)\n",
    "y_pred_proba = clf.predict_proba(s12_sig_test)[:,1]\n",
    "y_pred = clf.predict(s12_sig_test)\n",
    "\n",
    "\n",
    "bc = BinaryClassification(t12_y_test, y_pred_proba, labels=[\"Class 0\", \"Class 1\"])\n",
    "# Figures\n",
    "plt.figure(figsize=(5,5))\n",
    "bc.plot_roc_curve()\n",
    "plt.title(\"Receiver Operating Characteristic Using LogisticRegression\")\n",
    "plt.show()\n",
    "score = roc_auc_score(t12_y_test, y_pred_proba)\n",
    "end = datetime.datetime.now()\n",
    "print(\"score is \" + str(score))\n",
    "print(end-start)"
   ],
   "metadata": {
    "collapsed": false,
    "pycharm": {
     "name": "#%%\n"
    }
   }
  },
  {
   "cell_type": "code",
   "execution_count": 29,
   "outputs": [
    {
     "data": {
      "text/plain": "<Figure size 360x360 with 1 Axes>",
      "image/png": "[encoded data removed]"
     },
     "metadata": {},
     "output_type": "display_data"
    },
    {
     "name": "stdout",
     "output_type": "stream",
     "text": [
      "score is 0.868125\n",
      "0:00:00.200791\n"
     ]
    }
   ],
   "source": [
    "start = datetime.datetime.now()\n",
    "clf = SVC(probability = True)\n",
    "clf.fit(s12_sig_train, s12_y_train)\n",
    "y_pred_proba = clf.predict_proba(s12_sig_test)[:,1]\n",
    "y_pred = clf.predict(s12_sig_test)\n",
    "\n",
    "\n",
    "bc = BinaryClassification(t12_y_test, y_pred_proba, labels=[\"Class 0\", \"Class 1\"])\n",
    "# Figures\n",
    "plt.figure(figsize=(5,5))\n",
    "bc.plot_roc_curve()\n",
    "plt.title(\"Receiver Operating Characteristic Using SVC\")\n",
    "plt.show()\n",
    "score = roc_auc_score(t12_y_test, y_pred_proba)\n",
    "end = datetime.datetime.now()\n",
    "print(\"score is \" + str(score))\n",
    "print(end-start)"
   ],
   "metadata": {
    "collapsed": false,
    "pycharm": {
     "name": "#%%\n"
    }
   }
  },
  {
   "cell_type": "code",
   "execution_count": 30,
   "outputs": [
    {
     "name": "stderr",
     "output_type": "stream",
     "text": [
      "100%|██████████| 17/17 [00:00<00:00, 109.23it/s]"
     ]
    },
    {
     "name": "stdout",
     "output_type": "stream",
     "text": [
      "0.7625\n",
      "0.75625\n",
      "0.7625\n",
      "0.7625\n",
      "0.775\n",
      "0.7625\n",
      "0.76875\n",
      "0.7625\n",
      "0.76875\n",
      "0.7625\n",
      "0.7875\n",
      "0.775\n",
      "0.76875\n",
      "0.7625\n",
      "0.78125\n",
      "0.76875\n",
      "0.775\n"
     ]
    },
    {
     "name": "stderr",
     "output_type": "stream",
     "text": [
      "\n"
     ]
    }
   ],
   "source": [
    "for i in tqdm(range(3,20)):\n",
    "    knn = KNeighborsClassifier(n_neighbors=i)\n",
    "    knn.fit(s12_sig_train, s12_y_train)\n",
    "    y_pred = knn.predict(s12_sig_test)\n",
    "    print(accuracy_score(t12_y_test, y_pred))"
   ],
   "metadata": {
    "collapsed": false,
    "pycharm": {
     "name": "#%%\n"
    }
   }
  },
  {
   "cell_type": "code",
   "execution_count": 31,
   "outputs": [
    {
     "data": {
      "text/plain": "<Figure size 360x360 with 1 Axes>",
      "image/png": "[encoded data removed]"
     },
     "metadata": {},
     "output_type": "display_data"
    },
    {
     "name": "stdout",
     "output_type": "stream",
     "text": [
      "score is 0.94578125\n",
      "0:00:01.948027\n"
     ]
    }
   ],
   "source": [
    "start = datetime.datetime.now()\n",
    "clf = AdaBoostClassifier()\n",
    "clf.fit(s12_sig_train, s12_y_train)\n",
    "y_pred_proba = clf.predict_proba(s12_sig_test)[:,1]\n",
    "y_pred = clf.predict(s12_sig_test)\n",
    "\n",
    "\n",
    "bc = BinaryClassification(t12_y_test, y_pred_proba, labels=[\"Class 0\", \"Class 1\"])\n",
    "# Figures\n",
    "plt.figure(figsize=(5,5))\n",
    "bc.plot_roc_curve()\n",
    "plt.title(\"Receiver Operating Characteristic Using AdaBoostClassifier\")\n",
    "plt.show()\n",
    "score = roc_auc_score(t12_y_test, y_pred_proba)\n",
    "end = datetime.datetime.now()\n",
    "print(\"score is \" + str(score))\n",
    "print(end-start)"
   ],
   "metadata": {
    "collapsed": false,
    "pycharm": {
     "name": "#%%\n"
    }
   }
  },
  {
   "cell_type": "code",
   "execution_count": 32,
   "outputs": [
    {
     "data": {
      "text/plain": "<Figure size 360x360 with 1 Axes>",
      "image/png": "[encoded data removed]"
     },
     "metadata": {},
     "output_type": "display_data"
    },
    {
     "name": "stdout",
     "output_type": "stream",
     "text": [
      "score is 0.96734375\n",
      "0:00:07.284451\n"
     ]
    }
   ],
   "source": [
    "start = datetime.datetime.now()\n",
    "clf = GradientBoostingClassifier()\n",
    "clf.fit(s12_sig_train, s12_y_train)\n",
    "y_pred_proba = clf.predict_proba(s12_sig_test)[:,1]\n",
    "y_pred = clf.predict(s12_sig_test)\n",
    "\n",
    "bc = BinaryClassification(t12_y_test, y_pred_proba, labels=[\"Class 0\", \"Class 1\"])\n",
    "# Figures\n",
    "plt.figure(figsize=(5,5))\n",
    "bc.plot_roc_curve()\n",
    "plt.title(\"Receiver Operating Characteristic Using AdaBoostClassifier\")\n",
    "plt.show()\n",
    "score = roc_auc_score(t12_y_test, y_pred_proba)\n",
    "end = datetime.datetime.now()\n",
    "print(\"score is \" + str(score))\n",
    "print(end-start)"
   ],
   "metadata": {
    "collapsed": false,
    "pycharm": {
     "name": "#%%\n"
    }
   }
  }
 ],
 "metadata": {
  "kernelspec": {
   "display_name": "Python 3",
   "language": "python",
   "name": "python3"
  },
  "language_info": {
   "codemirror_mode": {
    "name": "ipython",
    "version": 2
   },
   "file_extension": ".py",
   "mimetype": "text/x-python",
   "name": "python",
   "nbconvert_exporter": "python",
   "pygments_lexer": "ipython2",
   "version": "2.7.6"
  }
 },
 "nbformat": 4,
 "nbformat_minor": 0
}