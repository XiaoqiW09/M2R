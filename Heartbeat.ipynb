{
 "cells": [
  {
   "cell_type": "code",
   "execution_count": 5,
   "id": "2ada9efd",
   "metadata": {},
   "outputs": [],
   "source": [
    "import tslearn\n",
    "import numpy as np\n",
    "from tslearn.datasets import UCR_UEA_datasets\n",
    "import iisignature as sig\n",
    "from tslearn.preprocessing import TimeSeriesScalerMeanVariance\n",
    "X_train, y_train, X_test, y_test = UCR_UEA_datasets().load_dataset(\"Heartbeat\")"
   ]
  },
  {
   "cell_type": "code",
   "execution_count": 59,
   "id": "8dd4eb3d",
   "metadata": {},
   "outputs": [
    {
     "name": "stdout",
     "output_type": "stream",
     "text": [
      "(204, 405, 61)\n",
      "['normal' 'normal' 'normal' 'normal' 'normal' 'normal' 'normal' 'normal'\n",
      " 'normal' 'normal' 'normal' 'normal' 'normal' 'normal' 'normal' 'normal'\n",
      " 'normal' 'normal' 'normal' 'normal' 'normal' 'normal' 'normal' 'normal'\n",
      " 'normal' 'normal' 'normal' 'normal' 'normal' 'normal' 'normal' 'normal'\n",
      " 'normal' 'normal' 'normal' 'normal' 'normal' 'normal' 'normal' 'normal'\n",
      " 'normal' 'normal' 'normal' 'normal' 'normal' 'normal' 'normal' 'normal'\n",
      " 'normal' 'normal' 'normal' 'normal' 'normal' 'normal' 'normal' 'normal'\n",
      " 'normal' 'abnormal' 'abnormal' 'abnormal' 'abnormal' 'abnormal'\n",
      " 'abnormal' 'abnormal' 'abnormal' 'abnormal' 'abnormal' 'abnormal'\n",
      " 'abnormal' 'abnormal' 'abnormal' 'abnormal' 'abnormal' 'abnormal'\n",
      " 'abnormal' 'abnormal' 'abnormal' 'abnormal' 'abnormal' 'abnormal'\n",
      " 'abnormal' 'abnormal' 'abnormal' 'abnormal' 'abnormal' 'abnormal'\n",
      " 'abnormal' 'abnormal' 'abnormal' 'abnormal' 'abnormal' 'abnormal'\n",
      " 'abnormal' 'abnormal' 'abnormal' 'abnormal' 'abnormal' 'abnormal'\n",
      " 'abnormal' 'abnormal' 'abnormal' 'abnormal' 'abnormal' 'abnormal'\n",
      " 'abnormal' 'abnormal' 'abnormal' 'abnormal' 'abnormal' 'abnormal'\n",
      " 'abnormal' 'abnormal' 'abnormal' 'abnormal' 'abnormal' 'abnormal'\n",
      " 'abnormal' 'abnormal' 'abnormal' 'abnormal' 'abnormal' 'abnormal'\n",
      " 'abnormal' 'abnormal' 'abnormal' 'abnormal' 'abnormal' 'abnormal'\n",
      " 'abnormal' 'abnormal' 'abnormal' 'abnormal' 'abnormal' 'abnormal'\n",
      " 'abnormal' 'abnormal' 'abnormal' 'abnormal' 'abnormal' 'abnormal'\n",
      " 'abnormal' 'abnormal' 'abnormal' 'abnormal' 'abnormal' 'abnormal'\n",
      " 'abnormal' 'abnormal' 'abnormal' 'abnormal' 'abnormal' 'abnormal'\n",
      " 'abnormal' 'abnormal' 'abnormal' 'abnormal' 'abnormal' 'abnormal'\n",
      " 'abnormal' 'abnormal' 'abnormal' 'abnormal' 'abnormal' 'abnormal'\n",
      " 'abnormal' 'abnormal' 'abnormal' 'abnormal' 'abnormal' 'abnormal'\n",
      " 'abnormal' 'abnormal' 'abnormal' 'abnormal' 'abnormal' 'abnormal'\n",
      " 'abnormal' 'abnormal' 'abnormal' 'abnormal' 'abnormal' 'abnormal'\n",
      " 'abnormal' 'abnormal' 'abnormal' 'abnormal' 'abnormal' 'abnormal'\n",
      " 'abnormal' 'abnormal' 'abnormal' 'abnormal' 'abnormal' 'abnormal'\n",
      " 'abnormal' 'abnormal' 'abnormal' 'abnormal' 'abnormal' 'abnormal'\n",
      " 'abnormal' 'abnormal' 'abnormal' 'abnormal']\n"
     ]
    }
   ],
   "source": [
    "print(X_train)\n",
    "print(y_train)"
   ]
  },
  {
   "cell_type": "code",
   "execution_count": 36,
   "id": "fb8908ab",
   "metadata": {},
   "outputs": [],
   "source": [
    "from sklearn.preprocessing import StandardScaler\n",
    "# from tslearn.neighbors import KNeighborsTimeSeriesClassifier\n",
    "# knn = KNeighborsTimeSeriesClassifier(n_neighbors=5)\n",
    "# knn.fit(X_train, y_train)\n",
    "# print(knn.score(X_test, y_test))\n",
    "\n",
    "# arr = []\n",
    "# arr_test = []\n",
    "# for i in range(len(X_train)):\n",
    "#     arr[i] = sig.sig(X_train[i], 2)\n",
    "# for i in range(len(X_test)):\n",
    "#     arr_test[i] = sig.sig(X_test[i], 2)\n",
    "\n",
    "X_train_new = TimeSeriesScalerMeanVariance().fit_transform(X_train)\n",
    "X_test_new = TimeSeriesScalerMeanVariance().fit_transform(X_test)\n",
    "\n",
    "arr = sig.sig(X_train_new, 2)\n",
    "arr_test = sig.sig(X_test_new, 2)\n",
    "\n",
    "scaler = StandardScaler()\n",
    "arr_new = scaler.fit_transform(arr)\n",
    "arr_test_new = scaler.fit_transform(arr_test)"
   ]
  },
  {
   "cell_type": "code",
   "execution_count": 37,
   "outputs": [],
   "source": [
    "# X_test_new = []\n",
    "# for i in range(len(X_test)):\n",
    "#     x = TimeSeriesScalerMeanVariance().fit_transform(np.transpose(X_test[0]))\n",
    "# X_test_new.append(x.reshape([14,128]))\n",
    "\n"
   ],
   "metadata": {
    "collapsed": false,
    "pycharm": {
     "name": "#%%\n"
    }
   }
  },
  {
   "cell_type": "code",
   "execution_count": 50,
   "outputs": [
    {
     "name": "stdout",
     "output_type": "stream",
     "text": [
      "0.5830962541488858\n"
     ]
    }
   ],
   "source": [
    "from sklearn.linear_model import LogisticRegression\n",
    "from sklearn.metrics import roc_auc_score\n",
    "from sklearn.svm import SVC\n",
    "clf = SVC(C=1.9, kernel='poly', probability=True)\n",
    "clf.fit(arr_new, y_train)\n",
    "res = roc_auc_score(y_test, clf.predict_proba(arr_test_new)[:, 1])\n",
    "print(res)"
   ],
   "metadata": {
    "collapsed": false,
    "pycharm": {
     "name": "#%%\n"
    }
   }
  },
  {
   "cell_type": "code",
   "execution_count": 58,
   "outputs": [
    {
     "name": "stderr",
     "output_type": "stream",
     "text": [
      "  6%|▌         | 1/17 [00:37<09:53, 37.09s/it]"
     ]
    },
    {
     "name": "stdout",
     "output_type": "stream",
     "text": [
      "0.5804878048780487\n"
     ]
    },
    {
     "name": "stderr",
     "output_type": "stream",
     "text": [
      " 12%|█▏        | 2/17 [01:13<09:09, 36.64s/it]"
     ]
    },
    {
     "name": "stdout",
     "output_type": "stream",
     "text": [
      "0.6341463414634146\n"
     ]
    },
    {
     "name": "stderr",
     "output_type": "stream",
     "text": [
      " 18%|█▊        | 3/17 [01:50<08:37, 36.97s/it]"
     ]
    },
    {
     "name": "stdout",
     "output_type": "stream",
     "text": [
      "0.5804878048780487\n"
     ]
    },
    {
     "name": "stderr",
     "output_type": "stream",
     "text": [
      " 24%|██▎       | 4/17 [02:28<08:03, 37.21s/it]"
     ]
    },
    {
     "name": "stdout",
     "output_type": "stream",
     "text": [
      "0.6682926829268293\n"
     ]
    },
    {
     "name": "stderr",
     "output_type": "stream",
     "text": [
      " 29%|██▉       | 5/17 [03:07<07:33, 37.78s/it]"
     ]
    },
    {
     "name": "stdout",
     "output_type": "stream",
     "text": [
      "0.6\n"
     ]
    },
    {
     "name": "stderr",
     "output_type": "stream",
     "text": [
      " 35%|███▌      | 6/17 [03:46<07:01, 38.29s/it]"
     ]
    },
    {
     "name": "stdout",
     "output_type": "stream",
     "text": [
      "0.624390243902439\n"
     ]
    },
    {
     "name": "stderr",
     "output_type": "stream",
     "text": [
      " 41%|████      | 7/17 [04:25<06:25, 38.52s/it]"
     ]
    },
    {
     "name": "stdout",
     "output_type": "stream",
     "text": [
      "0.5902439024390244\n"
     ]
    },
    {
     "name": "stderr",
     "output_type": "stream",
     "text": [
      " 47%|████▋     | 8/17 [05:03<05:46, 38.46s/it]"
     ]
    },
    {
     "name": "stdout",
     "output_type": "stream",
     "text": [
      "0.6682926829268293\n"
     ]
    },
    {
     "name": "stderr",
     "output_type": "stream",
     "text": [
      " 53%|█████▎    | 9/17 [05:42<05:07, 38.47s/it]"
     ]
    },
    {
     "name": "stdout",
     "output_type": "stream",
     "text": [
      "0.624390243902439\n"
     ]
    },
    {
     "name": "stderr",
     "output_type": "stream",
     "text": [
      " 59%|█████▉    | 10/17 [06:20<04:28, 38.36s/it]"
     ]
    },
    {
     "name": "stdout",
     "output_type": "stream",
     "text": [
      "0.6780487804878049\n"
     ]
    },
    {
     "name": "stderr",
     "output_type": "stream",
     "text": [
      " 65%|██████▍   | 11/17 [07:00<03:53, 38.89s/it]"
     ]
    },
    {
     "name": "stdout",
     "output_type": "stream",
     "text": [
      "0.624390243902439\n"
     ]
    },
    {
     "name": "stderr",
     "output_type": "stream",
     "text": [
      " 71%|███████   | 12/17 [07:40<03:15, 39.10s/it]"
     ]
    },
    {
     "name": "stdout",
     "output_type": "stream",
     "text": [
      "0.6487804878048781\n"
     ]
    },
    {
     "name": "stderr",
     "output_type": "stream",
     "text": [
      " 76%|███████▋  | 13/17 [08:20<02:38, 39.56s/it]"
     ]
    },
    {
     "name": "stdout",
     "output_type": "stream",
     "text": [
      "0.6341463414634146\n"
     ]
    },
    {
     "name": "stderr",
     "output_type": "stream",
     "text": [
      " 82%|████████▏ | 14/17 [08:58<01:57, 39.14s/it]"
     ]
    },
    {
     "name": "stdout",
     "output_type": "stream",
     "text": [
      "0.6634146341463415\n"
     ]
    },
    {
     "name": "stderr",
     "output_type": "stream",
     "text": [
      " 88%|████████▊ | 15/17 [09:38<01:18, 39.38s/it]"
     ]
    },
    {
     "name": "stdout",
     "output_type": "stream",
     "text": [
      "0.6439024390243903\n"
     ]
    },
    {
     "name": "stderr",
     "output_type": "stream",
     "text": [
      " 94%|█████████▍| 16/17 [10:17<00:39, 39.32s/it]"
     ]
    },
    {
     "name": "stdout",
     "output_type": "stream",
     "text": [
      "0.6731707317073171\n"
     ]
    },
    {
     "name": "stderr",
     "output_type": "stream",
     "text": [
      "100%|██████████| 17/17 [10:56<00:00, 38.62s/it]"
     ]
    },
    {
     "name": "stdout",
     "output_type": "stream",
     "text": [
      "0.6390243902439025\n"
     ]
    },
    {
     "name": "stderr",
     "output_type": "stream",
     "text": [
      "\n"
     ]
    }
   ],
   "source": [
    "from tslearn.neighbors import KNeighborsTimeSeriesClassifier\n",
    "from tqdm import tqdm\n",
    "for i in tqdm(range(3,20)):\n",
    "    knn = KNeighborsTimeSeriesClassifier(n_neighbors=i, n_jobs=12)\n",
    "    knn.fit(X_train_new, y_train)\n",
    "    print(knn.score(X_test_new, y_test))"
   ],
   "metadata": {
    "collapsed": false,
    "pycharm": {
     "name": "#%%\n"
    }
   }
  },
  {
   "cell_type": "code",
   "execution_count": 33,
   "id": "4ec1fdbc",
   "metadata": {},
   "outputs": [
    {
     "name": "stdout",
     "output_type": "stream",
     "text": [
      "0.7219512195121951\n"
     ]
    }
   ],
   "source": [
    "from tslearn.svm import TimeSeriesSVC\n",
    "clf = TimeSeriesSVC(C=1.0, kernel=\"gak\")\n",
    "clf.fit(X_train_new, y_train)\n",
    "print(clf.score(X_test_new, y_test))"
   ]
  },
  {
   "cell_type": "code",
   "execution_count": null,
   "id": "40f3f211",
   "metadata": {},
   "outputs": [],
   "source": []
  }
 ],
 "metadata": {
  "kernelspec": {
   "display_name": "Python 3 (ipykernel)",
   "language": "python",
   "name": "python3"
  },
  "language_info": {
   "codemirror_mode": {
    "name": "ipython",
    "version": 3
   },
   "file_extension": ".py",
   "mimetype": "text/x-python",
   "name": "python",
   "nbconvert_exporter": "python",
   "pygments_lexer": "ipython3",
   "version": "3.9.7"
  }
 },
 "nbformat": 4,
 "nbformat_minor": 5
}