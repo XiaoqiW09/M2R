{
 "cells": [
  {
   "cell_type": "code",
   "execution_count": 3,
   "id": "2ada9efd",
   "metadata": {},
   "outputs": [],
   "source": [
    "import tslearn\n",
    "import numpy as np\n",
    "from tslearn.datasets import UCR_UEA_datasets\n",
    "X_train, y_train, X_test, y_test = UCR_UEA_datasets().load_dataset(\"Heartbeat\")"
   ]
  },
  {
   "cell_type": "code",
   "execution_count": 4,
   "id": "8dd4eb3d",
   "metadata": {},
   "outputs": [
    {
     "name": "stdout",
     "output_type": "stream",
     "text": [
      "[[[9.4900e-04 1.2880e-03 5.2900e-04 ... 7.8312e-02 4.5608e-02 1.2107e-01]\n",
      "  [1.4880e-03 1.1400e-03 1.6350e-03 ... 1.4568e-01 1.1980e-01 1.3385e-01]\n",
      "  [3.1400e-04 4.3000e-04 2.1460e-03 ... 2.3805e-01 1.7813e-01 4.0077e-02]\n",
      "  ...\n",
      "  [8.0400e-04 1.3640e-03 1.1790e-03 ... 4.4070e-01 3.7934e-01 9.8976e-02]\n",
      "  [8.1500e-04 3.6300e-04 3.6300e-04 ... 6.3277e-01 3.7387e-01 2.5955e-02]\n",
      "  [1.3890e-03 8.4300e-04 5.0400e-04 ... 6.5026e-01 3.2700e-01 3.6082e-02]]\n",
      "\n",
      " [[2.0264e-02 2.7680e-02 2.3423e-02 ... 7.8027e-01 5.4370e-01 2.4570e-03]\n",
      "  [1.7023e-02 3.6928e-02 4.1957e-02 ... 4.4498e-01 1.6080e-01 5.0050e-01]\n",
      "  [6.0520e-03 3.4255e-02 3.4538e-02 ... 4.9525e-01 5.4133e-01 7.2808e-01]\n",
      "  ...\n",
      "  [5.3840e-03 1.5869e-02 9.0860e-03 ... 9.8392e-02 1.0935e-01 1.8733e-01]\n",
      "  [8.3720e-03 8.6480e-03 9.5190e-03 ... 2.0994e-01 2.5578e-01 5.0635e-02]\n",
      "  [7.8450e-03 2.5470e-03 7.3490e-03 ... 4.6098e-01 4.1651e-01 1.7935e-01]]\n",
      "\n",
      " [[2.1082e-02 1.9906e-02 1.9319e-02 ... 1.9674e-01 3.4641e-01 1.4322e-01]\n",
      "  [2.0687e-02 1.9558e-02 1.9314e-02 ... 1.7592e-01 3.1551e-01 4.2338e-01]\n",
      "  [9.9480e-03 6.6820e-03 5.6700e-03 ... 2.7098e-01 3.2801e-01 3.7645e-01]\n",
      "  ...\n",
      "  [1.9040e-03 1.1220e-03 8.1800e-04 ... 1.0278e+00 9.9148e-01 1.4404e-01]\n",
      "  [1.0879e-02 9.0720e-03 9.8380e-03 ... 1.6183e+00 1.2083e+00 5.8677e-02]\n",
      "  [3.4410e-03 5.7920e-03 5.0670e-03 ... 6.9665e-01 1.8203e+00 2.3513e-01]]\n",
      "\n",
      " ...\n",
      "\n",
      " [[9.9890e-03 1.1278e-02 1.2201e-02 ... 7.1418e-01 1.0154e+00 8.3321e-01]\n",
      "  [2.6710e-03 4.7360e-03 4.3920e-03 ... 3.6329e-01 7.7938e-01 6.4879e-01]\n",
      "  [1.7070e-03 1.3170e-03 8.1200e-04 ... 2.8014e-01 6.4549e-01 1.8099e-01]\n",
      "  ...\n",
      "  [1.2402e-02 2.3633e-02 2.0995e-02 ... 7.2029e-01 8.0410e-01 8.7718e-01]\n",
      "  [2.2520e-02 2.9319e-02 3.0262e-02 ... 6.2531e-01 3.0969e-01 3.1354e-01]\n",
      "  [2.3299e-02 1.5994e-02 1.9719e-02 ... 6.7368e-01 4.5124e-01 3.4103e-01]]\n",
      "\n",
      " [[8.1500e-04 3.7640e-03 3.8700e-03 ... 3.4917e-01 7.0458e-01 5.4404e-02]\n",
      "  [1.3250e-03 4.1160e-03 3.2840e-03 ... 3.4703e-01 6.9565e-01 5.2486e-01]\n",
      "  [1.2800e-03 4.0990e-03 3.8090e-03 ... 3.0472e-01 6.0619e-01 4.2906e-01]\n",
      "  ...\n",
      "  [2.8400e-03 6.7640e-03 1.0373e-02 ... 5.0031e-02 7.4730e-03 7.2699e-02]\n",
      "  [4.4540e-03 9.4190e-03 1.3433e-02 ... 1.0381e-01 7.4229e-02 9.2615e-02]\n",
      "  [7.9950e-03 1.3414e-02 1.2038e-02 ... 1.6427e-01 8.0908e-02 9.3067e-02]]\n",
      "\n",
      " [[2.9950e-03 7.6700e-04 1.3210e-03 ... 1.1742e-01 2.2719e-01 1.3240e-01]\n",
      "  [3.1050e-03 4.3540e-03 3.9120e-03 ... 6.6246e-02 1.1187e-01 5.3373e-02]\n",
      "  [3.0400e-03 4.9470e-03 4.1870e-03 ... 8.7547e-02 1.1890e-01 1.7290e-03]\n",
      "  ...\n",
      "  [7.4550e-03 6.7830e-03 4.7230e-03 ... 2.8013e-01 1.5869e-01 1.0193e-01]\n",
      "  [8.1240e-03 9.1420e-03 5.4360e-03 ... 2.7096e-01 6.8071e-02 6.2402e-02]\n",
      "  [7.1200e-03 6.3140e-03 4.1980e-03 ... 2.1613e-01 1.3033e-01 1.9614e-02]]]\n",
      "['normal' 'normal' 'normal' 'normal' 'normal' 'normal' 'normal' 'normal'\n",
      " 'normal' 'normal' 'normal' 'normal' 'normal' 'normal' 'normal' 'normal'\n",
      " 'normal' 'normal' 'normal' 'normal' 'normal' 'normal' 'normal' 'normal'\n",
      " 'normal' 'normal' 'normal' 'normal' 'normal' 'normal' 'normal' 'normal'\n",
      " 'normal' 'normal' 'normal' 'normal' 'normal' 'normal' 'normal' 'normal'\n",
      " 'normal' 'normal' 'normal' 'normal' 'normal' 'normal' 'normal' 'normal'\n",
      " 'normal' 'normal' 'normal' 'normal' 'normal' 'normal' 'normal' 'normal'\n",
      " 'normal' 'abnormal' 'abnormal' 'abnormal' 'abnormal' 'abnormal'\n",
      " 'abnormal' 'abnormal' 'abnormal' 'abnormal' 'abnormal' 'abnormal'\n",
      " 'abnormal' 'abnormal' 'abnormal' 'abnormal' 'abnormal' 'abnormal'\n",
      " 'abnormal' 'abnormal' 'abnormal' 'abnormal' 'abnormal' 'abnormal'\n",
      " 'abnormal' 'abnormal' 'abnormal' 'abnormal' 'abnormal' 'abnormal'\n",
      " 'abnormal' 'abnormal' 'abnormal' 'abnormal' 'abnormal' 'abnormal'\n",
      " 'abnormal' 'abnormal' 'abnormal' 'abnormal' 'abnormal' 'abnormal'\n",
      " 'abnormal' 'abnormal' 'abnormal' 'abnormal' 'abnormal' 'abnormal'\n",
      " 'abnormal' 'abnormal' 'abnormal' 'abnormal' 'abnormal' 'abnormal'\n",
      " 'abnormal' 'abnormal' 'abnormal' 'abnormal' 'abnormal' 'abnormal'\n",
      " 'abnormal' 'abnormal' 'abnormal' 'abnormal' 'abnormal' 'abnormal'\n",
      " 'abnormal' 'abnormal' 'abnormal' 'abnormal' 'abnormal' 'abnormal'\n",
      " 'abnormal' 'abnormal' 'abnormal' 'abnormal' 'abnormal' 'abnormal'\n",
      " 'abnormal' 'abnormal' 'abnormal' 'abnormal' 'abnormal' 'abnormal'\n",
      " 'abnormal' 'abnormal' 'abnormal' 'abnormal' 'abnormal' 'abnormal'\n",
      " 'abnormal' 'abnormal' 'abnormal' 'abnormal' 'abnormal' 'abnormal'\n",
      " 'abnormal' 'abnormal' 'abnormal' 'abnormal' 'abnormal' 'abnormal'\n",
      " 'abnormal' 'abnormal' 'abnormal' 'abnormal' 'abnormal' 'abnormal'\n",
      " 'abnormal' 'abnormal' 'abnormal' 'abnormal' 'abnormal' 'abnormal'\n",
      " 'abnormal' 'abnormal' 'abnormal' 'abnormal' 'abnormal' 'abnormal'\n",
      " 'abnormal' 'abnormal' 'abnormal' 'abnormal' 'abnormal' 'abnormal'\n",
      " 'abnormal' 'abnormal' 'abnormal' 'abnormal' 'abnormal' 'abnormal'\n",
      " 'abnormal' 'abnormal' 'abnormal' 'abnormal' 'abnormal' 'abnormal'\n",
      " 'abnormal' 'abnormal' 'abnormal' 'abnormal' 'abnormal' 'abnormal'\n",
      " 'abnormal' 'abnormal' 'abnormal' 'abnormal']\n"
     ]
    }
   ],
   "source": [
    "print(X_train)\n",
    "print(y_train)"
   ]
  },
  {
   "cell_type": "code",
   "execution_count": 6,
   "id": "fb8908ab",
   "metadata": {},
   "outputs": [
    {
     "ename": "KeyboardInterrupt",
     "evalue": "",
     "output_type": "error",
     "traceback": [
      "\u001b[1;31m---------------------------------------------------------------------------\u001b[0m",
      "\u001b[1;31mKeyboardInterrupt\u001b[0m                         Traceback (most recent call last)",
      "\u001b[1;32m~\\AppData\\Local\\Temp/ipykernel_18404/648613592.py\u001b[0m in \u001b[0;36m<module>\u001b[1;34m\u001b[0m\n\u001b[0;32m      2\u001b[0m \u001b[0mknn\u001b[0m \u001b[1;33m=\u001b[0m \u001b[0mKNeighborsTimeSeriesClassifier\u001b[0m\u001b[1;33m(\u001b[0m\u001b[0mn_neighbors\u001b[0m\u001b[1;33m=\u001b[0m\u001b[1;36m5\u001b[0m\u001b[1;33m)\u001b[0m\u001b[1;33m\u001b[0m\u001b[1;33m\u001b[0m\u001b[0m\n\u001b[0;32m      3\u001b[0m \u001b[0mknn\u001b[0m\u001b[1;33m.\u001b[0m\u001b[0mfit\u001b[0m\u001b[1;33m(\u001b[0m\u001b[0mX_train\u001b[0m\u001b[1;33m,\u001b[0m \u001b[0my_train\u001b[0m\u001b[1;33m)\u001b[0m\u001b[1;33m\u001b[0m\u001b[1;33m\u001b[0m\u001b[0m\n\u001b[1;32m----> 4\u001b[1;33m \u001b[0mprint\u001b[0m\u001b[1;33m(\u001b[0m\u001b[0mknn\u001b[0m\u001b[1;33m.\u001b[0m\u001b[0mscore\u001b[0m\u001b[1;33m(\u001b[0m\u001b[0mX_test\u001b[0m\u001b[1;33m,\u001b[0m \u001b[0my_test\u001b[0m\u001b[1;33m)\u001b[0m\u001b[1;33m)\u001b[0m\u001b[1;33m\u001b[0m\u001b[1;33m\u001b[0m\u001b[0m\n\u001b[0m",
      "\u001b[1;32m~\\AppData\\Roaming\\Python\\Python39\\site-packages\\sklearn\\base.py\u001b[0m in \u001b[0;36mscore\u001b[1;34m(self, X, y, sample_weight)\u001b[0m\n\u001b[0;32m    664\u001b[0m         \u001b[1;32mfrom\u001b[0m \u001b[1;33m.\u001b[0m\u001b[0mmetrics\u001b[0m \u001b[1;32mimport\u001b[0m \u001b[0maccuracy_score\u001b[0m\u001b[1;33m\u001b[0m\u001b[1;33m\u001b[0m\u001b[0m\n\u001b[0;32m    665\u001b[0m \u001b[1;33m\u001b[0m\u001b[0m\n\u001b[1;32m--> 666\u001b[1;33m         \u001b[1;32mreturn\u001b[0m \u001b[0maccuracy_score\u001b[0m\u001b[1;33m(\u001b[0m\u001b[0my\u001b[0m\u001b[1;33m,\u001b[0m \u001b[0mself\u001b[0m\u001b[1;33m.\u001b[0m\u001b[0mpredict\u001b[0m\u001b[1;33m(\u001b[0m\u001b[0mX\u001b[0m\u001b[1;33m)\u001b[0m\u001b[1;33m,\u001b[0m \u001b[0msample_weight\u001b[0m\u001b[1;33m=\u001b[0m\u001b[0msample_weight\u001b[0m\u001b[1;33m)\u001b[0m\u001b[1;33m\u001b[0m\u001b[1;33m\u001b[0m\u001b[0m\n\u001b[0m\u001b[0;32m    667\u001b[0m \u001b[1;33m\u001b[0m\u001b[0m\n\u001b[0;32m    668\u001b[0m     \u001b[1;32mdef\u001b[0m \u001b[0m_more_tags\u001b[0m\u001b[1;33m(\u001b[0m\u001b[0mself\u001b[0m\u001b[1;33m)\u001b[0m\u001b[1;33m:\u001b[0m\u001b[1;33m\u001b[0m\u001b[1;33m\u001b[0m\u001b[0m\n",
      "\u001b[1;32mD:\\anaconda\\lib\\site-packages\\tslearn\\neighbors\\neighbors.py\u001b[0m in \u001b[0;36mpredict\u001b[1;34m(self, X)\u001b[0m\n\u001b[0;32m    518\u001b[0m             X = check_dims(X, X_fit_dims=self._ts_fit.shape, extend=True,\n\u001b[0;32m    519\u001b[0m                            check_n_features_only=True)\n\u001b[1;32m--> 520\u001b[1;33m             \u001b[0mX_\u001b[0m \u001b[1;33m=\u001b[0m \u001b[0mself\u001b[0m\u001b[1;33m.\u001b[0m\u001b[0m_precompute_cross_dist\u001b[0m\u001b[1;33m(\u001b[0m\u001b[0mX\u001b[0m\u001b[1;33m)\u001b[0m\u001b[1;33m\u001b[0m\u001b[1;33m\u001b[0m\u001b[0m\n\u001b[0m\u001b[0;32m    521\u001b[0m             \u001b[0mpred\u001b[0m \u001b[1;33m=\u001b[0m \u001b[0msuper\u001b[0m\u001b[1;33m(\u001b[0m\u001b[1;33m)\u001b[0m\u001b[1;33m.\u001b[0m\u001b[0mpredict\u001b[0m\u001b[1;33m(\u001b[0m\u001b[0mX_\u001b[0m\u001b[1;33m)\u001b[0m\u001b[1;33m\u001b[0m\u001b[1;33m\u001b[0m\u001b[0m\n\u001b[0;32m    522\u001b[0m             \u001b[0mself\u001b[0m\u001b[1;33m.\u001b[0m\u001b[0mmetric\u001b[0m \u001b[1;33m=\u001b[0m \u001b[0mself\u001b[0m\u001b[1;33m.\u001b[0m\u001b[0m_ts_metric\u001b[0m\u001b[1;33m\u001b[0m\u001b[1;33m\u001b[0m\u001b[0m\n",
      "\u001b[1;32mD:\\anaconda\\lib\\site-packages\\tslearn\\neighbors\\neighbors.py\u001b[0m in \u001b[0;36m_precompute_cross_dist\u001b[1;34m(self, X, other_X)\u001b[0m\n\u001b[0;32m     62\u001b[0m \u001b[1;33m\u001b[0m\u001b[0m\n\u001b[0;32m     63\u001b[0m         \u001b[1;32mif\u001b[0m \u001b[0mself\u001b[0m\u001b[1;33m.\u001b[0m\u001b[0m_ts_metric\u001b[0m \u001b[1;33m==\u001b[0m \u001b[1;34m\"dtw\"\u001b[0m\u001b[1;33m:\u001b[0m\u001b[1;33m\u001b[0m\u001b[1;33m\u001b[0m\u001b[0m\n\u001b[1;32m---> 64\u001b[1;33m             X_ = cdist_dtw(X, other_X, n_jobs=self.n_jobs,\n\u001b[0m\u001b[0;32m     65\u001b[0m                            **metric_params)\n\u001b[0;32m     66\u001b[0m         \u001b[1;32melif\u001b[0m \u001b[0mself\u001b[0m\u001b[1;33m.\u001b[0m\u001b[0m_ts_metric\u001b[0m \u001b[1;33m==\u001b[0m \u001b[1;34m\"ctw\"\u001b[0m\u001b[1;33m:\u001b[0m\u001b[1;33m\u001b[0m\u001b[1;33m\u001b[0m\u001b[0m\n",
      "\u001b[1;32mD:\\anaconda\\lib\\site-packages\\tslearn\\metrics\\dtw_variants.py\u001b[0m in \u001b[0;36mcdist_dtw\u001b[1;34m(dataset1, dataset2, global_constraint, sakoe_chiba_radius, itakura_max_slope, n_jobs, verbose)\u001b[0m\n\u001b[0;32m   1222\u001b[0m            \u001b[0mSignal\u001b[0m \u001b[0mProcessing\u001b[0m\u001b[1;33m,\u001b[0m \u001b[0mvol\u001b[0m\u001b[1;33m.\u001b[0m \u001b[1;36m26\u001b[0m\u001b[1;33m(\u001b[0m\u001b[1;36m1\u001b[0m\u001b[1;33m)\u001b[0m\u001b[1;33m,\u001b[0m \u001b[0mpp\u001b[0m\u001b[1;33m.\u001b[0m \u001b[1;36m43\u001b[0m\u001b[1;33m-\u001b[0m\u001b[1;33m-\u001b[0m\u001b[1;36m49\u001b[0m\u001b[1;33m,\u001b[0m \u001b[1;36m1978.\u001b[0m\u001b[1;33m\u001b[0m\u001b[1;33m\u001b[0m\u001b[0m\n\u001b[0;32m   1223\u001b[0m     \"\"\"  # noqa: E501\n\u001b[1;32m-> 1224\u001b[1;33m     return _cdist_generic(dist_fun=dtw, dataset1=dataset1, dataset2=dataset2,\n\u001b[0m\u001b[0;32m   1225\u001b[0m                           \u001b[0mn_jobs\u001b[0m\u001b[1;33m=\u001b[0m\u001b[0mn_jobs\u001b[0m\u001b[1;33m,\u001b[0m \u001b[0mverbose\u001b[0m\u001b[1;33m=\u001b[0m\u001b[0mverbose\u001b[0m\u001b[1;33m,\u001b[0m\u001b[1;33m\u001b[0m\u001b[1;33m\u001b[0m\u001b[0m\n\u001b[0;32m   1226\u001b[0m                           \u001b[0mcompute_diagonal\u001b[0m\u001b[1;33m=\u001b[0m\u001b[1;32mFalse\u001b[0m\u001b[1;33m,\u001b[0m\u001b[1;33m\u001b[0m\u001b[1;33m\u001b[0m\u001b[0m\n",
      "\u001b[1;32mD:\\anaconda\\lib\\site-packages\\tslearn\\metrics\\utils.py\u001b[0m in \u001b[0;36m_cdist_generic\u001b[1;34m(dist_fun, dataset1, dataset2, n_jobs, verbose, compute_diagonal, dtype, *args, **kwargs)\u001b[0m\n\u001b[0;32m     76\u001b[0m     \u001b[1;32melse\u001b[0m\u001b[1;33m:\u001b[0m\u001b[1;33m\u001b[0m\u001b[1;33m\u001b[0m\u001b[0m\n\u001b[0;32m     77\u001b[0m         \u001b[0mdataset2\u001b[0m \u001b[1;33m=\u001b[0m \u001b[0mto_time_series_dataset\u001b[0m\u001b[1;33m(\u001b[0m\u001b[0mdataset2\u001b[0m\u001b[1;33m,\u001b[0m \u001b[0mdtype\u001b[0m\u001b[1;33m=\u001b[0m\u001b[0mdtype\u001b[0m\u001b[1;33m)\u001b[0m\u001b[1;33m\u001b[0m\u001b[1;33m\u001b[0m\u001b[0m\n\u001b[1;32m---> 78\u001b[1;33m         matrix = Parallel(n_jobs=n_jobs, prefer=\"threads\", verbose=verbose)(\n\u001b[0m\u001b[0;32m     79\u001b[0m             delayed(dist_fun)(\n\u001b[0;32m     80\u001b[0m                 \u001b[0mdataset1\u001b[0m\u001b[1;33m[\u001b[0m\u001b[0mi\u001b[0m\u001b[1;33m]\u001b[0m\u001b[1;33m,\u001b[0m \u001b[0mdataset2\u001b[0m\u001b[1;33m[\u001b[0m\u001b[0mj\u001b[0m\u001b[1;33m]\u001b[0m\u001b[1;33m,\u001b[0m\u001b[1;33m\u001b[0m\u001b[1;33m\u001b[0m\u001b[0m\n",
      "\u001b[1;32mD:\\anaconda\\lib\\site-packages\\joblib\\parallel.py\u001b[0m in \u001b[0;36m__call__\u001b[1;34m(self, iterable)\u001b[0m\n\u001b[0;32m   1044\u001b[0m                 \u001b[0mself\u001b[0m\u001b[1;33m.\u001b[0m\u001b[0m_iterating\u001b[0m \u001b[1;33m=\u001b[0m \u001b[0mself\u001b[0m\u001b[1;33m.\u001b[0m\u001b[0m_original_iterator\u001b[0m \u001b[1;32mis\u001b[0m \u001b[1;32mnot\u001b[0m \u001b[1;32mNone\u001b[0m\u001b[1;33m\u001b[0m\u001b[1;33m\u001b[0m\u001b[0m\n\u001b[0;32m   1045\u001b[0m \u001b[1;33m\u001b[0m\u001b[0m\n\u001b[1;32m-> 1046\u001b[1;33m             \u001b[1;32mwhile\u001b[0m \u001b[0mself\u001b[0m\u001b[1;33m.\u001b[0m\u001b[0mdispatch_one_batch\u001b[0m\u001b[1;33m(\u001b[0m\u001b[0miterator\u001b[0m\u001b[1;33m)\u001b[0m\u001b[1;33m:\u001b[0m\u001b[1;33m\u001b[0m\u001b[1;33m\u001b[0m\u001b[0m\n\u001b[0m\u001b[0;32m   1047\u001b[0m                 \u001b[1;32mpass\u001b[0m\u001b[1;33m\u001b[0m\u001b[1;33m\u001b[0m\u001b[0m\n\u001b[0;32m   1048\u001b[0m \u001b[1;33m\u001b[0m\u001b[0m\n",
      "\u001b[1;32mD:\\anaconda\\lib\\site-packages\\joblib\\parallel.py\u001b[0m in \u001b[0;36mdispatch_one_batch\u001b[1;34m(self, iterator)\u001b[0m\n\u001b[0;32m    859\u001b[0m                 \u001b[1;32mreturn\u001b[0m \u001b[1;32mFalse\u001b[0m\u001b[1;33m\u001b[0m\u001b[1;33m\u001b[0m\u001b[0m\n\u001b[0;32m    860\u001b[0m             \u001b[1;32melse\u001b[0m\u001b[1;33m:\u001b[0m\u001b[1;33m\u001b[0m\u001b[1;33m\u001b[0m\u001b[0m\n\u001b[1;32m--> 861\u001b[1;33m                 \u001b[0mself\u001b[0m\u001b[1;33m.\u001b[0m\u001b[0m_dispatch\u001b[0m\u001b[1;33m(\u001b[0m\u001b[0mtasks\u001b[0m\u001b[1;33m)\u001b[0m\u001b[1;33m\u001b[0m\u001b[1;33m\u001b[0m\u001b[0m\n\u001b[0m\u001b[0;32m    862\u001b[0m                 \u001b[1;32mreturn\u001b[0m \u001b[1;32mTrue\u001b[0m\u001b[1;33m\u001b[0m\u001b[1;33m\u001b[0m\u001b[0m\n\u001b[0;32m    863\u001b[0m \u001b[1;33m\u001b[0m\u001b[0m\n",
      "\u001b[1;32mD:\\anaconda\\lib\\site-packages\\joblib\\parallel.py\u001b[0m in \u001b[0;36m_dispatch\u001b[1;34m(self, batch)\u001b[0m\n\u001b[0;32m    777\u001b[0m         \u001b[1;32mwith\u001b[0m \u001b[0mself\u001b[0m\u001b[1;33m.\u001b[0m\u001b[0m_lock\u001b[0m\u001b[1;33m:\u001b[0m\u001b[1;33m\u001b[0m\u001b[1;33m\u001b[0m\u001b[0m\n\u001b[0;32m    778\u001b[0m             \u001b[0mjob_idx\u001b[0m \u001b[1;33m=\u001b[0m \u001b[0mlen\u001b[0m\u001b[1;33m(\u001b[0m\u001b[0mself\u001b[0m\u001b[1;33m.\u001b[0m\u001b[0m_jobs\u001b[0m\u001b[1;33m)\u001b[0m\u001b[1;33m\u001b[0m\u001b[1;33m\u001b[0m\u001b[0m\n\u001b[1;32m--> 779\u001b[1;33m             \u001b[0mjob\u001b[0m \u001b[1;33m=\u001b[0m \u001b[0mself\u001b[0m\u001b[1;33m.\u001b[0m\u001b[0m_backend\u001b[0m\u001b[1;33m.\u001b[0m\u001b[0mapply_async\u001b[0m\u001b[1;33m(\u001b[0m\u001b[0mbatch\u001b[0m\u001b[1;33m,\u001b[0m \u001b[0mcallback\u001b[0m\u001b[1;33m=\u001b[0m\u001b[0mcb\u001b[0m\u001b[1;33m)\u001b[0m\u001b[1;33m\u001b[0m\u001b[1;33m\u001b[0m\u001b[0m\n\u001b[0m\u001b[0;32m    780\u001b[0m             \u001b[1;31m# A job can complete so quickly than its callback is\u001b[0m\u001b[1;33m\u001b[0m\u001b[1;33m\u001b[0m\u001b[0m\n\u001b[0;32m    781\u001b[0m             \u001b[1;31m# called before we get here, causing self._jobs to\u001b[0m\u001b[1;33m\u001b[0m\u001b[1;33m\u001b[0m\u001b[0m\n",
      "\u001b[1;32mD:\\anaconda\\lib\\site-packages\\joblib\\_parallel_backends.py\u001b[0m in \u001b[0;36mapply_async\u001b[1;34m(self, func, callback)\u001b[0m\n\u001b[0;32m    206\u001b[0m     \u001b[1;32mdef\u001b[0m \u001b[0mapply_async\u001b[0m\u001b[1;33m(\u001b[0m\u001b[0mself\u001b[0m\u001b[1;33m,\u001b[0m \u001b[0mfunc\u001b[0m\u001b[1;33m,\u001b[0m \u001b[0mcallback\u001b[0m\u001b[1;33m=\u001b[0m\u001b[1;32mNone\u001b[0m\u001b[1;33m)\u001b[0m\u001b[1;33m:\u001b[0m\u001b[1;33m\u001b[0m\u001b[1;33m\u001b[0m\u001b[0m\n\u001b[0;32m    207\u001b[0m         \u001b[1;34m\"\"\"Schedule a func to be run\"\"\"\u001b[0m\u001b[1;33m\u001b[0m\u001b[1;33m\u001b[0m\u001b[0m\n\u001b[1;32m--> 208\u001b[1;33m         \u001b[0mresult\u001b[0m \u001b[1;33m=\u001b[0m \u001b[0mImmediateResult\u001b[0m\u001b[1;33m(\u001b[0m\u001b[0mfunc\u001b[0m\u001b[1;33m)\u001b[0m\u001b[1;33m\u001b[0m\u001b[1;33m\u001b[0m\u001b[0m\n\u001b[0m\u001b[0;32m    209\u001b[0m         \u001b[1;32mif\u001b[0m \u001b[0mcallback\u001b[0m\u001b[1;33m:\u001b[0m\u001b[1;33m\u001b[0m\u001b[1;33m\u001b[0m\u001b[0m\n\u001b[0;32m    210\u001b[0m             \u001b[0mcallback\u001b[0m\u001b[1;33m(\u001b[0m\u001b[0mresult\u001b[0m\u001b[1;33m)\u001b[0m\u001b[1;33m\u001b[0m\u001b[1;33m\u001b[0m\u001b[0m\n",
      "\u001b[1;32mD:\\anaconda\\lib\\site-packages\\joblib\\_parallel_backends.py\u001b[0m in \u001b[0;36m__init__\u001b[1;34m(self, batch)\u001b[0m\n\u001b[0;32m    570\u001b[0m         \u001b[1;31m# Don't delay the application, to avoid keeping the input\u001b[0m\u001b[1;33m\u001b[0m\u001b[1;33m\u001b[0m\u001b[0m\n\u001b[0;32m    571\u001b[0m         \u001b[1;31m# arguments in memory\u001b[0m\u001b[1;33m\u001b[0m\u001b[1;33m\u001b[0m\u001b[0m\n\u001b[1;32m--> 572\u001b[1;33m         \u001b[0mself\u001b[0m\u001b[1;33m.\u001b[0m\u001b[0mresults\u001b[0m \u001b[1;33m=\u001b[0m \u001b[0mbatch\u001b[0m\u001b[1;33m(\u001b[0m\u001b[1;33m)\u001b[0m\u001b[1;33m\u001b[0m\u001b[1;33m\u001b[0m\u001b[0m\n\u001b[0m\u001b[0;32m    573\u001b[0m \u001b[1;33m\u001b[0m\u001b[0m\n\u001b[0;32m    574\u001b[0m     \u001b[1;32mdef\u001b[0m \u001b[0mget\u001b[0m\u001b[1;33m(\u001b[0m\u001b[0mself\u001b[0m\u001b[1;33m)\u001b[0m\u001b[1;33m:\u001b[0m\u001b[1;33m\u001b[0m\u001b[1;33m\u001b[0m\u001b[0m\n",
      "\u001b[1;32mD:\\anaconda\\lib\\site-packages\\joblib\\parallel.py\u001b[0m in \u001b[0;36m__call__\u001b[1;34m(self)\u001b[0m\n\u001b[0;32m    260\u001b[0m         \u001b[1;31m# change the default number of processes to -1\u001b[0m\u001b[1;33m\u001b[0m\u001b[1;33m\u001b[0m\u001b[0m\n\u001b[0;32m    261\u001b[0m         \u001b[1;32mwith\u001b[0m \u001b[0mparallel_backend\u001b[0m\u001b[1;33m(\u001b[0m\u001b[0mself\u001b[0m\u001b[1;33m.\u001b[0m\u001b[0m_backend\u001b[0m\u001b[1;33m,\u001b[0m \u001b[0mn_jobs\u001b[0m\u001b[1;33m=\u001b[0m\u001b[0mself\u001b[0m\u001b[1;33m.\u001b[0m\u001b[0m_n_jobs\u001b[0m\u001b[1;33m)\u001b[0m\u001b[1;33m:\u001b[0m\u001b[1;33m\u001b[0m\u001b[1;33m\u001b[0m\u001b[0m\n\u001b[1;32m--> 262\u001b[1;33m             return [func(*args, **kwargs)\n\u001b[0m\u001b[0;32m    263\u001b[0m                     for func, args, kwargs in self.items]\n\u001b[0;32m    264\u001b[0m \u001b[1;33m\u001b[0m\u001b[0m\n",
      "\u001b[1;32mD:\\anaconda\\lib\\site-packages\\joblib\\parallel.py\u001b[0m in \u001b[0;36m<listcomp>\u001b[1;34m(.0)\u001b[0m\n\u001b[0;32m    260\u001b[0m         \u001b[1;31m# change the default number of processes to -1\u001b[0m\u001b[1;33m\u001b[0m\u001b[1;33m\u001b[0m\u001b[0m\n\u001b[0;32m    261\u001b[0m         \u001b[1;32mwith\u001b[0m \u001b[0mparallel_backend\u001b[0m\u001b[1;33m(\u001b[0m\u001b[0mself\u001b[0m\u001b[1;33m.\u001b[0m\u001b[0m_backend\u001b[0m\u001b[1;33m,\u001b[0m \u001b[0mn_jobs\u001b[0m\u001b[1;33m=\u001b[0m\u001b[0mself\u001b[0m\u001b[1;33m.\u001b[0m\u001b[0m_n_jobs\u001b[0m\u001b[1;33m)\u001b[0m\u001b[1;33m:\u001b[0m\u001b[1;33m\u001b[0m\u001b[1;33m\u001b[0m\u001b[0m\n\u001b[1;32m--> 262\u001b[1;33m             return [func(*args, **kwargs)\n\u001b[0m\u001b[0;32m    263\u001b[0m                     for func, args, kwargs in self.items]\n\u001b[0;32m    264\u001b[0m \u001b[1;33m\u001b[0m\u001b[0m\n",
      "\u001b[1;32mD:\\anaconda\\lib\\site-packages\\tslearn\\metrics\\dtw_variants.py\u001b[0m in \u001b[0;36mdtw\u001b[1;34m(s1, s2, global_constraint, sakoe_chiba_radius, itakura_max_slope)\u001b[0m\n\u001b[0;32m    466\u001b[0m         \u001b[0msakoe_chiba_radius\u001b[0m\u001b[1;33m=\u001b[0m\u001b[0msakoe_chiba_radius\u001b[0m\u001b[1;33m,\u001b[0m\u001b[1;33m\u001b[0m\u001b[1;33m\u001b[0m\u001b[0m\n\u001b[0;32m    467\u001b[0m         itakura_max_slope=itakura_max_slope)\n\u001b[1;32m--> 468\u001b[1;33m     \u001b[1;32mreturn\u001b[0m \u001b[0mnjit_dtw\u001b[0m\u001b[1;33m(\u001b[0m\u001b[0ms1\u001b[0m\u001b[1;33m,\u001b[0m \u001b[0ms2\u001b[0m\u001b[1;33m,\u001b[0m \u001b[0mmask\u001b[0m\u001b[1;33m=\u001b[0m\u001b[0mmask\u001b[0m\u001b[1;33m)\u001b[0m\u001b[1;33m\u001b[0m\u001b[1;33m\u001b[0m\u001b[0m\n\u001b[0m\u001b[0;32m    469\u001b[0m \u001b[1;33m\u001b[0m\u001b[0m\n\u001b[0;32m    470\u001b[0m \u001b[1;33m\u001b[0m\u001b[0m\n",
      "\u001b[1;31mKeyboardInterrupt\u001b[0m: "
     ]
    }
   ],
   "source": [
    "from tslearn.neighbors import KNeighborsTimeSeriesClassifier\n",
    "knn = KNeighborsTimeSeriesClassifier(n_neighbors=5)\n",
    "knn.fit(X_train, y_train)\n",
    "print(knn.score(X_test, y_test))"
   ]
  },
  {
   "cell_type": "code",
   "execution_count": null,
   "id": "4ec1fdbc",
   "metadata": {},
   "outputs": [],
   "source": [
    "from tslearn.svm import TimeSeriesSVC\n",
    "clf = TimeSeriesSVC(C=1.0, kernel=\"gak\")\n",
    "clf.fit(X_train, y_train)\n",
    "print(clf.score(X_test, y_test))"
   ]
  },
  {
   "cell_type": "code",
   "execution_count": null,
   "id": "40f3f211",
   "metadata": {},
   "outputs": [],
   "source": []
  }
 ],
 "metadata": {
  "kernelspec": {
   "display_name": "Python 3 (ipykernel)",
   "language": "python",
   "name": "python3"
  },
  "language_info": {
   "codemirror_mode": {
    "name": "ipython",
    "version": 3
   },
   "file_extension": ".py",
   "mimetype": "text/x-python",
   "name": "python",
   "nbconvert_exporter": "python",
   "pygments_lexer": "ipython3",
   "version": "3.9.7"
  }
 },
 "nbformat": 4,
 "nbformat_minor": 5
}
