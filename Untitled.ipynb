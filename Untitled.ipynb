{
 "cells": [
  {
   "cell_type": "code",
   "execution_count": 55,
   "id": "69643c31",
   "metadata": {},
   "outputs": [
    {
     "name": "stdout",
     "output_type": "stream",
     "text": [
      "Requirement already satisfied: iisignature in d:\\anaconda\\lib\\site-packages (0.24)\n",
      "Requirement already satisfied: numpy>1.7 in d:\\anaconda\\lib\\site-packages (from iisignature) (1.20.3)\n"
     ]
    }
   ],
   "source": [
    "\n",
    "!pip install iisignature"
   ]
  },
  {
   "cell_type": "code",
   "execution_count": 62,
   "id": "482a09f0",
   "metadata": {},
   "outputs": [
    {
     "name": "stdout",
     "output_type": "stream",
     "text": [
      "0.1994727942696716\n",
      "0.5\n"
     ]
    }
   ],
   "source": [
    "from sklearn.linear_model import ElasticNetCV\n",
    "from sklearn.linear_model import LogisticRegression\n",
    "from sklearn.datasets import make_regression\n",
    "X, y = make_regression(n_features=2, random_state=0)\n",
    "regr = ElasticNetCV(cv=5, random_state=0)\n",
    "regr.fit(X, y)\n",
    "print(regr.alpha_)\n",
    "print(regr.l1_ratio_)"
   ]
  },
  {
   "cell_type": "code",
   "execution_count": 31,
   "id": "31aeca11",
   "metadata": {},
   "outputs": [],
   "source": [
    "from scipy.io import arff\n",
    "import pandas as pd\n",
    "import numpy as np"
   ]
  },
  {
   "cell_type": "code",
   "execution_count": 5,
   "id": "7b4931ed",
   "metadata": {},
   "outputs": [],
   "source": [
    "data_train, meta_train = arff.loadarff('EyesOpenShut_TRAIN.arff')"
   ]
  },
  {
   "cell_type": "code",
   "execution_count": 25,
   "id": "ca1389aa",
   "metadata": {},
   "outputs": [
    {
     "name": "stdout",
     "output_type": "stream",
     "text": [
      "                                       relationalAtt  eyes\n",
      "0  [[4329.23, 4324.62, 4327.69, 4328.72, 4326.15,...  b'0'\n",
      "1  [[4283.59, 4284.1, 4287.18, 4291.28, 4287.18, ...  b'1'\n",
      "2  [[4323.59, 4325.13, 4322.05, 4321.54, 4321.03,...  b'1'\n",
      "3  [[4269.23, 4278.46, 4283.08, 4275.38, 4274.87,...  b'1'\n",
      "4  [[4331.28, 4328.21, 4324.1, 4322.05, 4321.03, ...  b'1'\n",
      "Index(['relationalAtt', 'eyes'], dtype='object')\n",
      "RangeIndex(start=0, stop=56, step=1)\n"
     ]
    }
   ],
   "source": [
    "df = pd.DataFrame(data_train)\n",
    "print(df.head())\n",
    "print(df.columns)\n",
    "print(df.index)\n",
    "print(len(df['relationalAtt'][0]))"
   ]
  },
  {
   "cell_type": "code",
   "execution_count": 75,
   "id": "ec008ba3",
   "metadata": {},
   "outputs": [],
   "source": [
    "X_train = df['relationalAtt'].to_numpy()\n",
    "y_train = df['eyes']\n",
    "# print(X_train)\n",
    "# from sklearn.linear_model import LogisticRegressionCV\n",
    "# clf = LogisticRegressionCV().fit(X_train,y_train)"
   ]
  },
  {
   "cell_type": "code",
   "execution_count": 41,
   "id": "e9d94d0a",
   "metadata": {},
   "outputs": [],
   "source": [
    "X_train = np.array(df['relationalAtt'])\n",
    "y_train = np.array(df['eyes'])"
   ]
  },
  {
   "cell_type": "code",
   "execution_count": 65,
   "id": "25e83309",
   "metadata": {},
   "outputs": [
    {
     "name": "stdout",
     "output_type": "stream",
     "text": [
      "0.5668934240362812\n"
     ]
    }
   ],
   "source": [
    "import tslearn\n",
    "from tslearn.datasets import UCR_UEA_datasets\n",
    "X_train, y_train, X_test, y_test = UCR_UEA_datasets().load_dataset(\"EyesOpenShut\")\n",
    "# print(X_train)\n",
    "import iisignature as sig\n",
    "arr = np.zeros((len(y_train),210))\n",
    "arr_test = np.zeros((len(y_test),210))\n",
    "for i in range(len(X_train)):\n",
    "    arr[i] = sig.sig(X_train[i], 2)\n",
    "for i in range(len(X_test)):\n",
    "    arr_test[i] = sig.sig(X_test[i], 2)\n",
    "clf = LogisticRegression(solver=\"liblinear\", random_state=0)\n",
    "clf.fit(arr, y_train)\n",
    "from sklearn.metrics import roc_auc_score\n",
    "res = roc_auc_score(y_test, clf.predict_proba(arr_test)[:, 1])\n",
    "print(res)"
   ]
  },
  {
   "cell_type": "code",
   "execution_count": 66,
   "id": "6d78a1c8",
   "metadata": {},
   "outputs": [
    {
     "name": "stdout",
     "output_type": "stream",
     "text": [
      "0.5136054421768708\n"
     ]
    }
   ],
   "source": [
    "from sklearn.ensemble import RandomForestClassifier\n",
    "clf = RandomForestClassifier()\n",
    "clf.fit(arr, y_train)\n",
    "res = roc_auc_score(y_test, clf.predict_proba(arr_test)[:, 1])\n",
    "print(res)"
   ]
  },
  {
   "cell_type": "code",
   "execution_count": 69,
   "id": "5ed90ab7",
   "metadata": {},
   "outputs": [
    {
     "name": "stdout",
     "output_type": "stream",
     "text": [
      "0.4523809523809524\n"
     ]
    }
   ],
   "source": [
    "from sklearn.metrics import accuracy_score\n",
    "res = accuracy_score(y_test, clf.predict(arr_test))\n",
    "print(res)"
   ]
  },
  {
   "cell_type": "code",
   "execution_count": 74,
   "id": "72e0c5ea",
   "metadata": {},
   "outputs": [
    {
     "name": "stdout",
     "output_type": "stream",
     "text": [
      "0.5476190476190477\n"
     ]
    }
   ],
   "source": [
    "from sklearn import svm, datasets\n",
    "from sklearn.model_selection import GridSearchCV\n",
    "parameters = {'kernel':('linear', 'poly', 'rbf', 'sigmoid'), 'C':range(1,11), 'gamma': ('scale', 'auto')}\n",
    "svc = svm.SVC()\n",
    "clf = GridSearchCV(svc, parameters, scoring='accuracy')\n",
    "clf.fit(arr, y_train)\n",
    "sorted(clf.cv_results_.keys())\n",
    "res = accuracy_score(y_test, clf.predict(arr_test))\n",
    "print(res)"
   ]
  },
  {
   "cell_type": "code",
   "execution_count": null,
   "id": "939d8fb1",
   "metadata": {},
   "outputs": [],
   "source": []
  }
 ],
 "metadata": {
  "kernelspec": {
   "display_name": "Python 3 (ipykernel)",
   "language": "python",
   "name": "python3"
  },
  "language_info": {
   "codemirror_mode": {
    "name": "ipython",
    "version": 3
   },
   "file_extension": ".py",
   "mimetype": "text/x-python",
   "name": "python",
   "nbconvert_exporter": "python",
   "pygments_lexer": "ipython3",
   "version": "3.9.7"
  }
 },
 "nbformat": 4,
 "nbformat_minor": 5
}
