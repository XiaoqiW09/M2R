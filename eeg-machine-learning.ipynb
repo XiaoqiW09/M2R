{
 "metadata": {
  "kernelspec": {
   "language": "python",
   "display_name": "Python 3",
   "name": "python3"
  },
  "language_info": {
   "name": "python",
   "version": "3.7.12",
   "mimetype": "text/x-python",
   "codemirror_mode": {
    "name": "ipython",
    "version": 3
   },
   "pygments_lexer": "ipython3",
   "nbconvert_exporter": "python",
   "file_extension": ".py"
  }
 },
 "nbformat_minor": 4,
 "nbformat": 4,
 "cells": [
  {
   "cell_type": "code",
   "source": [
    "!pip install --user sklearn\n",
    "!pip install --user iisignature\n",
    "!pip install --user tslearn"
   ],
   "metadata": {
    "execution": {
     "iopub.status.busy": "2022-06-15T19:46:14.318769Z",
     "iopub.execute_input": "2022-06-15T19:46:14.319204Z",
     "iopub.status.idle": "2022-06-15T19:47:23.539257Z",
     "shell.execute_reply.started": "2022-06-15T19:46:14.319119Z",
     "shell.execute_reply": "2022-06-15T19:47:23.537358Z"
    },
    "trusted": true
   },
   "execution_count": 1,
   "outputs": []
  },
  {
   "cell_type": "code",
   "source": [
    "# This Python 3 environment comes with many helpful analytics libraries installed\n",
    "# It is defined by the kaggle/python Docker image: https://github.com/kaggle/docker-python\n",
    "# For example, here's several helpful packages to load\n",
    "\n",
    "import numpy as np # linear algebra\n",
    "import pandas as pd # data processing, CSV file I/O (e.g. pd.read_csv)\n",
    "\n",
    "# Input data files are available in the read-only \"../input/\" directory\n",
    "# For example, running this (by clicking run or pressing Shift+Enter) will list all files under the input directory\n",
    "\n",
    "import os\n",
    "for dirname, _, filenames in os.walk('kaggle kernels output ruslankl/eeg-data-analysis -p /path/to/dest'):\n",
    "    for filename in filenames:\n",
    "        print(os.path.join(dirname, filename))\n",
    "\n",
    "# You can write up to 20GB to the current directory (/kaggle/working/) that gets preserved as output when you create a version using \"Save & Run All\" \n",
    "# You can also write temporary files to /kaggle/temp/, but they won't be saved outside of the current session\n",
    "import numpy as np\n",
    "import pandas as pd \n",
    "import os\n",
    "import random\n",
    "from tqdm import tqdm\n",
    "import matplotlib\n",
    "import seaborn as sns\n",
    "import matplotlib.pyplot as plt\n",
    "import plotly.graph_objs as go\n",
    "from plotly.offline import init_notebook_mode, iplot\n",
    "from plotly import tools\n",
    "from scipy.stats import mannwhitneyu\n",
    "import iisignature as sig\n",
    "\n",
    "init_notebook_mode(connected=True) ## plotly init\n",
    "seed = 123\n",
    "random.seed = seed"
   ],
   "metadata": {
    "execution": {
     "iopub.status.busy": "2022-06-15T19:47:23.543426Z",
     "iopub.execute_input": "2022-06-15T19:47:23.544465Z",
     "iopub.status.idle": "2022-06-15T19:47:24.377875Z",
     "shell.execute_reply.started": "2022-06-15T19:47:23.544418Z",
     "shell.execute_reply": "2022-06-15T19:47:24.376869Z"
    },
    "trusted": true
   },
   "execution_count": 2,
   "outputs": []
  },
  {
   "cell_type": "code",
   "source": [
    "#data import\n",
    "filenames_list = os.listdir('../input/Alcoholics/SMNI_CMI_TRAIN/Train') ## list of file names in the directory\n",
    "EEG_data = pd.DataFrame({}) ## create an empty df that will hold data from each file\n",
    "print(len(filenames_list))\n",
    "for file_name in tqdm(filenames_list):\n",
    "    temp_df = pd.read_csv('../input/Alcoholics/SMNI_CMI_TRAIN/Train/' + file_name) ## read from the file to df\n",
    "    EEG_data = EEG_data.append(temp_df) ## add the file data to the main df\n",
    "    \n",
    "EEG_data = EEG_data.drop(['Unnamed: 0'], axis=1) ## remove the unused column\n",
    "EEG_data.loc[EEG_data['matching condition'] == 'S2 nomatch,', 'matching condition'] =  'S2 nomatch' ## remove comma sign from stimulus name"
   ],
   "metadata": {
    "execution": {
     "iopub.status.busy": "2022-06-15T19:47:24.379299Z",
     "iopub.execute_input": "2022-06-15T19:47:24.380263Z",
     "iopub.status.idle": "2022-06-15T19:50:10.274629Z",
     "shell.execute_reply.started": "2022-06-15T19:47:24.380195Z",
     "shell.execute_reply": "2022-06-15T19:50:10.273776Z"
    },
    "trusted": true
   },
   "execution_count": 3,
   "outputs": []
  },
  {
   "cell_type": "code",
   "source": [
    "#example try for create train set\n",
    "temp_df = pd.read_csv('../input/Alcoholics/SMNI_CMI_TRAIN/Train/Data1.csv')\n",
    "print(temp_df['subject identifier'][0])\n",
    "print(temp_df[\"matching condition\"][0])\n",
    "print(np.array(temp_df[\"sensor value\"]).reshape([64,256]))\n"
   ],
   "metadata": {
    "execution": {
     "iopub.status.busy": "2022-06-15T19:50:10.277009Z",
     "iopub.execute_input": "2022-06-15T19:50:10.278335Z",
     "iopub.status.idle": "2022-06-15T19:50:10.306185Z",
     "shell.execute_reply.started": "2022-06-15T19:50:10.278282Z",
     "shell.execute_reply": "2022-06-15T19:50:10.305261Z"
    },
    "trusted": true
   },
   "execution_count": 4,
   "outputs": []
  },
  {
   "cell_type": "code",
   "source": [
    "#S1: S1 obj - a single object shown;\n",
    "s1 = 0\n",
    "#S12: S2 nomatch - object 2 shown in a non matching condition (S1 differed from S2)\n",
    "s12 = 0\n",
    "#S21: S2 match - object 2 shown in a matching condition (S1 was identical to S2),\n",
    "s21 = 0\n",
    "s1_X_train = np.zeros((160,256,64))\n",
    "s1_y_train = np.zeros(160)\n",
    "s21_X_train = np.zeros((159,256,64))\n",
    "s21_y_train = np.zeros(159)\n",
    "s12_X_train = np.zeros((149,256,64))\n",
    "s12_y_train = np.zeros(149)\n",
    "\n",
    "\n",
    "classifier = {'a':1,'c':0}\n",
    "\n",
    "filenames_list = os.listdir('../input/Alcoholics/SMNI_CMI_TRAIN/Train') ## list of file names in the directory\n",
    "EEG_data = pd.DataFrame({}) ## create an empty df that will hold data from each file\n",
    "print(len(filenames_list))\n",
    "for file_name in tqdm(filenames_list):\n",
    "    temp_df = pd.read_csv('../input/Alcoholics/SMNI_CMI_TRAIN/Train/' + file_name) ## read from the file to df\n",
    "    if temp_df[\"matching condition\"][0] == \"S1 obj\":\n",
    "        s1_X_train[s1] = np.transpose(np.array(temp_df[\"sensor value\"]).reshape([64,256]))\n",
    "        s1_y_train[s1] = classifier[temp_df['subject identifier'][0]]\n",
    "        s1 += 1\n",
    "    if temp_df[\"matching condition\"][0] == \"S2 match\":\n",
    "        s21_X_train[s21] = np.transpose(np.array(temp_df[\"sensor value\"]).reshape([64,256]))\n",
    "        s21_y_train[s21] = classifier[temp_df['subject identifier'][0]]\n",
    "        s21 += 1\n",
    "    if temp_df[\"matching condition\"][0] == \"S2 nomatch,\":\n",
    "        s12_X_train[s12] = np.transpose(np.array(temp_df[\"sensor value\"]).reshape([64,256]))\n",
    "        s12_y_train[s12] = classifier[temp_df['subject identifier'][0]]\n",
    "        s12 += 1\n",
    "print(s1)\n",
    "print(s21)\n",
    "print(s12)\n"
   ],
   "metadata": {
    "execution": {
     "iopub.status.busy": "2022-06-15T19:50:10.307822Z",
     "iopub.execute_input": "2022-06-15T19:50:10.308772Z",
     "iopub.status.idle": "2022-06-15T19:50:19.890885Z",
     "shell.execute_reply.started": "2022-06-15T19:50:10.308729Z",
     "shell.execute_reply": "2022-06-15T19:50:19.889966Z"
    },
    "trusted": true
   },
   "execution_count": 5,
   "outputs": []
  },
  {
   "cell_type": "code",
   "source": [
    "#t1: S1 obj - a single object shown;\n",
    "t1 = 0\n",
    "#t12: S2 nomatch - object 2 shown in a non matching condition (S1 differed from S2)\n",
    "t12 = 0\n",
    "#t21: S2 match - object 2 shown in a matching condition (S1 was identical to S2),\n",
    "t21 = 0\n",
    "t1_X_test = np.zeros((160,256,64))\n",
    "t1_y_test = np.zeros(160)\n",
    "t21_X_test = np.zeros((160,256,64))\n",
    "t21_y_test = np.zeros(160)\n",
    "t12_X_test = np.zeros((160,256,64))\n",
    "t12_y_test = np.zeros(160)\n",
    "\n",
    "\n",
    "classifier = {'a':1,'c':0}\n",
    "\n",
    "filenames_list = os.listdir('../input/Alcoholics/SMNI_CMI_TEST') ## list of file names in the directory\n",
    "EEG_data = pd.DataFrame({}) ## create an empty df that will hold data from each file\n",
    "print(len(filenames_list))\n",
    "for file_name in tqdm(filenames_list):\n",
    "    if file_name == \"Test\":\n",
    "        pass\n",
    "    else:\n",
    "        temp_df = pd.read_csv('../input/Alcoholics/SMNI_CMI_TEST/' + file_name) ## read from the file to df\n",
    "        if temp_df[\"matching condition\"][0] == \"S1 obj\":\n",
    "            t1_X_test[t1] = np.transpose(np.array(temp_df[\"sensor value\"]).reshape([64,256]))\n",
    "            t1_y_test[t1] = classifier[temp_df['subject identifier'][0]]\n",
    "            t1 += 1\n",
    "        if temp_df[\"matching condition\"][0] == \"S2 match\":\n",
    "            t21_X_test[t21] = np.transpose(np.array(temp_df[\"sensor value\"]).reshape([64,256]))\n",
    "            t21_y_test[t21] = classifier[temp_df['subject identifier'][0]]\n",
    "            t21 += 1\n",
    "        if temp_df[\"matching condition\"][0] == \"S2 nomatch,\":\n",
    "            t12_X_test[t12] = np.transpose(np.array(temp_df[\"sensor value\"]).reshape([64,256]))\n",
    "            t12_y_test[t12] = classifier[temp_df['subject identifier'][0]]\n",
    "            t12 += 1\n",
    "print(t1)\n",
    "print(t21)\n",
    "print(t12)\n"
   ],
   "metadata": {
    "execution": {
     "iopub.status.busy": "2022-06-15T19:50:19.892204Z",
     "iopub.execute_input": "2022-06-15T19:50:19.892571Z",
     "iopub.status.idle": "2022-06-15T19:50:37.362015Z",
     "shell.execute_reply.started": "2022-06-15T19:50:19.892543Z",
     "shell.execute_reply": "2022-06-15T19:50:37.361056Z"
    },
    "trusted": true
   },
   "execution_count": 6,
   "outputs": []
  },
  {
   "cell_type": "code",
   "source": [
    "from tslearn.neighbors import KNeighborsTimeSeriesClassifier\n",
    "from tqdm import tqdm\n",
    "for i in tqdm(range(3,20)):\n",
    "    knn = KNeighborsTimeSeriesClassifier(n_neighbors=i, n_jobs=10)\n",
    "    knn.fit(s1_X_train, s1_y_train)\n",
    "    print(knn.score(t1_X_test,t1_y_test))"
   ],
   "metadata": {
    "execution": {
     "iopub.status.busy": "2022-06-15T19:50:37.363351Z",
     "iopub.execute_input": "2022-06-15T19:50:37.363647Z"
    },
    "trusted": true
   },
   "execution_count": null,
   "outputs": []
  },
  {
   "cell_type": "code",
   "source": [
    "from tslearn.svm import TimeSeriesSVC\n",
    "clf = TimeSeriesSVC(C=1.0, kernel=\"gak\", n_jobs=10)\n",
    "clf.fit(s1_X_train, s1_y_train)\n",
    "print(clf.score(t1_X_test, t1_y_test))"
   ],
   "metadata": {
    "trusted": true
   },
   "execution_count": null,
   "outputs": []
  },
  {
   "cell_type": "code",
   "source": "s1_sig_train = sig.sig(s1_X_train, 2)\ns1_sig_test = sig.sig(t1_X_test, 2)",
   "metadata": {
    "trusted": true
   },
   "execution_count": null,
   "outputs": []
  },
  {
   "cell_type": "code",
   "source": "from sklearn.ensemble import RandomForestClassifier\nclf = RandomForestClassifier()\nclf.fit(s1_sig_train, s1_y_train)\ny_pred_proba = clf.predict_proba(s1_sig_test)[:,1]\ny_pred = clf.predict(s1_sig_test)\n\nfrom plot_metric.functions import BinaryClassification\nimport matplotlib.pyplot as plt\n# Visualisation with plot_metric\nfrom sklearn.metrics import accuracy_score\nbc = BinaryClassification(t1_y_test, y_pred_proba, labels=[\"Class 0\", \"Class 1\"])\n# Figures\nplt.figure(figsize=(5,5))\nbc.plot_roc_curve()\nplt.title(\"Receiver Operating Characteristic Using Random Forest\")\nplt.show()\nscore = accuracy_score(t1_y_test, y_pred)\nprint(\"score is \" + str(score))\n",
   "metadata": {
    "trusted": true
   },
   "execution_count": null,
   "outputs": []
  },
  {
   "cell_type": "code",
   "source": "from sklearn.linear_model import LogisticRegression\nclf = LogisticRegression()\nclf.fit(s1_sig_train, s1_y_train)\ny_pred_proba = clf.predict_proba(s1_sig_test)[:,1]\ny_pred = clf.predict(s1_sig_test)\n\nfrom plot_metric.functions import BinaryClassification\nimport matplotlib.pyplot as plt\n# Visualisation with plot_metric\nfrom sklearn.metrics import accuracy_score\nbc = BinaryClassification(t1_y_test, y_pred_proba, labels=[\"Class 0\", \"Class 1\"])\n# Figures\nplt.figure(figsize=(5,5))\nbc.plot_roc_curve()\nplt.title(\"Receiver Operating Characteristic Using Logistic Regression\")\nplt.show()\nscore = accuracy_score(t1_y_test, y_pred)\nprint(\"score is \" + str(score))\n",
   "metadata": {
    "trusted": true
   },
   "execution_count": null,
   "outputs": []
  },
  {
   "cell_type": "code",
   "source": "from sklearn.svm import SVC\nclf = SVC(probability=True)\nclf.fit(s1_sig_train, s1_y_train)\ny_pred_proba = clf.predict_proba(s1_sig_test)[:,1]\ny_pred = clf.predict(s1_sig_test)\n\nfrom plot_metric.functions import BinaryClassification\nimport matplotlib.pyplot as plt\n# Visualisation with plot_metric\nfrom sklearn.metrics import accuracy_score\nbc = BinaryClassification(t1_y_test, y_pred_proba, labels=[\"Class 0\", \"Class 1\"])\n# Figures\nplt.figure(figsize=(5,5))\nbc.plot_roc_curve()\nplt.title(\"Receiver Operating Characteristic Using SVC\")\nplt.show()\nscore = accuracy_score(t1_y_test, y_pred)\nprint(\"score is \" + str(score))",
   "metadata": {
    "trusted": true
   },
   "execution_count": null,
   "outputs": []
  },
  {
   "cell_type": "code",
   "source": "from sklearn.neighbors import KNeighborsClassifier\nfor i in tqdm(range(3,20)):\n    knn = KNeighborsClassifier(n_neighbors=i)\n    knn.fit(s1_sig_train, s1_y_train)\n    y_pred = knn.predict(s1_sig_test)\n    print(accuracy_score(t1_y_test, y_pred))",
   "metadata": {
    "trusted": true
   },
   "execution_count": null,
   "outputs": []
  },
  {
   "cell_type": "code",
   "source": "from sklearn.ensemble import AdaBoostClassifier\nclf = AdaBoostClassifier()\nclf.fit(s1_sig_train, s1_y_train)\ny_pred_proba = clf.predict_proba(s1_sig_test)[:,1]\ny_pred = clf.predict(s1_sig_test)\n\nfrom plot_metric.functions import BinaryClassification\nimport matplotlib.pyplot as plt\n# Visualisation with plot_metric\nfrom sklearn.metrics import accuracy_score\nbc = BinaryClassification(t1_y_test, y_pred_proba, labels=[\"Class 0\", \"Class 1\"])\n# Figures\nplt.figure(figsize=(5,5))\nbc.plot_roc_curve()\nplt.title(\"Receiver Operating Characteristic Using AdaBoostClassifier\")\nplt.show()\nscore = accuracy_score(t1_y_test, y_pred)\nprint(\"score is \" + str(score))",
   "metadata": {
    "trusted": true
   },
   "execution_count": null,
   "outputs": []
  },
  {
   "cell_type": "code",
   "source": "",
   "metadata": {},
   "execution_count": null,
   "outputs": []
  },
  {
   "cell_type": "code",
   "source": "",
   "metadata": {},
   "execution_count": null,
   "outputs": []
  },
  {
   "cell_type": "code",
   "source": "",
   "metadata": {},
   "execution_count": null,
   "outputs": []
  },
  {
   "cell_type": "code",
   "source": "from tslearn.neighbors import KNeighborsTimeSeriesClassifier\nfrom tqdm import tqdm\nfor i in tqdm(range(3,20)):\n    knn = KNeighborsTimeSeriesClassifier(n_neighbors=i, n_jobs=12)\n    knn.fit(s12_X_train, s12_y_train)\n    print(knn.score(t12_X_test,t12_y_test))",
   "metadata": {
    "trusted": true
   },
   "execution_count": null,
   "outputs": []
  },
  {
   "cell_type": "code",
   "source": "from tslearn.svm import TimeSeriesSVC\nimport datetime\nstart = datetime.datetime.now()\nclf = TimeSeriesSVC(C=1.0, kernel=\"gak\")\nclf.fit(s12_X_train, s12_y_train)\nscore = clf.score(t12_X_test, t12_y_test)\nend = datetime.datetime.now()\nprint(score)\nprint(end-start)",
   "metadata": {
    "trusted": true
   },
   "execution_count": null,
   "outputs": []
  },
  {
   "cell_type": "code",
   "source": "s12_sig_train = sig.sig(s12_X_train, 2)\ns12_sig_test = sig.sig(t12_X_test, 2)",
   "metadata": {
    "trusted": true
   },
   "execution_count": null,
   "outputs": []
  },
  {
   "cell_type": "code",
   "source": "from sklearn.ensemble import RandomForestClassifier\nstart = datetime.datetime.now()\nclf = RandomForestClassifier()\nclf.fit(s12_sig_train, s12_y_train)\ny_pred_proba = clf.predict_proba(s12_sig_test)[:,1]\ny_pred = clf.predict(s12_sig_test)\n\nfrom plot_metric.functions import BinaryClassification\nimport matplotlib.pyplot as plt\n# Visualisation with plot_metric\nfrom sklearn.metrics import accuracy_score\nbc = BinaryClassification(t12_y_test, y_pred_proba, labels=[\"Class 0\", \"Class 1\"])\n# Figures\nplt.figure(figsize=(5,5))\nbc.plot_roc_curve()\nplt.title(\"Receiver Operating Characteristic Using Random Forest\")\nplt.show()\nscore = accuracy_score(t12_y_test, y_pred)\nend = datetime.datetime.now()\nprint(\"score is \" + str(score))\nprint(end-start)\n",
   "metadata": {
    "trusted": true
   },
   "execution_count": null,
   "outputs": []
  },
  {
   "cell_type": "code",
   "source": "from sklearn.linear_model import LogisticRegression\nstart = datetime.datetime.now()\nclf = LogisticRegression()\nclf.fit(s12_sig_train, s12_y_train)\ny_pred_proba = clf.predict_proba(s12_sig_test)[:,1]\ny_pred = clf.predict(s12_sig_test)\n\nfrom plot_metric.functions import BinaryClassification\nimport matplotlib.pyplot as plt\n# Visualisation with plot_metric\nfrom sklearn.metrics import accuracy_score\nbc = BinaryClassification(t12_y_test, y_pred_proba, labels=[\"Class 0\", \"Class 1\"])\n# Figures\nplt.figure(figsize=(5,5))\nbc.plot_roc_curve()\nplt.title(\"Receiver Operating Characteristic Using LogisticRegression\")\nplt.show()\nscore = accuracy_score(t12_y_test, y_pred)\nend = datetime.datetime.now()\nprint(\"score is \" + str(score))\nprint(end-start)",
   "metadata": {
    "trusted": true
   },
   "execution_count": null,
   "outputs": []
  },
  {
   "cell_type": "code",
   "source": "from sklearn.svm import SVC\nstart = datetime.datetime.now()\nclf = SVC(probability = True)\nclf.fit(s12_sig_train, s12_y_train)\ny_pred_proba = clf.predict_proba(s12_sig_test)[:,1]\ny_pred = clf.predict(s12_sig_test)\n\nfrom plot_metric.functions import BinaryClassification\nimport matplotlib.pyplot as plt\n# Visualisation with plot_metric\nfrom sklearn.metrics import accuracy_score\nbc = BinaryClassification(t12_y_test, y_pred_proba, labels=[\"Class 0\", \"Class 1\"])\n# Figures\nplt.figure(figsize=(5,5))\nbc.plot_roc_curve()\nplt.title(\"Receiver Operating Characteristic Using SVC\")\nplt.show()\nscore = accuracy_score(t12_y_test, y_pred)\nend = datetime.datetime.now()\nprint(\"score is \" + str(score))\nprint(end-start)",
   "metadata": {
    "trusted": true
   },
   "execution_count": null,
   "outputs": []
  },
  {
   "cell_type": "code",
   "source": "from sklearn.neighbors import KNeighborsClassifier\nfor i in tqdm(range(3,20)):\n    knn = KNeighborsClassifier(n_neighbors=i)\n    knn.fit(s12_sig_train, s12_y_train)\n    y_pred = knn.predict(s12_sig_test)\n    print(accuracy_score(t12_y_test, y_pred))",
   "metadata": {
    "trusted": true
   },
   "execution_count": null,
   "outputs": []
  },
  {
   "cell_type": "code",
   "source": "from sklearn.ensemble import AdaBoostClassifier\nstart = datetime.datetime.now()\nclf = AdaBoostClassifier()\nclf.fit(s12_sig_train, s12_y_train)\ny_pred_proba = clf.predict_proba(s12_sig_test)[:,1]\ny_pred = clf.predict(s12_sig_test)\n\nfrom plot_metric.functions import BinaryClassification\nimport matplotlib.pyplot as plt\n# Visualisation with plot_metric\nfrom sklearn.metrics import accuracy_score\nbc = BinaryClassification(t12_y_test, y_pred_proba, labels=[\"Class 0\", \"Class 1\"])\n# Figures\nplt.figure(figsize=(5,5))\nbc.plot_roc_curve()\nplt.title(\"Receiver Operating Characteristic Using AdaBoostClassifier\")\nplt.show()\nscore = accuracy_score(t12_y_test, y_pred)\nend = datetime.datetime.now()\nprint(\"score is \" + str(score))\nprint(end-start)",
   "metadata": {
    "trusted": true
   },
   "execution_count": null,
   "outputs": []
  },
  {
   "cell_type": "code",
   "source": "",
   "metadata": {},
   "execution_count": null,
   "outputs": []
  }
 ]
}